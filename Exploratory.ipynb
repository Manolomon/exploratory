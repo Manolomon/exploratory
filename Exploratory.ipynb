{
 "cells": [
  {
   "cell_type": "markdown",
   "metadata": {},
   "source": [
    "# Exploración de base de datos de Atributos de calidad\n",
    "\n",
    "> Se visitó el 14 de Diciembre de 2019 el sitio http://ctp.di.fct.unl.pt/RE2017/pages/submission/data_papers/\n",
    "\n",
    "Se encuentran tres _datasets_, sin embargo in interés principal de este estudio es identificar _Quality Attributes_, así que se utiliza la base de datos de [_Quality Attributes_](http://ctp.di.fct.unl.pt/RE2017//downloads/datasets/nfr.arff) que pertenece a [_TeraPROMISE_](https://terapromise.csc.ncsu.edu/!/#repo/view/head/requirements/nfr) y se queda a discusión usar [_SecReq_](http://www.se.uni-hannover.de/pages/en:projekte_re_secreq), que sólo involucra atributos de seguridad."
   ]
  },
  {
   "cell_type": "code",
   "execution_count": 1,
   "metadata": {
    "scrolled": true
   },
   "outputs": [
    {
     "data": {
      "text/html": [
       "<script>\n",
       "code_show=true; \n",
       "function code_toggle() {\n",
       " if (code_show){\n",
       " $('div.input').hide();\n",
       " } else {\n",
       " $('div.input').show();\n",
       " }\n",
       " code_show = !code_show\n",
       "} \n",
       "$( document ).ready(code_toggle);\n",
       "</script>\n",
       "<form action=\"javascript:code_toggle()\"><input type=\"submit\" value=\"Ocultar/Mostrar Código\"></form>"
      ],
      "text/plain": [
       "<IPython.core.display.HTML object>"
      ]
     },
     "execution_count": 1,
     "metadata": {},
     "output_type": "execute_result"
    }
   ],
   "source": [
    "from IPython.display import HTML\n",
    "\n",
    "HTML('''<script>\n",
    "code_show=true; \n",
    "function code_toggle() {\n",
    " if (code_show){\n",
    " $('div.input').hide();\n",
    " } else {\n",
    " $('div.input').show();\n",
    " }\n",
    " code_show = !code_show\n",
    "} \n",
    "$( document ).ready(code_toggle);\n",
    "</script>\n",
    "<form action=\"javascript:code_toggle()\"><input type=\"submit\" value=\"Ocultar/Mostrar Código\"></form>''')"
   ]
  },
  {
   "cell_type": "code",
   "execution_count": 42,
   "metadata": {},
   "outputs": [],
   "source": [
    "import pickle\n",
    "import pandas as pd\n",
    "import matplotlib.pyplot as plt\n",
    "import seaborn as sns\n",
    "sns.set_style(\"whitegrid\")\n",
    "import altair as alt\n",
    "alt.renderers.enable(\"default\")\n",
    "\n",
    "from pywaffle import Waffle\n",
    "\n",
    "# Code for hiding seaborn warnings\n",
    "import warnings\n",
    "warnings.filterwarnings(\"ignore\")"
   ]
  },
  {
   "cell_type": "code",
   "execution_count": 2,
   "metadata": {},
   "outputs": [
    {
     "data": {
      "text/html": [
       "<div>\n",
       "<style scoped>\n",
       "    .dataframe tbody tr th:only-of-type {\n",
       "        vertical-align: middle;\n",
       "    }\n",
       "\n",
       "    .dataframe tbody tr th {\n",
       "        vertical-align: top;\n",
       "    }\n",
       "\n",
       "    .dataframe thead th {\n",
       "        text-align: right;\n",
       "    }\n",
       "</style>\n",
       "<table border=\"1\" class=\"dataframe\">\n",
       "  <thead>\n",
       "    <tr style=\"text-align: right;\">\n",
       "      <th></th>\n",
       "      <th>ProjectID</th>\n",
       "      <th>RequirementText</th>\n",
       "      <th>class</th>\n",
       "    </tr>\n",
       "  </thead>\n",
       "  <tbody>\n",
       "    <tr>\n",
       "      <td>0</td>\n",
       "      <td>1</td>\n",
       "      <td>'The system shall refresh the display every 60...</td>\n",
       "      <td>PE</td>\n",
       "    </tr>\n",
       "    <tr>\n",
       "      <td>1</td>\n",
       "      <td>1</td>\n",
       "      <td>'The application shall match the color of the ...</td>\n",
       "      <td>LF</td>\n",
       "    </tr>\n",
       "    <tr>\n",
       "      <td>2</td>\n",
       "      <td>1</td>\n",
       "      <td>' If projected  the data must be readable.  On...</td>\n",
       "      <td>US</td>\n",
       "    </tr>\n",
       "    <tr>\n",
       "      <td>3</td>\n",
       "      <td>1</td>\n",
       "      <td>' The product shall be available during normal...</td>\n",
       "      <td>A</td>\n",
       "    </tr>\n",
       "    <tr>\n",
       "      <td>4</td>\n",
       "      <td>1</td>\n",
       "      <td>' If projected  the data must be understandabl...</td>\n",
       "      <td>US</td>\n",
       "    </tr>\n",
       "    <tr>\n",
       "      <td>...</td>\n",
       "      <td>...</td>\n",
       "      <td>...</td>\n",
       "      <td>...</td>\n",
       "    </tr>\n",
       "    <tr>\n",
       "      <td>620</td>\n",
       "      <td>15</td>\n",
       "      <td>'\\tUser access should be limited to the permis...</td>\n",
       "      <td>SE</td>\n",
       "    </tr>\n",
       "    <tr>\n",
       "      <td>621</td>\n",
       "      <td>15</td>\n",
       "      <td>' \\tThe product must comply with the intranet ...</td>\n",
       "      <td>LF</td>\n",
       "    </tr>\n",
       "    <tr>\n",
       "      <td>622</td>\n",
       "      <td>15</td>\n",
       "      <td>' The intranet pages should display appropriat...</td>\n",
       "      <td>LF</td>\n",
       "    </tr>\n",
       "    <tr>\n",
       "      <td>623</td>\n",
       "      <td>15</td>\n",
       "      <td>' \\tThe users should be able to easily use the...</td>\n",
       "      <td>US</td>\n",
       "    </tr>\n",
       "    <tr>\n",
       "      <td>624</td>\n",
       "      <td>15</td>\n",
       "      <td>' \\tThe product interface should be fast. The ...</td>\n",
       "      <td>PE</td>\n",
       "    </tr>\n",
       "  </tbody>\n",
       "</table>\n",
       "<p>625 rows × 3 columns</p>\n",
       "</div>"
      ],
      "text/plain": [
       "     ProjectID                                    RequirementText class\n",
       "0            1  'The system shall refresh the display every 60...    PE\n",
       "1            1  'The application shall match the color of the ...    LF\n",
       "2            1  ' If projected  the data must be readable.  On...    US\n",
       "3            1  ' The product shall be available during normal...     A\n",
       "4            1  ' If projected  the data must be understandabl...    US\n",
       "..         ...                                                ...   ...\n",
       "620         15  '\\tUser access should be limited to the permis...    SE\n",
       "621         15  ' \\tThe product must comply with the intranet ...    LF\n",
       "622         15  ' The intranet pages should display appropriat...    LF\n",
       "623         15  ' \\tThe users should be able to easily use the...    US\n",
       "624         15  ' \\tThe product interface should be fast. The ...    PE\n",
       "\n",
       "[625 rows x 3 columns]"
      ]
     },
     "execution_count": 2,
     "metadata": {},
     "output_type": "execute_result"
    }
   ],
   "source": [
    "data = pd.read_csv('nfr.csv')\n",
    "data"
   ]
  },
  {
   "cell_type": "markdown",
   "metadata": {},
   "source": [
    "## Análisis Exploratorio de Datos"
   ]
  },
  {
   "cell_type": "code",
   "execution_count": 3,
   "metadata": {},
   "outputs": [
    {
     "data": {
      "text/html": [
       "\n",
       "<div id=\"altair-viz-1\"></div>\n",
       "<script type=\"text/javascript\">\n",
       "  (function(spec, embedOpt){\n",
       "    const outputDiv = document.getElementById(\"altair-viz-1\");\n",
       "    const paths = {\n",
       "      \"vega\": \"https://cdn.jsdelivr.net/npm//vega@5?noext\",\n",
       "      \"vega-lib\": \"https://cdn.jsdelivr.net/npm//vega-lib?noext\",\n",
       "      \"vega-lite\": \"https://cdn.jsdelivr.net/npm//vega-lite@4.0.0?noext\",\n",
       "      \"vega-embed\": \"https://cdn.jsdelivr.net/npm//vega-embed@6?noext\",\n",
       "    };\n",
       "\n",
       "    function loadScript(lib) {\n",
       "      return new Promise(function(resolve, reject) {\n",
       "        var s = document.createElement('script');\n",
       "        s.src = paths[lib];\n",
       "        s.async = true;\n",
       "        s.onload = () => resolve(paths[lib]);\n",
       "        s.onerror = () => reject(`Error loading script: ${paths[lib]}`);\n",
       "        document.getElementsByTagName(\"head\")[0].appendChild(s);\n",
       "      });\n",
       "    }\n",
       "\n",
       "    function showError(err) {\n",
       "      outputDiv.innerHTML = `<div class=\"error\" style=\"color:red;\">${err}</div>`;\n",
       "      throw err;\n",
       "    }\n",
       "\n",
       "    function displayChart(vegaEmbed) {\n",
       "      vegaEmbed(outputDiv, spec, embedOpt)\n",
       "        .catch(err => showError(`Javascript Error: ${err.message}<br>This usually means there's a typo in your chart specification. See the javascript console for the full traceback.`));\n",
       "    }\n",
       "\n",
       "    if(typeof define === \"function\" && define.amd) {\n",
       "      requirejs.config({paths});\n",
       "      require([\"vega-embed\"], displayChart, err => showError(`Error loading script: ${err.message}`));\n",
       "    } else if (typeof vegaEmbed === \"function\") {\n",
       "      displayChart(vegaEmbed);\n",
       "    } else {\n",
       "      loadScript(\"vega\")\n",
       "        .then(() => loadScript(\"vega-lite\"))\n",
       "        .then(() => loadScript(\"vega-embed\"))\n",
       "        .catch(showError)\n",
       "        .then(() => displayChart(vegaEmbed));\n",
       "    }\n",
       "  })({\"config\": {\"view\": {\"continuousWidth\": 400, \"continuousHeight\": 300}}, \"layer\": [{\"mark\": {\"type\": \"bar\", \"size\": 50}, \"encoding\": {\"color\": {\"type\": \"nominal\", \"field\": \"class\"}, \"tooltip\": [{\"type\": \"quantitative\", \"aggregate\": \"count\", \"title\": \"Frecuencia\"}, {\"type\": \"nominal\", \"field\": \"class\"}], \"x\": {\"type\": \"nominal\", \"axis\": {\"title\": \"Categor\\u00eda\"}, \"field\": \"class\"}, \"y\": {\"type\": \"quantitative\", \"aggregate\": \"count\", \"axis\": {\"title\": \"Frecuencia\"}}}, \"selection\": {\"selector001\": {\"type\": \"interval\", \"bind\": \"scales\", \"encodings\": [\"x\", \"y\"]}}}, {\"mark\": {\"type\": \"text\", \"align\": \"center\", \"baseline\": \"bottom\"}, \"encoding\": {\"color\": {\"type\": \"nominal\", \"field\": \"class\"}, \"text\": {\"type\": \"quantitative\", \"aggregate\": \"count\"}, \"tooltip\": [{\"type\": \"quantitative\", \"aggregate\": \"count\", \"title\": \"Frecuencia\"}, {\"type\": \"nominal\", \"field\": \"class\"}], \"x\": {\"type\": \"nominal\", \"axis\": {\"title\": \"Categor\\u00eda\"}, \"field\": \"class\"}, \"y\": {\"type\": \"quantitative\", \"aggregate\": \"count\", \"axis\": {\"title\": \"Frecuencia\"}}}}], \"data\": {\"name\": \"data-5c88f379ed5fc924c7703a20805b5212\"}, \"height\": 300, \"title\": \"Distribuci\\u00f3n de las Categor\\u00edas\", \"width\": 700, \"$schema\": \"https://vega.github.io/schema/vega-lite/v4.0.0.json\", \"datasets\": {\"data-5c88f379ed5fc924c7703a20805b5212\": [{\"ProjectID\": 1, \"RequirementText\": \"'The system shall refresh the display every 60 seconds.'\", \"class\": \"PE\"}, {\"ProjectID\": 1, \"RequirementText\": \"'The application shall match the color of the schema set forth by Department of Homeland Security'\", \"class\": \"LF\"}, {\"ProjectID\": 1, \"RequirementText\": \"' If projected  the data must be readable.  On a 10x10 projection screen  90\\\\% of viewers must be able to read Event / Activity data from a viewing distance of 30'\", \"class\": \"US\"}, {\"ProjectID\": 1, \"RequirementText\": \"' The product shall be available during normal business hours. As long as the user has access to the client PC  the system will be available 99\\\\% of the time during the first six months of operation.'\", \"class\": \"A\"}, {\"ProjectID\": 1, \"RequirementText\": \"' If projected  the data must be understandable. On a 10x10 projection screen  90\\\\% of viewers must be able to determine that Events or Activities are occuring in current time from a viewing distance of 100'\", \"class\": \"US\"}, {\"ProjectID\": 1, \"RequirementText\": \"'The product shall ensure that it can only be accessed by authorized users.  The product will be able to distinguish between authorized and unauthorized users in all access attempts'\", \"class\": \"SE\"}, {\"ProjectID\": 1, \"RequirementText\": \"'The product shall be intuitive and self-explanatory.  :  90\\\\% of new users shall be able to start the display of Events or Activities within 90 minutes of using the product.'\", \"class\": \"US\"}, {\"ProjectID\": 1, \"RequirementText\": \"'The product shall respond fast to keep up-to-date data in the display.'\", \"class\": \"PE\"}, {\"ProjectID\": 1, \"RequirementText\": \"'The system shall have a MDI form that allows for the viewing of the graph and the data table.'\", \"class\": \"F\"}, {\"ProjectID\": 1, \"RequirementText\": \"'The system shall display Events in a vertical table by time.'\", \"class\": \"F\"}, {\"ProjectID\": 1, \"RequirementText\": \"'The system shall display the Events in a graph by time.'\", \"class\": \"F\"}, {\"ProjectID\": 1, \"RequirementText\": \"'The system shall display Events or Activities.'\", \"class\": \"F\"}, {\"ProjectID\": 1, \"RequirementText\": \"' The display shall have two regions:  left 2/3 of the display is graphical  right 1/3 of the display is a data table'\", \"class\": \"F\"}, {\"ProjectID\": 1, \"RequirementText\": \"'The data displayed in both the nodes within the graph and the rows in the table are MSEL Summary data'\", \"class\": \"F\"}, {\"ProjectID\": 1, \"RequirementText\": \"'The table side of the display shall be split into 2 regions: sequential and temporal.'\", \"class\": \"F\"}, {\"ProjectID\": 1, \"RequirementText\": \"'The top 1/4 of the table will hold events that are to occur sequentially.'\", \"class\": \"F\"}, {\"ProjectID\": 1, \"RequirementText\": \"'The bottom 3/4 of the table will hold events that occur according to its relevance to current time.'\", \"class\": \"F\"}, {\"ProjectID\": 1, \"RequirementText\": \"'The system shall color code events according to their variance from current time.'\", \"class\": \"F\"}, {\"ProjectID\": 1, \"RequirementText\": \"'The system shall display data from the Sync Matrix 1.0 and Exercise Management Tool 1.0 applications'\", \"class\": \"F\"}, {\"ProjectID\": 1, \"RequirementText\": \"'The system shall link Events back to either the Sync Matrix 1.0 or the Exercise Managment Tool 1.0 applications for modifications.'\", \"class\": \"F\"}, {\"ProjectID\": 1, \"RequirementText\": \"'The system shall allow modification of the display.'\", \"class\": \"F\"}, {\"ProjectID\": 1, \"RequirementText\": \"'The system shall offer a display of all the Events in the exercise.'\", \"class\": \"F\"}, {\"ProjectID\": 1, \"RequirementText\": \"'The system shall filter data by: Venues and Key Events.'\", \"class\": \"F\"}, {\"ProjectID\": 1, \"RequirementText\": \"'The system shall allow a user to define the time segments'\", \"class\": \"F\"}, {\"ProjectID\": 1, \"RequirementText\": \"'The system shall display the local and exercise time in separate clocks'\", \"class\": \"F\"}, {\"ProjectID\": 1, \"RequirementText\": \"'The system shall offer the ability to pause and resume the refresh of data.'\", \"class\": \"F\"}, {\"ProjectID\": 1, \"RequirementText\": \"'The system shall provide charts for the Activity or Event actual versus assumed time.'\", \"class\": \"F\"}, {\"ProjectID\": 1, \"RequirementText\": \"'The system shall provide a history report of changes made to the Activity or Event data'\", \"class\": \"F\"}, {\"ProjectID\": 2, \"RequirementText\": \"'The look and feel of the system shall conform to the user interface standards of the smart device.'\", \"class\": \"LF\"}, {\"ProjectID\": 2, \"RequirementText\": \"' The user interface shall have standard menus  buttons for navigation'\", \"class\": \"LF\"}, {\"ProjectID\": 2, \"RequirementText\": \"'The system shall have a professional appearance'\", \"class\": \"LF\"}, {\"ProjectID\": 2, \"RequirementText\": \"'The product shall have a consistent color scheme and fonts.'\", \"class\": \"LF\"}, {\"ProjectID\": 2, \"RequirementText\": \"'The system shall be used by realtors with no training.'\", \"class\": \"US\"}, {\"ProjectID\": 2, \"RequirementText\": \"'The system shall be intuitive and self explanatory.'\", \"class\": \"US\"}, {\"ProjectID\": 2, \"RequirementText\": \"'The product shall be easy for a realtor to learn.'\", \"class\": \"US\"}, {\"ProjectID\": 2, \"RequirementText\": \"'The product shall use symbols and words that are naturally understandable by the realtor community.'\", \"class\": \"US\"}, {\"ProjectID\": 2, \"RequirementText\": \"'The product shall produce search results in an acceptable time'\", \"class\": \"PE\"}, {\"ProjectID\": 2, \"RequirementText\": \"'The search results shall be returned no later 30      seconds  after the user has entered the search criteria'\", \"class\": \"PE\"}, {\"ProjectID\": 2, \"RequirementText\": \"'The product shall generate a CMA report in an acceptable time.'\", \"class\": \"PE\"}, {\"ProjectID\": 2, \"RequirementText\": \"'The CMA report shall be returned no later 60 seconds after the user has entered the CMA report criteria.'\", \"class\": \"PE\"}, {\"ProjectID\": 2, \"RequirementText\": \"'The product shall synchronize contacts and appointments in an acceptable time.'\", \"class\": \"PE\"}, {\"ProjectID\": 2, \"RequirementText\": \"'The product shall synchronize with the office system every hour.'\", \"class\": \"PE\"}, {\"ProjectID\": 2, \"RequirementText\": \"' The product shall be available for use 24 hours per day  365 days  per year'\", \"class\": \"A\"}, {\"ProjectID\": 2, \"RequirementText\": \"' Out of 1000 accesses to the system  the system is available 999 times.'\", \"class\": \"A\"}, {\"ProjectID\": 2, \"RequirementText\": \"'The product shall operate in offline mode whenever internet connection is unavailable.'\", \"class\": \"FT\"}, {\"ProjectID\": 2, \"RequirementText\": \"' The product shall allow the user to view previously downloaded search results  CMA reports  and appointments.'\", \"class\": \"FT\"}, {\"ProjectID\": 2, \"RequirementText\": \"'The product shall retain user preferences in the event of a failure.'\", \"class\": \"FT\"}, {\"ProjectID\": 2, \"RequirementText\": \"'100\\\\% of saved user preferences shall be restored when system comes back online.'\", \"class\": \"FT\"}, {\"ProjectID\": 2, \"RequirementText\": \"'The product shall be able to support multiple remote users'\", \"class\": \"SC\"}, {\"ProjectID\": 2, \"RequirementText\": \"'The product shall be able support 1000 simultaneous users.'\", \"class\": \"SC\"}, {\"ProjectID\": 2, \"RequirementText\": \"'The product shall be capable of handling the existing 1000 users. This number is expected to grow 5 times within the next year.'\", \"class\": \"SC\"}, {\"ProjectID\": 2, \"RequirementText\": \"'The product shall be installed by an untrained realtor   without recourse to separately-printed instructions.'\", \"class\": \"US\"}, {\"ProjectID\": 2, \"RequirementText\": \"'90\\\\% of untrained realtors shall be able to install the product on their device without printed instructions'\", \"class\": \"US\"}, {\"ProjectID\": 2, \"RequirementText\": \"'The product is expected to run on Windows CE and Palm operating systems.'\", \"class\": \"PO\"}, {\"ProjectID\": 2, \"RequirementText\": \"'Only registered realtors shall be able to access the system.'\", \"class\": \"SE\"}, {\"ProjectID\": 2, \"RequirementText\": \"'Every user of the system shall be authenticated and authorized.'\", \"class\": \"SE\"}, {\"ProjectID\": 2, \"RequirementText\": \"'The product shall prevent its data from incorrect data being introduced.'\", \"class\": \"SE\"}, {\"ProjectID\": 2, \"RequirementText\": \"'The system shall allow a real estate agent to query MLS information'\", \"class\": \"F\"}, {\"ProjectID\": 2, \"RequirementText\": \"'The user shall be able to get driving directions to a selected property'\", \"class\": \"F\"}, {\"ProjectID\": 2, \"RequirementText\": \"'The user shall be able to download appointments and contact information for clients'\", \"class\": \"F\"}, {\"ProjectID\": 2, \"RequirementText\": \"'The system shall display clear property images in the search results'\", \"class\": \"F\"}, {\"ProjectID\": 2, \"RequirementText\": \"'The system shall update or create new property listings in the MLS'\", \"class\": \"F\"}, {\"ProjectID\": 2, \"RequirementText\": \"'Realtor shall be able to generate a CMA report based on property criteria'\", \"class\": \"F\"}, {\"ProjectID\": 2, \"RequirementText\": \"'The system shall be able to call the seller or buyer to schedule an appointment'\", \"class\": \"F\"}, {\"ProjectID\": 2, \"RequirementText\": \"'The realtor shall be notified of new client appointments after automatic synchronization with office system'\", \"class\": \"F\"}, {\"ProjectID\": 2, \"RequirementText\": \"'The realtor shall be able to retrieve a map showing property locations for a specified area'\", \"class\": \"F\"}, {\"ProjectID\": 2, \"RequirementText\": \"'The system shall notify the realtor when a seller or buyer responds to an appointment request'\", \"class\": \"F\"}, {\"ProjectID\": 2, \"RequirementText\": \"'The product shall allow the user to save the property search results.'\", \"class\": \"F\"}, {\"ProjectID\": 3, \"RequirementText\": \"'The system shall be easy to use by the Program Administrators/Nursing Staff Members.'\", \"class\": \"US\"}, {\"ProjectID\": 3, \"RequirementText\": \"'All of the users shall be able to use the system after one day of training.'\", \"class\": \"US\"}, {\"ProjectID\": 3, \"RequirementText\": \"'The system shall help the user avoid making mistakes while scheduling classes and clinicals for the nursing students.'\", \"class\": \"US\"}, {\"ProjectID\": 3, \"RequirementText\": \"'The number of mistakes noted by the students shall be decreased by 50\\\\% in the first year.'\", \"class\": \"US\"}, {\"ProjectID\": 3, \"RequirementText\": \"'The system shall be intuitive to the Program Administrators/Nursing Staff Members.'\", \"class\": \"US\"}, {\"ProjectID\": 3, \"RequirementText\": \"'2 out of 3 Program Administrators/Nursing Staff Members shall successfully be able to use the system to manage the scheduling of classes and clinicals.'\", \"class\": \"US\"}, {\"ProjectID\": 3, \"RequirementText\": \"'The system shall use symbols and words that are naturally understandable by the user community.'\", \"class\": \"US\"}, {\"ProjectID\": 3, \"RequirementText\": \"'The verbiage used within the system shall be consistent with Standard English and the terminology of the national Nursing Community.'\", \"class\": \"US\"}, {\"ProjectID\": 3, \"RequirementText\": \"'Staff members shall be able to complete a set of tasks in a timely manner.'\", \"class\": \"PE\"}, {\"ProjectID\": 3, \"RequirementText\": \"'The response time of general student management tasks shall take no longer than 5 seconds and the response time of schedule generation shall take no longer than 30 seconds.'\", \"class\": \"PE\"}, {\"ProjectID\": 3, \"RequirementText\": \"'The system shall be available for use between the hours of 8am and 6pm.'\", \"class\": \"A\"}, {\"ProjectID\": 3, \"RequirementText\": \"'The system shall achieve 95\\\\% up time.'\", \"class\": \"A\"}, {\"ProjectID\": 3, \"RequirementText\": \"'system shall be able to handle all of the user requests/usage during business hours.'\", \"class\": \"SC\"}, {\"ProjectID\": 3, \"RequirementText\": \"'The system shall cater to 10 simultaneous users from 9am to 5pm.'\", \"class\": \"SC\"}, {\"ProjectID\": 3, \"RequirementText\": \"'The system shall be capable of processing 100\\\\% of nursing students and their classes for the next 10 years.'\", \"class\": \"SC\"}, {\"ProjectID\": 3, \"RequirementText\": \"'The system shall be expected to manage the nursing program curriculum and class/clinical scheduling for a minimum of 5 years.'\", \"class\": \"SC\"}, {\"ProjectID\": 3, \"RequirementText\": \"'The system shall able to operate within a business office environment typical of the Nursing Department at DePaul University.'\", \"class\": \"O\"}, {\"ProjectID\": 3, \"RequirementText\": \"'The system shall be used within the specifications defined by the computers used by the Program Administrators/Nursing Staff Members.'\", \"class\": \"O\"}, {\"ProjectID\": 3, \"RequirementText\": \"'The system shall operate within the Windows XP Professional operating system.'\", \"class\": \"O\"}, {\"ProjectID\": 3, \"RequirementText\": \"'The system shall interface with CampusConnect\\u00ef\\u00bf\\u00bds central server'\", \"class\": \"O\"}, {\"ProjectID\": 3, \"RequirementText\": \"'The system shall interface with the faculty central server.'\", \"class\": \"O\"}, {\"ProjectID\": 3, \"RequirementText\": \"'The system shall interface with the student master server.'\", \"class\": \"O\"}, {\"ProjectID\": 3, \"RequirementText\": \"'We must be able to interface with any HTML browser.'\", \"class\": \"O\"}, {\"ProjectID\": 3, \"RequirementText\": \"'Only authorized users shall have access to clinical site information.'\", \"class\": \"SE\"}, {\"ProjectID\": 3, \"RequirementText\": \"'Program Administrators/Nursing Staff Members are the only people who shall have access to clinical site details.'\", \"class\": \"SE\"}, {\"ProjectID\": 3, \"RequirementText\": \"'Only authorized users shall have access to students\\u00ef\\u00bf\\u00bd personal information.'\", \"class\": \"SE\"}, {\"ProjectID\": 3, \"RequirementText\": \"'Dr Susan Poslusny and Dr Julie Donalek are the only people who shall have access to students\\u00ef\\u00bf\\u00bd personal information.'\", \"class\": \"SE\"}, {\"ProjectID\": 3, \"RequirementText\": \"'Only authorized users shall have access to the portion of the system that interfaces with CampusConnect.'\", \"class\": \"SE\"}, {\"ProjectID\": 3, \"RequirementText\": \"'Fit Criterion: Dr Susan Poslusny and Karen Sysol are the only people who shall have access to the final class section scheduling for the system that interfaces with CampusConnect.'\", \"class\": \"SE\"}, {\"ProjectID\": 3, \"RequirementText\": \"'The system shall have basic data integrity checking to reduce the possibility of incorrect or invalid data being introduced.'\", \"class\": \"SE\"}, {\"ProjectID\": 3, \"RequirementText\": \"'The system shall protect private information in accordance with the organization\\u00ef\\u00bf\\u00bds information policy.'\", \"class\": \"SE\"}, {\"ProjectID\": 3, \"RequirementText\": \"'The system shall be built such that it is as secure as possible from malicious interference.'\", \"class\": \"SE\"}, {\"ProjectID\": 3, \"RequirementText\": \"'The system shall use the organization\\u00ef\\u00bf\\u00bds standard virus protection software to help monitor threats to itself.'\", \"class\": \"SE\"}, {\"ProjectID\": 3, \"RequirementText\": \"'A cohort shall be associated to one Program of Study offered by the department.'\", \"class\": \"F\"}, {\"ProjectID\": 3, \"RequirementText\": \"'Program Administrators and Nursing Staff Members shall be able to add a listing of students to a cohort.'\", \"class\": \"F\"}, {\"ProjectID\": 3, \"RequirementText\": \"'Program Administrators and Nursing Staff Members shall be able to add a single student to a cohort'\", \"class\": \"F\"}, {\"ProjectID\": 3, \"RequirementText\": \"'Students added to a cohort shall be eligible for the cohort\\u00ef\\u00bf\\u00bds Program of Study.'\", \"class\": \"F\"}, {\"ProjectID\": 3, \"RequirementText\": \"'Program Administrators and Nursing Staff Members shall be able to specify the preferred sequence of classes for a given cohort.'\", \"class\": \"F\"}, {\"ProjectID\": 3, \"RequirementText\": \"' For each class within a sequence for a cohort  Program Administrators and Nursing Staff Members shall be able to specify which quarter that class will be offered.'\", \"class\": \"F\"}, {\"ProjectID\": 3, \"RequirementText\": \"' For each class within a sequence for a cohort  Program Administrators and Nursing Staff Members shall be able to specify which quarter that class will be offered.'\", \"class\": \"F\"}, {\"ProjectID\": 3, \"RequirementText\": \"'Program Administrators and Nursing Staff Members shall be able to add new classes to a sequence of classes'\", \"class\": \"F\"}, {\"ProjectID\": 3, \"RequirementText\": \"'Program Administrators and Nursing Staff Members shall be able to add clinical classes or sections to a sequence of classes'\", \"class\": \"F\"}, {\"ProjectID\": 3, \"RequirementText\": \"' Program Administrators and Nursing Staff Members shall be able to add a new cohort to the system  identified by start month and year.'\", \"class\": \"F\"}, {\"ProjectID\": 3, \"RequirementText\": \"'Program Administrators and Nursing Staff Members shall be able to add new classes for the nursing department into the system.'\", \"class\": \"F\"}, {\"ProjectID\": 3, \"RequirementText\": \"'A class shall be either a non-clinical class or a clinical class.'\", \"class\": \"F\"}, {\"ProjectID\": 3, \"RequirementText\": \"' A non-clinical class shall specify the course name  lecture room requirements  and instructor needs.'\", \"class\": \"F\"}, {\"ProjectID\": 3, \"RequirementText\": \"' A clinical class shall specify the course name  lecture room requirements  clinical site needs  lecture instructor needs  and clinical lab instructor needs.'\", \"class\": \"F\"}, {\"ProjectID\": 3, \"RequirementText\": \"'Program Administrators/Nursing Staff Members shall be able to create a new Program of Study.'\", \"class\": \"F\"}, {\"ProjectID\": 3, \"RequirementText\": \"'A Program of Study shall consist of a program name and listing of required classes (both clinical and non-clinical) that must be completed.'\", \"class\": \"F\"}, {\"ProjectID\": 3, \"RequirementText\": \"'Program Administrators and Nursing Staff Members shall have the ability to specify which classes are required for a Program of Study'\", \"class\": \"F\"}, {\"ProjectID\": 3, \"RequirementText\": \"'The system shall be able to display a report of needed classes for a given quarter for all cohorts of all programs for Program Administrators/Nursing Staff Members\\u00ef\\u00bf\\u00bd planning purposes.'\", \"class\": \"F\"}, {\"ProjectID\": 3, \"RequirementText\": \"' The report of needed classes shall include (but not be limited to) classes to be offered  number of sections needed  number of labs needed  and room types needed.'\", \"class\": \"F\"}, {\"ProjectID\": 3, \"RequirementText\": \"'Classes for a given cohort shall not conflict with regards to the time and day that they are offered.'\", \"class\": \"F\"}, {\"ProjectID\": 3, \"RequirementText\": \"'Program Administrators and Nursing Staff Members shall be able to add a new clinical site into the system.'\", \"class\": \"F\"}, {\"ProjectID\": 3, \"RequirementText\": \"' Clinical site information shall include (but not be limited to) the name of the site  contact person  and contact information.'\", \"class\": \"F\"}, {\"ProjectID\": 3, \"RequirementText\": \"'Program Administrators and Nursing Staff Members shall be able to add a new clinical lab section for an existing clinical class into the System.'\", \"class\": \"F\"}, {\"ProjectID\": 3, \"RequirementText\": \"' A clinical lab section shall include the clinical site name  the class  instructor  day and time of the lab.'\", \"class\": \"F\"}, {\"ProjectID\": 3, \"RequirementText\": \"'Program Administrators and Nursing Staff Members shall be able to add a student who has registered for a clinical class to a clinical lab section for that class.'\", \"class\": \"F\"}, {\"ProjectID\": 3, \"RequirementText\": \"'The system shall allow a Program Administrator or Nursing staff member to remove a student from a clinical lab section.'\", \"class\": \"F\"}, {\"ProjectID\": 3, \"RequirementText\": \"'The system shall allow a Program Administrator/Nursing Staff Member to move a student from one clinical lab section to another clinical lab section corresponding to the same clinical class.'\", \"class\": \"F\"}, {\"ProjectID\": 3, \"RequirementText\": \"'Program Administrators/Nursing Staff Members shall be able to cancel a clinical lab section only if there are no students registered for that clinical lab section.'\", \"class\": \"F\"}, {\"ProjectID\": 3, \"RequirementText\": \"'A Program Administrator/Nursing Staff Member shall be able to add a new nursing student to the system.'\", \"class\": \"F\"}, {\"ProjectID\": 3, \"RequirementText\": \"' A staff member shall have the ability to manage the progress of a part time student  which includes modifying their sequence of classes and timeline of classes.'\", \"class\": \"F\"}, {\"ProjectID\": 3, \"RequirementText\": \"' The system shall be able to display a printable summary for individual cohorts  which will include the students enlisted  the Program of study  sequence of classes  cohort progress through the program  and timeline of completion.'\", \"class\": \"F\"}, {\"ProjectID\": 3, \"RequirementText\": \"' The system shall be able to display a printable summary for individual clinical sites  which will include information on labs being held at that site for the given quarter (Clinical site  general information on labs held at that location  dates and times of all labs held there).'\", \"class\": \"F\"}, {\"ProjectID\": 3, \"RequirementText\": \"' The system shall be able to display a printable summary for individual clinical labs  which will include (but not be limited to) class name  class number  lab section  listing of students enrolled  instructor  day(s)  time  and location.'\", \"class\": \"F\"}, {\"ProjectID\": 3, \"RequirementText\": \"' The system shall be able to display a printable summary for individual nursing students  which will include (but not be limited to) student name  student ID  admission date  classes  credits  GPA  and the cohort that the student is enrolled in.'\", \"class\": \"F\"}, {\"ProjectID\": 3, \"RequirementText\": \"'The system shall be able to display a printable summary of the system log.'\", \"class\": \"F\"}, {\"ProjectID\": 3, \"RequirementText\": \"' The system shall contain contact information (e-mail and phone number) for all people relevant to the system  including (but not limited to) staff members  students  lecture instructors  clinical lab instructors  and clinical site administrators.'\", \"class\": \"F\"}, {\"ProjectID\": 3, \"RequirementText\": \"'The system will use the stored e-mail addresses as a primary means of communicating information to affected parties.'\", \"class\": \"F\"}, {\"ProjectID\": 3, \"RequirementText\": \"' The system will notify affected parties for routine communication purposes  including but not limited to informing students of upcoming offered classes (timeline) and what their schedule will be/shall be.'\", \"class\": \"F\"}, {\"ProjectID\": 3, \"RequirementText\": \"' The system will notify affected parties when changes occur affecting clinicals  including but not limited to clinical section capacity changes  and clinical section cancellations.'\", \"class\": \"F\"}, {\"ProjectID\": 3, \"RequirementText\": \"' The system will notify affected parties when changes occur affecting classes  including but not limited to class cancellations  class section detail changes  and changes to class offerings for a given quarter.'\", \"class\": \"F\"}, {\"ProjectID\": 3, \"RequirementText\": \"' The system will notify affected parties when changes occur affecting cohorts  including but not limited to changes to the sequence for a cohort\\u00ef\\u00bf\\u00bds program of study and changes to a given week\\u00ef\\u00bf\\u00bds schedule (lab cancelled this week due to instructor illness).'\", \"class\": \"F\"}, {\"ProjectID\": 3, \"RequirementText\": \"' The system will notify affected parties when changes occur affecting specific students  including but not limited to changing a student\\u00ef\\u00bf\\u00bds status from full time to part time and moving a student to a different clinical section.'\", \"class\": \"F\"}, {\"ProjectID\": 3, \"RequirementText\": \"' Program Administrators/Nursing Staff Members shall have the ability to modify information relating to cohorts  including cohort identifier  program of study  preferred sequence of classes and quarters that a cohort will be taking specific classes.'\", \"class\": \"F\"}, {\"ProjectID\": 3, \"RequirementText\": \"' Program Administrators/Nursing Staff Members shall have the ability to modify information relating to a Program of Study within the Nursing Department  including the Program of study name  and required classes for that Program of Study.'\", \"class\": \"F\"}, {\"ProjectID\": 3, \"RequirementText\": \"' Program Administrators/Nursing Staff Members shall have the ability to modify information relating to a Clinical Site  including the clinical site name  site contact person  contact information  and address.'\", \"class\": \"F\"}, {\"ProjectID\": 3, \"RequirementText\": \"' Program Administrators/Nursing Staff Members shall have the ability to modify information relating to a Clinical Lab Section  including the clinical site name  the department/section for the lab  the class  instructor  day and time of lab  and contact information.'\", \"class\": \"F\"}, {\"ProjectID\": 3, \"RequirementText\": \"' Program Administrators/Nursing Staff Members shall have the ability to modify information relating to a Nursing Student  including student ID  student name  phone number  e-mail  status (full time or part time)  and program of study.'\", \"class\": \"F\"}, {\"ProjectID\": 4, \"RequirementText\": \"'The Disputes application shall comply with the corporate standards for user interface creation for internally and externally used applications.'\", \"class\": \"LF\"}, {\"ProjectID\": 4, \"RequirementText\": \"'All screens created as part of the Disputes application must comply with corporate standards for interface creation.'\", \"class\": \"LF\"}, {\"ProjectID\": 4, \"RequirementText\": \"'The list of dispute cases that are displayed after a search is performed must be color coded for easy identification of dispute cases based upon the dispute case status.'\", \"class\": \"US\"}, {\"ProjectID\": 4, \"RequirementText\": \"'100\\\\% of the cardmember and merchant services representatives shall use the Disputes application regularly after a 2-day training course.'\", \"class\": \"US\"}, {\"ProjectID\": 4, \"RequirementText\": \"'100\\\\% of cardmember services representatives shall be able to successfully create a dispute case on the first encounter after completing the training course.'\", \"class\": \"US\"}, {\"ProjectID\": 4, \"RequirementText\": \"'100\\\\% of merchant services representatives shall be able to successfully perform a follow up action on a dispute case on the first encounter after completing the training course.'\", \"class\": \"US\"}, {\"ProjectID\": 4, \"RequirementText\": \"'The maximum wait time for a user navigating from one screen to another within the Disputes application shall be no more than 5 seconds.'\", \"class\": \"PE\"}, {\"ProjectID\": 4, \"RequirementText\": \"'The Disputes application shall support 350 concurrent users without any degradation of performance in the application.'\", \"class\": \"PE\"}, {\"ProjectID\": 4, \"RequirementText\": \"' The Disputes application shall be available 24x7x365  with the exception of the following scheduled maintenance windows.  Monday \\u00ef\\u00bf\\u00bd Saturday 3:00am to 4:00am EST Sunday 1:00amd to 5:00am EST'\", \"class\": \"O\"}, {\"ProjectID\": 4, \"RequirementText\": \"'The Disputes application shall interface with the Statement Database. The Statement Database provides the transaction details to the Disputes System. All transaction details must be obtained from the Statement Database'\", \"class\": \"O\"}, {\"ProjectID\": 4, \"RequirementText\": \"'The Disputes application shall interface with the Cardmember Information Database.  The Cardmember Information Database provides detailed information with regard to a cardmember.  All cardmember detail information must be obtained from the Cardmember Information Database.'\", \"class\": \"O\"}, {\"ProjectID\": 4, \"RequirementText\": \"'The Disputes applications shall interface with the Merchant Information Database.  The Merchant Information Database provides detailed information with regard to the merchant. All merchant detail information shall be obtained from the Merchant Information Database.'\", \"class\": \"O\"}, {\"ProjectID\": 4, \"RequirementText\": \"'The Disputes application shall interface with the Letters application.  This will allow the Disputes application to request letters as part of the dispute initiation and dispute follow up process. All letter requests must be sent to the Print Letter Utility application.'\", \"class\": \"O\"}, {\"ProjectID\": 4, \"RequirementText\": \"'The Disputes application shall interface with the Cardmember Posting and Billing System.  This will allow the Disputes application to request adjustments to cardmember and merchant\\u00ef\\u00bf\\u00bds accounts. All adjustment requests must be sent to the Cardmember Posting and Billing System.'\", \"class\": \"O\"}, {\"ProjectID\": 4, \"RequirementText\": \"'The Disputes application shall ensure that only users with the appropriate access level are allowed to initiate dispute requests.'\", \"class\": \"SE\"}, {\"ProjectID\": 4, \"RequirementText\": \"'Only users with Update access must be able to initiate dispute requests.'\", \"class\": \"SE\"}, {\"ProjectID\": 4, \"RequirementText\": \"'The Disputes application shall ensure that only authorized users are allowed to logon to the application.'\", \"class\": \"SE\"}, {\"ProjectID\": 4, \"RequirementText\": \"' All authorized users  once authenticated must be able to logon to the Disputes System'\", \"class\": \"SE\"}, {\"ProjectID\": 4, \"RequirementText\": \"'The Disputes System shall generate a User Report that details any new users that have been added and any changes to an existing user\\u00ef\\u00bf\\u00bds access level.  The report will be reviewed for auditing purposes.'\", \"class\": \"SE\"}, {\"ProjectID\": 4, \"RequirementText\": \"'All additions of new users and modifications to user\\u00ef\\u00bf\\u00bds access shall be recorded on the User Report.'\", \"class\": \"SE\"}, {\"ProjectID\": 4, \"RequirementText\": \"' If a user account is revoked  it can only be re-instantiated by the System Administrator.'\", \"class\": \"SE\"}, {\"ProjectID\": 4, \"RequirementText\": \"'Only the System Administrator shall be able to reset a revoked user logon account'\", \"class\": \"SE\"}, {\"ProjectID\": 4, \"RequirementText\": \"'The Disputes application shall manipulate and view business data. Users will not have direct access to data files or databases.'\", \"class\": \"SE\"}, {\"ProjectID\": 4, \"RequirementText\": \"'All updates to data files or database must be initiated from the Disputes System.'\", \"class\": \"SE\"}, {\"ProjectID\": 4, \"RequirementText\": \"'The Disputes application must conform to the legal requirements as specified by the Merchant Operating Regulations.'\", \"class\": \"L\"}, {\"ProjectID\": 4, \"RequirementText\": \"'All business rules specified in the Disputes System shall be in compliance with the Merchant Operating Regulations.'\", \"class\": \"L\"}, {\"ProjectID\": 4, \"RequirementText\": \"'The Disputes application must conform to the legal requirements as specified by Regulation E and Regulation Z that govern credit card disputes processing.'\", \"class\": \"L\"}, {\"ProjectID\": 4, \"RequirementText\": \"'All business rules specified in the Disputes System shall be in compliance to the guidelines of Regulation E and Regulation Z.'\", \"class\": \"L\"}, {\"ProjectID\": 4, \"RequirementText\": \"'The Disputes application must maintain a detailed history of every action that a user takes on a dispute case.  This ensures a complete audit trail if questions arise later on with regard to a particular dispute case.'\", \"class\": \"L\"}, {\"ProjectID\": 4, \"RequirementText\": \"'All actions that modify an existing dispute case must be recorded in the case history.'\", \"class\": \"L\"}, {\"ProjectID\": 4, \"RequirementText\": \"'The Disputes System must be accessible by both internal and external users.'\", \"class\": \"F\"}, {\"ProjectID\": 4, \"RequirementText\": \"'The Disputes System must prevent users from accessing any dispute cases that do not belong to their cardholder base.'\", \"class\": \"F\"}, {\"ProjectID\": 4, \"RequirementText\": \"'The Disputes System will facilitate direct data entry of a dispute case via a user interface that supports real time responses to the users.'\", \"class\": \"F\"}, {\"ProjectID\": 4, \"RequirementText\": \"'The Disputes System must provide different levels of access with regard to disputes case initiation and follow-up actions.'\", \"class\": \"F\"}, {\"ProjectID\": 4, \"RequirementText\": \"'The Disputes System shall provide view access capability for authorized users of the application.'\", \"class\": \"F\"}, {\"ProjectID\": 4, \"RequirementText\": \"'The Disputes System shall provide update access capability for authorized users of the application.'\", \"class\": \"F\"}, {\"ProjectID\": 4, \"RequirementText\": \"'The Disputes System must allow the users to select disputable transactions (based on the age of the transaction) from a user interface and initiate a dispute (ticket retrieval request or chargeback notification) on the selected transaction.'\", \"class\": \"F\"}, {\"ProjectID\": 4, \"RequirementText\": \"'The Disputes System must provide the user the ability to initiate a single dispute case on multiple transactions that belong to a single merchant.'\", \"class\": \"F\"}, {\"ProjectID\": 4, \"RequirementText\": \"'The Disputes System will provide the user the ability to create or initiate a ticket retrieval request.   As part of ticket retrieval creation process the system must prompt the user to enter all the required information to create the ticket retrieval request.  The ticket retrieval request is a document that is sent to merchant inquiring the validity of a transaction.'\", \"class\": \"F\"}, {\"ProjectID\": 4, \"RequirementText\": \"'The Disputes System must allow the user to create three unique types of ticket retrieval requests.  The three types of ticket retrieval requests are (1) Request for original receipt (2) Request for a copy of the receipt or (3) Request for a portfolio. A portfolio consists of documentation that would provide proof of a purchase such as the documentation that is received from a car rental agency that is more than a sales receipt.'\", \"class\": \"F\"}, {\"ProjectID\": 4, \"RequirementText\": \"'The Disputes System must prevent external users from requesting original receipts. Requests for original receipts are restricted to internal users.'\", \"class\": \"F\"}, {\"ProjectID\": 4, \"RequirementText\": \"' The Disputes System must provide a confirmation to the user upon the creation of ticket retrieval request that contains the following information; the dispute case number  the type of retrieval requested (copy  original or portfolio)  and the date that the merchant response is due.'\", \"class\": \"F\"}, {\"ProjectID\": 4, \"RequirementText\": \"'The Disputes System shall allow the user to create or initiate a chargeback request.  The system must prompt the user to enter the required information to initiate a chargeback request. The chargeback request results in a printed chargeback notification that is sent to merchant indicating that their account will be charged back if no proof is provided that the disputed transaction is valid.'\", \"class\": \"F\"}, {\"ProjectID\": 4, \"RequirementText\": \"' The Disputes System must provide a confirmation to the user upon the creation of a chargeback request. The confirmation must contain the following information; the dispute case number  the type of chargeback requested (pending or immediate)  and the date that the merchant response is due.'\", \"class\": \"F\"}, {\"ProjectID\": 4, \"RequirementText\": \"'The Disputes System shall prevent the creation of duplicate dispute requests 100\\\\% of the time.'\", \"class\": \"F\"}, {\"ProjectID\": 4, \"RequirementText\": \"' The Disputes System shall accurately provide a list of possible reason codes for a given transaction.  The list of possible reason codes must be derived based on the type of transaction and the industry that the merchant belongs to  according to the business rules defined for the Disputes System.'\", \"class\": \"F\"}, {\"ProjectID\": 4, \"RequirementText\": \"'The Disputes System must provide the ability to view existing dispute cases.'\", \"class\": \"F\"}, {\"ProjectID\": 4, \"RequirementText\": \"' The Disputes System must provide Search functionality.  The search method must include the ability to search by (1) the dispute case number  (2) the merchant account number  (3) the cardmember account number and (4) the issuer number.  In addition to the above criteria  the search functionality must further allow the user to limit the results of the search by a date range  the type of dispute (ticket retrieval request or chargeback notification)  the case status (open  closed or all) and the dispute reason code.'\", \"class\": \"F\"}, {\"ProjectID\": 4, \"RequirementText\": \"'A list of all disputes cases that meet the entered search criteria must be provided to the user.  The list of cases must differentiate the type and/or status of the case by color -coding the line item in the list.  For example all open cases will be yellow and all closed cases will be gray.'\", \"class\": \"F\"}, {\"ProjectID\": 4, \"RequirementText\": \"'The Disputes System shall provide the users the ability to view the history of all activities that have occurred on the dispute case.'\", \"class\": \"F\"}, {\"ProjectID\": 4, \"RequirementText\": \"'The Dispute System shall provide the users with the ability to follow up on a dispute case via follow-up actions.  The list of available follow up actions for a given dispute case must be filtered by the status of the case and the access level of the user.'\", \"class\": \"F\"}, {\"ProjectID\": 4, \"RequirementText\": \"' The Disputes System shall record the name of the user and the date for any activity that creates or modifies the disputes case in the system.  A detailed history of the actions taken on the case  including the date and the user that performed the action must be maintained for auditing purposes.'\", \"class\": \"F\"}, {\"ProjectID\": 4, \"RequirementText\": \"' For any systematic (non-user initiated) action that occurs on a case such as the disputes aging process  a case activity will be generated.  Upon the next logon the user that initiated the dispute case must be notified that a systematic action has occurred on the dispute case.'\", \"class\": \"F\"}, {\"ProjectID\": 4, \"RequirementText\": \"'All letter requests must be formatted according to guidelines specified by the Print Letter Utility system.'\", \"class\": \"F\"}, {\"ProjectID\": 4, \"RequirementText\": \"'Any disputes cases that have been closed for over 6 months must be purged from the online disputes database.'\", \"class\": \"F\"}, {\"ProjectID\": 5, \"RequirementText\": \"'The product must support Internet Explorer 5.5 and above.'\", \"class\": \"O\"}, {\"ProjectID\": 5, \"RequirementText\": \"'The product must support Mozilla Firefox 1.0 and above.'\", \"class\": \"O\"}, {\"ProjectID\": 5, \"RequirementText\": \"'The product shall interface with the Choice Parts System.  This provides the feed of recycled parts data.'\", \"class\": \"O\"}, {\"ProjectID\": 5, \"RequirementText\": \"'The product shall run on the existing hardware for all environments.'\", \"class\": \"O\"}, {\"ProjectID\": 5, \"RequirementText\": \"'The product shall adhere to the corporate Architecture guidelines'\", \"class\": \"O\"}, {\"ProjectID\": 5, \"RequirementText\": \"'The product shall comply with corporate User Interface Guidelines'\", \"class\": \"LF\"}, {\"ProjectID\": 5, \"RequirementText\": \"'The product shall comply with corporate color scheme'\", \"class\": \"LF\"}, {\"ProjectID\": 5, \"RequirementText\": \"'The appearance of the product shall appear professional'\", \"class\": \"LF\"}, {\"ProjectID\": 5, \"RequirementText\": \"'The product shall be easy to use by Adjusters and Collision Estimators.  95\\\\% of Adjusters and Collision Estimators shall find the product easy to use.'\", \"class\": \"US\"}, {\"ProjectID\": 5, \"RequirementText\": \"'The product shall increase productivity of Collision Estimators. 80\\\\% of the Collision Estimators shall agree their productivity has increase within 1 month of using the product.'\", \"class\": \"US\"}, {\"ProjectID\": 5, \"RequirementText\": \"'Users shall feel satisfied using the product.  85\\\\% of all users will be satisfied with the product.'\", \"class\": \"US\"}, {\"ProjectID\": 5, \"RequirementText\": \"'The product shall be easy to learn by Adjusters and Collision Estimators.  The product shall be learned with two days onsite training'\", \"class\": \"US\"}, {\"ProjectID\": 5, \"RequirementText\": \"'The user shall easily locate instructions while using the product.  User help can be found within 90\\\\% of the system.'\", \"class\": \"US\"}, {\"ProjectID\": 5, \"RequirementText\": \"'The search for recycled parts shall take no longer than 15 seconds.  The search results shall be returned in under 15 seconds.'\", \"class\": \"PE\"}, {\"ProjectID\": 5, \"RequirementText\": \"'The search for the preferred repair facility shall take no longer than 8 seconds.  The preferred repair facility is returned within 8 seconds'\", \"class\": \"PE\"}, {\"ProjectID\": 5, \"RequirementText\": \"'The recycled parts audit report shall be returned to the user within 10 seconds.  The audit report shall be returned within 10 seconds.'\", \"class\": \"PE\"}, {\"ProjectID\": 5, \"RequirementText\": \"'The preferred repair facility ratings shall be saved within 5 seconds. The save shall occur within 5 seconds.'\", \"class\": \"PE\"}, {\"ProjectID\": 5, \"RequirementText\": \"'The product shall adhere to the corporate online availability schedule.  The application is brought down only within 98\\\\% of the scheduled outages per the availability schedule.'\", \"class\": \"A\"}, {\"ProjectID\": 5, \"RequirementText\": \"'The product shall achieve a 98\\\\% uptime. The product shall not fail more than 2\\\\% of the available online time.'\", \"class\": \"A\"}, {\"ProjectID\": 5, \"RequirementText\": \"'The product shall be able to handle up to 1500 simultaneous users. The system shall perform with 1500 users as a time.'\", \"class\": \"SC\"}, {\"ProjectID\": 5, \"RequirementText\": \"' The average number of recycled parts records per day shall be 50 000.'\", \"class\": \"SC\"}, {\"ProjectID\": 5, \"RequirementText\": \"' The product shall be able to handle 10 000 concurrent users within 2 years of the initial launch.'\", \"class\": \"SC\"}, {\"ProjectID\": 5, \"RequirementText\": \"' For estimators  the product shall be able to be operated in a repair facility during dirty and noisy conditions.'\", \"class\": \"O\"}, {\"ProjectID\": 5, \"RequirementText\": \"'The product shall interface with the ChoiceParts system once per day at approximately 1:00 AM.'\", \"class\": \"O\"}, {\"ProjectID\": 5, \"RequirementText\": \"'The maintenance of the product will fall within the established corporate maintenance windows.'\", \"class\": \"O\"}, {\"ProjectID\": 5, \"RequirementText\": \"'The product shall be supported using the corporate support center.'\", \"class\": \"O\"}, {\"ProjectID\": 5, \"RequirementText\": \"'Product installations and upgrades shall be handled by the middleware technology team within established launch time frames.'\", \"class\": \"O\"}, {\"ProjectID\": 5, \"RequirementText\": \"'Only adjusters can request recycled parts audit reports. No users without an adjuster role shall request recycled parts audits.'\", \"class\": \"SE\"}, {\"ProjectID\": 5, \"RequirementText\": \"'Only adjusters with a supervisor role can update preferred repair facility ratings. Users without the supervisor role cannot access the repair facility ratings.'\", \"class\": \"SE\"}, {\"ProjectID\": 5, \"RequirementText\": \"'Only collision estimators shall search for recycled parts.  Users without the collision estimator role shall not have access to the search for recycled parts.'\", \"class\": \"SE\"}, {\"ProjectID\": 5, \"RequirementText\": \"'Only valid data shall be entered into the system.  No invalid data shall be entered into the system.'\", \"class\": \"SE\"}, {\"ProjectID\": 5, \"RequirementText\": \"'One insurance company shall not be able to view another insurance companys claim data.'\", \"class\": \"SE\"}, {\"ProjectID\": 5, \"RequirementText\": \"'The product shall free of computer viruses.'\", \"class\": \"SE\"}, {\"ProjectID\": 5, \"RequirementText\": \"'The system shall prevent malicious attacks including denial of service.'\", \"class\": \"SE\"}, {\"ProjectID\": 5, \"RequirementText\": \"'The product must comply with Sarbanes-Oxley.'\", \"class\": \"L\"}, {\"ProjectID\": 5, \"RequirementText\": \"'The product shall comply with the estimatics laws relating to recycled parts usage.'\", \"class\": \"L\"}, {\"ProjectID\": 5, \"RequirementText\": \"'The product shall comply with insurance regulations regarding claims processing.'\", \"class\": \"L\"}, {\"ProjectID\": 5, \"RequirementText\": \"' The user shall search for the preferred repair facility using vehicle  vehicle location  and radius in miles'\", \"class\": \"F\"}, {\"ProjectID\": 5, \"RequirementText\": \"' The vehicle data shall include vehicle year  make  and model'\", \"class\": \"F\"}, {\"ProjectID\": 5, \"RequirementText\": \"' The vehicle location shall include street address  city  state  and zipcode'\", \"class\": \"F\"}, {\"ProjectID\": 5, \"RequirementText\": \"' The system shall resolve the zipcode for the street address  city  and state if zipcode is unknown.'\", \"class\": \"F\"}, {\"ProjectID\": 5, \"RequirementText\": \"'The search radius shall be between 1 and 30 miles'\", \"class\": \"F\"}, {\"ProjectID\": 5, \"RequirementText\": \"'The system shall locate the preferred repair facility with the highest ratings for the input criteria'\", \"class\": \"F\"}, {\"ProjectID\": 5, \"RequirementText\": \"'The adjuster shall enter the preferred repair facility on the estimate assignment.'\", \"class\": \"F\"}, {\"ProjectID\": 5, \"RequirementText\": \"'The adjuster shall be able to override the preferred repair facitlity on the estimate assignment.'\", \"class\": \"F\"}, {\"ProjectID\": 5, \"RequirementText\": \"'The preferred repair facility shall be returned to the user.'\", \"class\": \"F\"}, {\"ProjectID\": 5, \"RequirementText\": \"'The system shall return a list of repair facilities within the radius if the preferred repair facility cannot be determined.'\", \"class\": \"F\"}, {\"ProjectID\": 5, \"RequirementText\": \"'The estimator shall search for available recycled parts using damaged vehicle parts information.'\", \"class\": \"F\"}, {\"ProjectID\": 5, \"RequirementText\": \"'The estimator shall search for available recycled parts using a list of preferred parts suppliers.'\", \"class\": \"F\"}, {\"ProjectID\": 5, \"RequirementText\": \"'The system shall search for available recycled parts for the supplied vehicle parts and suppliers.'\", \"class\": \"F\"}, {\"ProjectID\": 5, \"RequirementText\": \"'The estimator shall search by zipcode with a radius of 30 miles if no parts are found for the preferred parts suppliers'\", \"class\": \"F\"}, {\"ProjectID\": 5, \"RequirementText\": \"'The system shall retain the available recycled parts and suppliers returned from the search.'\", \"class\": \"F\"}, {\"ProjectID\": 5, \"RequirementText\": \"'The available recycled parts information and their suppliers shall be returned to the user.'\", \"class\": \"F\"}, {\"ProjectID\": 5, \"RequirementText\": \"'The estimator shall apply selected recycled parts to the collision estimate.'\", \"class\": \"F\"}, {\"ProjectID\": 5, \"RequirementText\": \"'The estimator shall not apply recycled parts to the collision estimate if no available parts are returned.'\", \"class\": \"F\"}, {\"ProjectID\": 5, \"RequirementText\": \"'The adjuster shall review the collision estimate.'\", \"class\": \"F\"}, {\"ProjectID\": 5, \"RequirementText\": \"'The adjuster shall request a recycled parts audit of the collision estimate.'\", \"class\": \"F\"}, {\"ProjectID\": 5, \"RequirementText\": \"'The recycled parts search results provided to the estimator shall be retrieved by the system.'\", \"class\": \"F\"}, {\"ProjectID\": 5, \"RequirementText\": \"'The system shall generate an audit report based on the available recycled parts and the collision estimate.'\", \"class\": \"F\"}, {\"ProjectID\": 5, \"RequirementText\": \"'The audit report shall include the total number of recycled parts used in the estimate.'\", \"class\": \"F\"}, {\"ProjectID\": 5, \"RequirementText\": \"'The audit report shall include the number of available recycled parts from the original search results.'\", \"class\": \"F\"}, {\"ProjectID\": 5, \"RequirementText\": \"' The audit report shall include the percentage of available recycled parts used in the estimate '\", \"class\": \"F\"}, {\"ProjectID\": 5, \"RequirementText\": \"'The audit report shall include the total score of the audit which sums the indivual line items.'\", \"class\": \"F\"}, {\"ProjectID\": 5, \"RequirementText\": \"'The audit report shall be displayed to the user.'\", \"class\": \"F\"}, {\"ProjectID\": 5, \"RequirementText\": \"'The audit report shall be available to other adjusters at later points in time.'\", \"class\": \"F\"}, {\"ProjectID\": 5, \"RequirementText\": \"'The user shall select to view the preferred repair facility ratings.'\", \"class\": \"F\"}, {\"ProjectID\": 5, \"RequirementText\": \"'The current repair facility ratings shall be displayed to the user.'\", \"class\": \"F\"}, {\"ProjectID\": 5, \"RequirementText\": \"'The system will display a blank set of ratings if there are not ratings yet defined.'\", \"class\": \"F\"}, {\"ProjectID\": 5, \"RequirementText\": \"'The user shall enter new ratings based on the audit report'\", \"class\": \"F\"}, {\"ProjectID\": 5, \"RequirementText\": \"'The ratings shall be from a scale of 1-10'\", \"class\": \"F\"}, {\"ProjectID\": 5, \"RequirementText\": \"'The ratings shall include categories for attempted use of recycled parts and actual use of recycled parts'\", \"class\": \"F\"}, {\"ProjectID\": 5, \"RequirementText\": \"'The user shall select to save the preferred repair facility ratings.'\", \"class\": \"F\"}, {\"ProjectID\": 5, \"RequirementText\": \"'The preferred repair facility ratings shall be saved by the system.'\", \"class\": \"F\"}, {\"ProjectID\": 6, \"RequirementText\": \"' The product must work with most database management systems (DBMS) on the market  whether the DBMS is colocated with the product on the same machine or is located on a different machine on the computer network.'\", \"class\": \"O\"}, {\"ProjectID\": 6, \"RequirementText\": \"'The product will function alongside server software on any operating system where the Java runtime can be installed.'\", \"class\": \"O\"}, {\"ProjectID\": 6, \"RequirementText\": \"'The product will require collaboration with a database management system (DBMS).  The DBMS may be located on the same machine as the product or on a separate machine residing on the same computer network.'\", \"class\": \"O\"}, {\"ProjectID\": 6, \"RequirementText\": \"' The product must make use of web/application server technology.  Open source examples include Apache web server  Tomcat  and the JBoss application server.'\", \"class\": \"O\"}, {\"ProjectID\": 6, \"RequirementText\": \"' A database management system such as Oracle  DB2  MySql or HSQL will need to be integrated with the product.'\", \"class\": \"O\"}, {\"ProjectID\": 6, \"RequirementText\": \"' The product\\u00ef\\u00bf\\u00bds Look and Feel shall be able to incorporate aspects of the customer\\u00ef\\u00bf\\u00bds organization such as logo  branding  and identity'\", \"class\": \"LF\"}, {\"ProjectID\": 6, \"RequirementText\": \"'The product shall have a conservative and professional appearance.'\", \"class\": \"LF\"}, {\"ProjectID\": 6, \"RequirementText\": \"'The product shall make the users want to use it. 80\\\\% of the users surveyed report they are regularly using the product after the first 2 weeks post-launch.'\", \"class\": \"US\"}, {\"ProjectID\": 6, \"RequirementText\": \"'The product shall be easy to use. 90\\\\% of users will be able to successfully reserve a conference room within 5 minutes of product use.'\", \"class\": \"US\"}, {\"ProjectID\": 6, \"RequirementText\": \"'The product shall give users feedback when necessary. 80\\\\% of the users surveyed report that the product accurately confirms their actions.'\", \"class\": \"US\"}, {\"ProjectID\": 6, \"RequirementText\": \"'The product shall allow the user to select a chosen language from one of the target market countries.'\", \"class\": \"US\"}, {\"ProjectID\": 6, \"RequirementText\": \"'The product shall allow for customization of start page and views preferences.'\", \"class\": \"US\"}, {\"ProjectID\": 6, \"RequirementText\": \"' An employee will be able to successfully use the product within a few minutes.  After informally navigating the product for less than 15 minutes  users shall be able to successfully setup meetings and reserve conference rooms.'\", \"class\": \"US\"}, {\"ProjectID\": 6, \"RequirementText\": \"'The product shall use a standard navigation menu familiar to most web users.'\", \"class\": \"US\"}, {\"ProjectID\": 6, \"RequirementText\": \"'The product shall allow for intuitive searching of available conference rooms.'\", \"class\": \"US\"}, {\"ProjectID\": 6, \"RequirementText\": \"'The product shall conform to the Americans with Disabilities Act.'\", \"class\": \"US\"}, {\"ProjectID\": 6, \"RequirementText\": \"'The response shall be fast enough to avoid interrupting the user\\u00ef\\u00bf\\u00bds flow of thought.  90\\\\% of tasks shall complete within 5 seconds.  98\\\\% of tasks shall complete within 8 seconds.'\", \"class\": \"PE\"}, {\"ProjectID\": 6, \"RequirementText\": \"' Aside from server failure  the software product shall achieve 99.99\\\\% up time.'\", \"class\": \"A\"}, {\"ProjectID\": 6, \"RequirementText\": \"'The product shall create an exception log of problems encountered within the product for transmission to our company for analysis and resolution.'\", \"class\": \"FT\"}, {\"ProjectID\": 6, \"RequirementText\": \"' The product shall be capable of handling up to 1 000 concurrent requests.  This number will increase to 2 000 by Release 2.  The concurrency capacity must be able to handle peak scheduling times such as early morning and late afternoon hours.'\", \"class\": \"SC\"}, {\"ProjectID\": 6, \"RequirementText\": \"' The product shall be able to process 10 000 transactions per hour within two years of its launch.  This number will increase to 20 000 by Release 2.'\", \"class\": \"SC\"}, {\"ProjectID\": 6, \"RequirementText\": \"'The product shall be expected to operate for at least 5 years for each customer installation.'\", \"class\": \"SC\"}, {\"ProjectID\": 6, \"RequirementText\": \"'The product shall be used in office environments.'\", \"class\": \"O\"}, {\"ProjectID\": 6, \"RequirementText\": \"'The product must be able to interface with any HTML browser.  The product shall transmit data between the user and the product without problems. The product shall display HTML properly in 80\\\\% of all HTML browsers tested (minimum is to test 8 browsers).'\", \"class\": \"O\"}, {\"ProjectID\": 6, \"RequirementText\": \"'The product must be able to interface with various database management systems. The product shall communicate successfully with the database management system on 100\\\\% of all transactions.'\", \"class\": \"O\"}, {\"ProjectID\": 6, \"RequirementText\": \"'The product must be able to interface with various email servers. The product shall be able to send email.'\", \"class\": \"O\"}, {\"ProjectID\": 6, \"RequirementText\": \"'The product shall be available for distribution via the Internet as a binary or ZIP file.'\", \"class\": \"O\"}, {\"ProjectID\": 6, \"RequirementText\": \"'The product shall be available for distribution as a packaged CD.'\", \"class\": \"O\"}, {\"ProjectID\": 6, \"RequirementText\": \"' The product will be available for licensing as a one-server  two-five servers  or five-or-more servers license.'\", \"class\": \"O\"}, {\"ProjectID\": 6, \"RequirementText\": \"'A new user must be able to be added to the system within 10 minutes.  90\\\\% of new users are able to log into the system within 10 minutes.'\", \"class\": \"US\"}, {\"ProjectID\": 6, \"RequirementText\": \"'The product must be designed using Design Patterns and coding best practices.  90\\\\% of maintenance software developers are able to integrate new functionality into the product with 2 working days.'\", \"class\": \"MN\"}, {\"ProjectID\": 6, \"RequirementText\": \"'The product must be highly configurable for use with various database management systems for the end users.  80\\\\% of end users are able to integrate new database management systems with the product without changing the product\\u00ef\\u00bf\\u00bds software code.'\", \"class\": \"MN\"}, {\"ProjectID\": 6, \"RequirementText\": \"'Maintenance releases will be offered to customers once a year.  The releases shall take no longer than 5 minutes for 80\\\\% of the customer base to install.'\", \"class\": \"MN\"}, {\"ProjectID\": 6, \"RequirementText\": \"'Every registered user will have access to the product\\u00ef\\u00bf\\u00bds support site via the Internet.  70\\\\% of registered users shall find a solution to their problem within 5 minutes of using the support site.'\", \"class\": \"US\"}, {\"ProjectID\": 6, \"RequirementText\": \"'The customer shall be able to easily integrate new building maps with the product throughout the product\\u00ef\\u00bf\\u00bds lifecycle.  Integration of new maps with the product shall be possible with little to no support from product support staff.'\", \"class\": \"MN\"}, {\"ProjectID\": 6, \"RequirementText\": \"' The product shall be translated into foreign languages other than the target market countries\\u00ef\\u00bf\\u00bd languages in future releases.  For each emerging target market  it shall take no more than 5 days to configure the product for that market\\u00ef\\u00bf\\u00bds language.'\", \"class\": \"US\"}, {\"ProjectID\": 6, \"RequirementText\": \"' The product is expected to integrate with multiple database management systems.  The product will operate with Oracle  SQL Server  DB2  MySQL  HSQL  and MS Access.'\", \"class\": \"O\"}, {\"ProjectID\": 6, \"RequirementText\": \"'The product shall be able to be installed in any operating environment within 2 days.'\", \"class\": \"O\"}, {\"ProjectID\": 6, \"RequirementText\": \"'The product shall ensure that only company employees or external users with company-approved user IDs may have product access.  100\\\\% of all logons shall be by either company employees or external users with company-approved user IDs.'\", \"class\": \"SE\"}, {\"ProjectID\": 6, \"RequirementText\": \"'Only managers are able to perform search queries for reservations by user.  100\\\\% of all search queries for reservations by user shall be from logons of only management logons.'\", \"class\": \"SE\"}, {\"ProjectID\": 6, \"RequirementText\": \"'The product shall ensure that the database\\u00ef\\u00bf\\u00bds data corresponds to the data entered by the user.  Each conference room reservation in the system will contain the same information as was entered by the user.'\", \"class\": \"SE\"}, {\"ProjectID\": 6, \"RequirementText\": \"'The product shall prevent the input of malicious data.  The product and/or adjacent hardware/software systems\\u00ef\\u00bf\\u00bd data shall remain 100\\\\% uncorrupted each time malicious data is input into the product.'\", \"class\": \"SE\"}, {\"ProjectID\": 6, \"RequirementText\": \"'The product and/or dependent databases/filesystems shall remain operational as a result of the input of malicious data.  The product and/or dependent databases/filesystems shall not crash 100\\\\% of the time that malicious data is input into the product.'\", \"class\": \"FT\"}, {\"ProjectID\": 6, \"RequirementText\": \"'The product shall have the ability to receive automatic software updates as new threats emerge.  100\\\\% of customers will be able to receive automatic software updates transmitted to the installed product.'\", \"class\": \"SE\"}, {\"ProjectID\": 6, \"RequirementText\": \"'The language of the product shall accommodate all of the target market countries. 90\\\\% of survey respondents from each target market country will find that the language of the product is acceptable.'\", \"class\": \"SC\"}, {\"ProjectID\": 6, \"RequirementText\": \"'The product shall be able to display calendar dates and times according to the user\\u00ef\\u00bf\\u00bds locale.  90\\\\% of survey respondents from each target market country will find that the date and time formatting of the product is correct.'\", \"class\": \"US\"}, {\"ProjectID\": 6, \"RequirementText\": \"'The product must be developed with the J2SE/J2EE programming language libraries'\", \"class\": \"O\"}, {\"ProjectID\": 6, \"RequirementText\": \"'The product shall record meeting entries.'\", \"class\": \"F\"}, {\"ProjectID\": 6, \"RequirementText\": \"'The product will notify employees of meeting invitations.'\", \"class\": \"F\"}, {\"ProjectID\": 6, \"RequirementText\": \"'The product shall have the ability to send meeting reminders to employees.'\", \"class\": \"F\"}, {\"ProjectID\": 6, \"RequirementText\": \"'The product shall assign the organizers contact information to each meeting they create.'\", \"class\": \"F\"}, {\"ProjectID\": 6, \"RequirementText\": \"'The product will record meeting acknowledgements.'\", \"class\": \"F\"}, {\"ProjectID\": 6, \"RequirementText\": \"'The product shall store new conference rooms.'\", \"class\": \"F\"}, {\"ProjectID\": 6, \"RequirementText\": \"'The product shall update existing conference rooms.'\", \"class\": \"F\"}, {\"ProjectID\": 6, \"RequirementText\": \"'The product will be able to delete conference rooms.'\", \"class\": \"F\"}, {\"ProjectID\": 6, \"RequirementText\": \"'The product shall be able to store new room equipment.'\", \"class\": \"F\"}, {\"ProjectID\": 6, \"RequirementText\": \"'The product will update existing room equipment.'\", \"class\": \"F\"}, {\"ProjectID\": 6, \"RequirementText\": \"'The product shall be able to delete room equipment.'\", \"class\": \"F\"}, {\"ProjectID\": 6, \"RequirementText\": \"'The product shall allow an organizer to invite other employees to meetings.'\", \"class\": \"F\"}, {\"ProjectID\": 6, \"RequirementText\": \"' Each time a conference room is reserved  the conference room schedule shall be updated to reflect the time and date of the reservation.'\", \"class\": \"F\"}, {\"ProjectID\": 6, \"RequirementText\": \"'The product shall record the transportation status of equipment reserved.'\", \"class\": \"F\"}, {\"ProjectID\": 6, \"RequirementText\": \"'The product shall display a map of the company building showing conference room locations.'\", \"class\": \"F\"}, {\"ProjectID\": 6, \"RequirementText\": \"'The product shall record updated meeting agendas.'\", \"class\": \"F\"}, {\"ProjectID\": 6, \"RequirementText\": \"'The product shall send a meeting confirmation to the meeting organizer.'\", \"class\": \"F\"}, {\"ProjectID\": 6, \"RequirementText\": \"'The product shall display room equipment according to search parameters.'\", \"class\": \"F\"}, {\"ProjectID\": 6, \"RequirementText\": \"'The product shall display conference rooms according to search parameters.'\", \"class\": \"F\"}, {\"ProjectID\": 6, \"RequirementText\": \"'The product shall record different meeting types.'\", \"class\": \"F\"}, {\"ProjectID\": 6, \"RequirementText\": \"'The product shall record all the equipment that has been reserved.'\", \"class\": \"F\"}, {\"ProjectID\": 6, \"RequirementText\": \"'The product shall notify building personnel of equipment transport requests.'\", \"class\": \"F\"}, {\"ProjectID\": 6, \"RequirementText\": \"'The product will allow priviledged users to view meeting schedules in multiple reporting views.'\", \"class\": \"F\"}, {\"ProjectID\": 6, \"RequirementText\": \"'The product shall be able to send meeting notifications via different kinds of end-user specified methods.'\", \"class\": \"F\"}, {\"ProjectID\": 6, \"RequirementText\": \"'The product shall have a customizable Look and Feel.'\", \"class\": \"F\"}, {\"ProjectID\": 6, \"RequirementText\": \"'The product shall have an intuitive user interface.'\", \"class\": \"F\"}, {\"ProjectID\": 6, \"RequirementText\": \"'The product will display an available status for unreserved conference rooms.'\", \"class\": \"F\"}, {\"ProjectID\": 7, \"RequirementText\": \"'Recreation of Inventory Quantity Adjustment for the period of previous 30 days shall take no more than 30min.'\", \"class\": \"PE\"}, {\"ProjectID\": 7, \"RequirementText\": \"'The System shall allow for a minimum of  6 users to work at the same time.'\", \"class\": \"PE\"}, {\"ProjectID\": 7, \"RequirementText\": \"'The System shall utilize currently owned computer equipment.'\", \"class\": \"O\"}, {\"ProjectID\": 7, \"RequirementText\": \"'The System shall be able to automatically backup business data and restore them on demand.'\", \"class\": \"O\"}, {\"ProjectID\": 7, \"RequirementText\": \"'The System shall maintain consistent security.  Any changes in user passwords and/or permissions should take affect in all parts of the System.'\", \"class\": \"SE\"}, {\"ProjectID\": 7, \"RequirementText\": \"'The System shall granularly control access rights to all major subsystems.  It should be possible to assign access rights to all subsystems independently.'\", \"class\": \"SE\"}, {\"ProjectID\": 7, \"RequirementText\": \"'The System shall meet all applicable accounting standards.  The final version of the System must successfully pass independent audit performed by a certified auditor.'\", \"class\": \"L\"}, {\"ProjectID\": 7, \"RequirementText\": \"'The System shall not require additional third party licenses resulting in royalty fees.'\", \"class\": \"O\"}, {\"ProjectID\": 7, \"RequirementText\": \"'The System shall allow generation of Inventory Quantity Adjustment documents on demand.'\", \"class\": \"F\"}, {\"ProjectID\": 7, \"RequirementText\": \"'The System shall allow on demand generation of all Inventory Quantity Adjustment documents since certain point of time.'\", \"class\": \"F\"}, {\"ProjectID\": 7, \"RequirementText\": \"'The IQA subsystem shall take into account current inventory status and adjust inventory of substitutionary ingredients accordingly.'\", \"class\": \"F\"}, {\"ProjectID\": 7, \"RequirementText\": \"' The System shall allow entering  storing and modifying product formulas.'\", \"class\": \"F\"}, {\"ProjectID\": 7, \"RequirementText\": \"' Product formulas shall allow use of semi-products  which have own formulas.'\", \"class\": \"F\"}, {\"ProjectID\": 7, \"RequirementText\": \"'Product formula ingredients shall allow defining substitutionary ingredients.'\", \"class\": \"F\"}, {\"ProjectID\": 7, \"RequirementText\": \"'Product formula substitutionary ingredients shall be entered automatically by the PFE subsystem.'\", \"class\": \"F\"}, {\"ProjectID\": 7, \"RequirementText\": \"'Formula substitutionary ingredients shall be kept in persisted order'\", \"class\": \"F\"}, {\"ProjectID\": 7, \"RequirementText\": \"' Product shall allow entering  storing and modifying product menus used by POS terminals.'\", \"class\": \"F\"}, {\"ProjectID\": 7, \"RequirementText\": \"'PME Subsystem shall allow building product menus based on the list of products kept in the accounting system.'\", \"class\": \"F\"}, {\"ProjectID\": 7, \"RequirementText\": \"'PME Subsystem shall allow keeping submenus within menus and products within submenus in a managed and persisted order.'\", \"class\": \"F\"}, {\"ProjectID\": 7, \"RequirementText\": \"'PME Subsystem shall allow for a product to exist in more than one submenu'\", \"class\": \"F\"}, {\"ProjectID\": 7, \"RequirementText\": \"'The RMS System shall have Windows XP look and feel and use GUI futures making its use intuitive.'\", \"class\": \"F\"}, {\"ProjectID\": 7, \"RequirementText\": \"'The System shall generate Inventory Quantity Adjustment document based on product daily sales data and product formulas.'\", \"class\": \"F\"}, {\"ProjectID\": 7, \"RequirementText\": \"'The System shall generate Inventory Quantity Adjustment document automatically when daily Product Sales data is available.'\", \"class\": \"F\"}, {\"ProjectID\": 8, \"RequirementText\": \"'Administrator shall be able to activate a pre-paid card via the Administration section in under 5 seconds.'\", \"class\": \"PE\"}, {\"ProjectID\": 8, \"RequirementText\": \"' Customer shall be able to check the status of their prepaid card  by entering in the PIN number  in under 5 seconds.'\", \"class\": \"PE\"}, {\"ProjectID\": 8, \"RequirementText\": \"'System shall let customers register on the website as a \\u00ef\\u00bf\\u00bdpay as you go\\u00ef\\u00bf\\u00bd user in under 5 minutes.'\", \"class\": \"PE\"}, {\"ProjectID\": 8, \"RequirementText\": \"'System shall let customers register on the website as a \\u00ef\\u00bf\\u00bdunlimited movie subscriber\\u00ef\\u00bf\\u00bd user in under 10 minutes.'\", \"class\": \"PE\"}, {\"ProjectID\": 8, \"RequirementText\": \"'System shall let existing customers log into the website with their email address and password in under 5 seconds.'\", \"class\": \"PE\"}, {\"ProjectID\": 8, \"RequirementText\": \"' System shall let customers cancel their account  process shall take no longer than 2 minutes.  Database will mark the account as inactive  and user will not be able to log into the website.'\", \"class\": \"PE\"}, {\"ProjectID\": 8, \"RequirementText\": \"'System shall let administrator de-activate a customer account in under 1 minute. Customer will no longer be able to access the website.'\", \"class\": \"PE\"}, {\"ProjectID\": 8, \"RequirementText\": \"'System shall let administrator add/remove movies on the website in under 5 minutes.  Entered movie information will be stored in the database and will now be available on the website.'\", \"class\": \"PE\"}, {\"ProjectID\": 8, \"RequirementText\": \"'System shall let the administrator add/remove categories on the website in under 5 minutes.'\", \"class\": \"PE\"}, {\"ProjectID\": 8, \"RequirementText\": \"'System shall let Izogn Manager access sales and usage statistics in under 2 minutes.'\", \"class\": \"PE\"}, {\"ProjectID\": 8, \"RequirementText\": \"'System shall let administrators generate unique pre-paid pins in under 2 minutes and generate an Excel file with the generated PINs.'\", \"class\": \"PE\"}, {\"ProjectID\": 8, \"RequirementText\": \"'The website shall be attractive to all audiences.  The website shall appear to be fun and the colors should be bright and vibrant.'\", \"class\": \"LF\"}, {\"ProjectID\": 8, \"RequirementText\": \"' The website should have an African feel  but should not alienate non-Africans.  The website should use animation on pages which are describing the services  to grab the users attention and encourage them to sign up.'\", \"class\": \"LF\"}, {\"ProjectID\": 8, \"RequirementText\": \"' The website design should be modern  clean  and concise.'\", \"class\": \"LF\"}, {\"ProjectID\": 8, \"RequirementText\": \"'The product should be able to be used by 90\\\\% of novice users on the Internet.'\", \"class\": \"US\"}, {\"ProjectID\": 8, \"RequirementText\": \"' Users should only have to navigate through a maximum of 4 pages  to create an account with the website.'\", \"class\": \"US\"}, {\"ProjectID\": 8, \"RequirementText\": \"'Users should be able to access their streaming movies in under 2 clicks after logging into the website.'\", \"class\": \"US\"}, {\"ProjectID\": 8, \"RequirementText\": \"'An anonymous survey will show that 70\\\\% of customers are comfortable purchasing streaming movies after 2 weeks using the website.'\", \"class\": \"US\"}, {\"ProjectID\": 8, \"RequirementText\": \"'An anonymous survey will show that 95\\\\% of customers are comfortable using and purchasing pre-paid cards after a month of using the system.'\", \"class\": \"US\"}, {\"ProjectID\": 8, \"RequirementText\": \"'The product shall retain the customer\\u00ef\\u00bf\\u00bds buying preferences and information.'\", \"class\": \"US\"}, {\"ProjectID\": 8, \"RequirementText\": \"'The product shall be easy for customers with novice skills on the  Internet to purchase and watch streaming movies.  Customers should be able to purchase and watch a pre-determined movie in under 3 minutes.'\", \"class\": \"US\"}, {\"ProjectID\": 8, \"RequirementText\": \"'The product shall use symbols and words that are naturally understandable by users familiar with websites'\", \"class\": \"US\"}, {\"ProjectID\": 8, \"RequirementText\": \"'The website will use standard Internet conventions when interacting with the user.'\", \"class\": \"US\"}, {\"ProjectID\": 8, \"RequirementText\": \"' Any interface between a user and the automated system shall have a maximum response time of 5 seconds  unless noted by an exception below.'\", \"class\": \"PE\"}, {\"ProjectID\": 8, \"RequirementText\": \"' When purchasing a streaming movie or pre-paid card via credit card  the processing time should have a maximum response time of 15 seconds.'\", \"class\": \"PE\"}, {\"ProjectID\": 8, \"RequirementText\": \"' When streaming a movie  the buffering time should take no longer than 10 seconds (plus any latency on the user\\u00ef\\u00bf\\u00bds connection.)'\", \"class\": \"PE\"}, {\"ProjectID\": 8, \"RequirementText\": \"' While streaming a movie  buffering should only occur if there is latency in the user\\u00ef\\u00bf\\u00bds connection.'\", \"class\": \"PE\"}, {\"ProjectID\": 8, \"RequirementText\": \"' All credit card information will be secured on the server  and only accessible by authorized Izogn administrators.  Information will be encrypted in the database.'\", \"class\": \"SE\"}, {\"ProjectID\": 8, \"RequirementText\": \"' The website shall be available for use 24 hours per day  365 days per year.'\", \"class\": \"A\"}, {\"ProjectID\": 8, \"RequirementText\": \"'The website shall achieve 99.5\\\\% up time.'\", \"class\": \"A\"}, {\"ProjectID\": 8, \"RequirementText\": \"' All movies shall be streamed on demand  at any time of the day.'\", \"class\": \"A\"}, {\"ProjectID\": 8, \"RequirementText\": \"'The website shall continue to operate if the streaming server goes down.'\", \"class\": \"FT\"}, {\"ProjectID\": 8, \"RequirementText\": \"'The website shall continue to operate if the payment gateway goes down.'\", \"class\": \"FT\"}, {\"ProjectID\": 8, \"RequirementText\": \"'The streaming server will support 50 simultaneous streaming connections.'\", \"class\": \"SC\"}, {\"ProjectID\": 8, \"RequirementText\": \"'The streaming server will support a maximum of 700 movies; new servers can be added to support more movies.'\", \"class\": \"SC\"}, {\"ProjectID\": 8, \"RequirementText\": \"' The server will support a maximum of 1 000 simultaneous users.'\", \"class\": \"SC\"}, {\"ProjectID\": 8, \"RequirementText\": \"' The website shall be capable of supporting 100 000 customers.'\", \"class\": \"SC\"}, {\"ProjectID\": 8, \"RequirementText\": \"'The product shall be expected to operate within the maximum maintenance budget for a minimum of 2 years.'\", \"class\": \"MN\"}, {\"ProjectID\": 8, \"RequirementText\": \"'All aspects of the website shall be accessed by a web browser over the Internet.'\", \"class\": \"O\"}, {\"ProjectID\": 8, \"RequirementText\": \"'The same hardware supporting the current website will be used to support the new system.'\", \"class\": \"O\"}, {\"ProjectID\": 8, \"RequirementText\": \"' We must be able to interface with the following browsers: IE 5.X  6.0  Netscape 6.x  7.x  8.x and Firefox 1.0.'\", \"class\": \"O\"}, {\"ProjectID\": 8, \"RequirementText\": \"'Website must interface with the CyberSource API to process credit card transactions.'\", \"class\": \"O\"}, {\"ProjectID\": 8, \"RequirementText\": \"'Website must be fully operational with MSN TV2.'\", \"class\": \"O\"}, {\"ProjectID\": 8, \"RequirementText\": \"'Movies shall be encoded and streamed via Windows Media Player 9.0.'\", \"class\": \"O\"}, {\"ProjectID\": 8, \"RequirementText\": \"'Movies shall be encoded for 56k and 256k streams.'\", \"class\": \"O\"}, {\"ProjectID\": 8, \"RequirementText\": \"'Promotional updates to the website should take a day to update.'\", \"class\": \"MN\"}, {\"ProjectID\": 8, \"RequirementText\": \"'Izogn Administrator must be able to update the category listings on the website within 2 minutes.'\", \"class\": \"PE\"}, {\"ProjectID\": 8, \"RequirementText\": \"'Izogn Administrator must be able to add new products to the website within 2 minutes.'\", \"class\": \"PE\"}, {\"ProjectID\": 8, \"RequirementText\": \"'The system will provide a 24 hour 800 toll free number for support to its customers.'\", \"class\": \"A\"}, {\"ProjectID\": 8, \"RequirementText\": \"'The website will provide a help section with answers and solutions to common problems.'\", \"class\": \"US\"}, {\"ProjectID\": 8, \"RequirementText\": \"' Velkat staff will be available for phone support between 7am-7pm  M-F to provide technical support to the Izogn administrators.'\", \"class\": \"A\"}, {\"ProjectID\": 8, \"RequirementText\": \"'The product shall be able to be installed in the specified environment within 1 working day.'\", \"class\": \"O\"}, {\"ProjectID\": 8, \"RequirementText\": \"'Only registered customers can purchase streaming movies.'\", \"class\": \"SE\"}, {\"ProjectID\": 8, \"RequirementText\": \"' A customer can only stream a movie if they purchased it  and are within the 2 day viewing period.'\", \"class\": \"SE\"}, {\"ProjectID\": 8, \"RequirementText\": \"'Only authorized personnel can access customer records in the database.'\", \"class\": \"SE\"}, {\"ProjectID\": 8, \"RequirementText\": \"'Only administrators can activate a pre-paid card.'\", \"class\": \"SE\"}, {\"ProjectID\": 8, \"RequirementText\": \"'Only authorized personnel can access sales information.'\", \"class\": \"SE\"}, {\"ProjectID\": 8, \"RequirementText\": \"'The website shall prevent its data from being corrupted when incorrect data is entered in.'\", \"class\": \"SE\"}, {\"ProjectID\": 8, \"RequirementText\": \"' The website shall protect itself from intentional abuse  and notify the administrator at all occurrences.'\", \"class\": \"SE\"}, {\"ProjectID\": 8, \"RequirementText\": \"'Data integrity scripts will be run on a weekly basis to verify the integrity of the database.'\", \"class\": \"SE\"}, {\"ProjectID\": 8, \"RequirementText\": \"' The website shall make its user aware of its information practices before collection data from them via a Privacy Policy  accessible on all pages of the website.'\", \"class\": \"SE\"}, {\"ProjectID\": 8, \"RequirementText\": \"'The system shall notify customers of changes to its information policy.'\", \"class\": \"SE\"}, {\"ProjectID\": 8, \"RequirementText\": \"'The system shall reveal private information only in compliance with the organization\\u00ef\\u00bf\\u00bds information policy.'\", \"class\": \"SE\"}, {\"ProjectID\": 8, \"RequirementText\": \"' All customer information will be stored on a secure database  accessible only to authorized personnel.'\", \"class\": \"SE\"}, {\"ProjectID\": 8, \"RequirementText\": \"'All credit card information will be encrypted in the database.'\", \"class\": \"SE\"}, {\"ProjectID\": 8, \"RequirementText\": \"'The streaming server will have anti-virus software to prevent infection of malicious viruses.'\", \"class\": \"SE\"}, {\"ProjectID\": 8, \"RequirementText\": \"'The website should cater to all tribes in Nigeria.'\", \"class\": \"LF\"}, {\"ProjectID\": 8, \"RequirementText\": \"'The website shall not be offensive to religious or ethnic groups.'\", \"class\": \"LF\"}, {\"ProjectID\": 8, \"RequirementText\": \"' The website should appeal to all Africans  not only Nigerians.'\", \"class\": \"LF\"}, {\"ProjectID\": 8, \"RequirementText\": \"'The website should use Flash to provide animation on the home page.'\", \"class\": \"O\"}, {\"ProjectID\": 8, \"RequirementText\": \"'IzognMovies shall meet the licensing requirements set forth by the appropriate organizations in order to stream African movies.'\", \"class\": \"L\"}, {\"ProjectID\": 8, \"RequirementText\": \"'The website will comply with W3C standards.'\", \"class\": \"L\"}, {\"ProjectID\": 8, \"RequirementText\": \"'The PHP code will comply with PEAR standards.'\", \"class\": \"L\"}, {\"ProjectID\": 8, \"RequirementText\": \"' The website will allow customers to search for movies by title  actor  or director.'\", \"class\": \"F\"}, {\"ProjectID\": 8, \"RequirementText\": \"' viewing a movie details  the website will display the movies description  actor  and director entered in by the administrator.'\", \"class\": \"F\"}, {\"ProjectID\": 8, \"RequirementText\": \"' Website shall request  and authorize credit card payment before allowing a user to stream a movie.'\", \"class\": \"F\"}, {\"ProjectID\": 8, \"RequirementText\": \"' shall be able to stream purchased movie via Windows Media Player  for up to 2 days aftere purchase date.'\", \"class\": \"F\"}, {\"ProjectID\": 8, \"RequirementText\": \"'Website shall allow customers to browse movies by categories entered in by izogn administrator.'\", \"class\": \"F\"}, {\"ProjectID\": 8, \"RequirementText\": \"'Website shall allow customers to view reviews of selected movies by other customers.'\", \"class\": \"F\"}, {\"ProjectID\": 8, \"RequirementText\": \"'Website shall allow customers to add their own movie review for a selected movie.'\", \"class\": \"F\"}, {\"ProjectID\": 8, \"RequirementText\": \"'Website shall allow the Izogn administrator to approve a review posted by a customer.'\", \"class\": \"F\"}, {\"ProjectID\": 8, \"RequirementText\": \"'System will allow customers to pay for a streaming movie with a pre-paid card.'\", \"class\": \"F\"}, {\"ProjectID\": 8, \"RequirementText\": \"' Website shall allow customers to purchase pre-paid cards of $5  $10  or $20 value either by credit card or mail-in payment option.'\", \"class\": \"F\"}, {\"ProjectID\": 8, \"RequirementText\": \"' System shall automatically update the main page of the website every Friday  and show the 4 latest movies that have been added to the website.'\", \"class\": \"F\"}, {\"ProjectID\": 8, \"RequirementText\": \"'System shall allow users to update their billing and contact information via the \\u00ef\\u00bf\\u00bdMy Account\\u00ef\\u00bf\\u00bd section of the website.'\", \"class\": \"F\"}, {\"ProjectID\": 8, \"RequirementText\": \"' Pre-paid cards shall be distributed via email  or via a printed paper card.'\", \"class\": \"F\"}, {\"ProjectID\": 8, \"RequirementText\": \"'Only registered customers can purchase streaming movies.'\", \"class\": \"F\"}, {\"ProjectID\": 8, \"RequirementText\": \"' Movies can only be streamed if the customer has purchased a movie  and is within the 2-day time period to stream the movie.'\", \"class\": \"F\"}, {\"ProjectID\": 8, \"RequirementText\": \"'Website must be able to support free trial periods with various parameters set by the Izogn Manager.'\", \"class\": \"F\"}, {\"ProjectID\": 8, \"RequirementText\": \"' All streaming movie sales will be logged in the database  and accessible by the administrator.'\", \"class\": \"F\"}, {\"ProjectID\": 8, \"RequirementText\": \"' All registered customer information shall be stored and maintained in the database  even after the customer cancels their account.'\", \"class\": \"F\"}, {\"ProjectID\": 8, \"RequirementText\": \"' Daily usage statistics should be logged  and accessible by the administrator.'\", \"class\": \"F\"}, {\"ProjectID\": 8, \"RequirementText\": \"'The owner shall have free access to all of the streaming movies.'\", \"class\": \"F\"}, {\"ProjectID\": 9, \"RequirementText\": \"'Total lead cycle time must be completed in 5 minutes for 90\\\\% of lead volume between the business hours of 8AM CST to 8PM CST; then 3 minutes for 99\\\\% of lead volume during off business hours.'\", \"class\": \"PE\"}, {\"ProjectID\": 9, \"RequirementText\": \"'No lead evaluation will complete in a time period longer than 25 seconds for 97\\\\% of all leads processed.'\", \"class\": \"PE\"}, {\"ProjectID\": 9, \"RequirementText\": \"'For leads that process longer than 25 seconds the system will record the event and duration'\", \"class\": \"PE\"}, {\"ProjectID\": 9, \"RequirementText\": \"'The process must fit within the processing time conditions set forth by the Auto Rep Assignment process in which a lead is assigned within 3 minutes of the total life cycle.'\", \"class\": \"PE\"}, {\"ProjectID\": 9, \"RequirementText\": \"'The lead washing process will operate within the established physical web service structure.'\", \"class\": \"O\"}, {\"ProjectID\": 9, \"RequirementText\": \"' The washing process must use a non binding  neutral data format  such as xml  when receiving and processing lead data.'\", \"class\": \"O\"}, {\"ProjectID\": 9, \"RequirementText\": \"'Defect reports will be available to technical units on a 24x7 basis.'\", \"class\": \"A\"}, {\"ProjectID\": 9, \"RequirementText\": \"'Washing parameters will be updated during scheduled maintenance hours.'\", \"class\": \"MN\"}, {\"ProjectID\": 9, \"RequirementText\": \"'The vendor will verify the invalid lead.'\", \"class\": \"F\"}, {\"ProjectID\": 9, \"RequirementText\": \"'Vendor will submit a credit validation record to be applied to the enterprise billing system.'\", \"class\": \"F\"}, {\"ProjectID\": 9, \"RequirementText\": \"'If a lead is scored to the high range the system will supply the lead data and score to the enterprise system.'\", \"class\": \"F\"}, {\"ProjectID\": 9, \"RequirementText\": \"'The leads washing functionality will validate all leads received by the web service for valid data'\", \"class\": \"F\"}, {\"ProjectID\": 9, \"RequirementText\": \"'The leads washing functionality will insert all leads captured by the web service.'\", \"class\": \"F\"}, {\"ProjectID\": 9, \"RequirementText\": \"'If the leads score falls within the high average score then it will be process by the ARA functionality.'\", \"class\": \"F\"}, {\"ProjectID\": 9, \"RequirementText\": \"'If the leads score falls within the medium average then it will be set for manual verification by an Enrollment Coordinator through the eleads system.'\", \"class\": \"F\"}, {\"ProjectID\": 9, \"RequirementText\": \"'If the leads score falls within the low average then it will be returned to the supplying vendor'\", \"class\": \"F\"}, {\"ProjectID\": 9, \"RequirementText\": \"'The leads washing functionality will compile both contact and academic scoring information for a total score.'\", \"class\": \"F\"}, {\"ProjectID\": 9, \"RequirementText\": \"'The leads washing functionality will use the parameters supplied by corporate and schools to score part of the lead.'\", \"class\": \"F\"}, {\"ProjectID\": 9, \"RequirementText\": \"'The leads washing functionality will return the lead data supplied to the vendor along with the reason of rejection.'\", \"class\": \"F\"}, {\"ProjectID\": 9, \"RequirementText\": \"'The leads washing functionality will have an interface in which lead data parameters can be maintained.'\", \"class\": \"F\"}, {\"ProjectID\": 9, \"RequirementText\": \"'The leads washing functionality will verify the users authentication and rights to make parameter updates.'\", \"class\": \"F\"}, {\"ProjectID\": 9, \"RequirementText\": \"'The leads washing functionality will store any potential lead duplicates returned by the enterprise system.'\", \"class\": \"F\"}, {\"ProjectID\": 9, \"RequirementText\": \"'Prior to submitting the lead to the enterprise system the leads washing functionality will assign the lead to an admissions rep.'\", \"class\": \"F\"}, {\"ProjectID\": 9, \"RequirementText\": \"'The leads washing functionality shall receive a period list of available reps from the enterprise system.'\", \"class\": \"F\"}, {\"ProjectID\": 10, \"RequirementText\": \"'The product shall simulate the look of ships at sea.'\", \"class\": \"LF\"}, {\"ProjectID\": 10, \"RequirementText\": \"'The product shall display the grids within a circle as a view from a periscope.'\", \"class\": \"LF\"}, {\"ProjectID\": 10, \"RequirementText\": \"'The product shall display each type of ship in a grid using an image of the specific type of ship.'\", \"class\": \"LF\"}, {\"ProjectID\": 10, \"RequirementText\": \"' When the offensive player takes a shot  the product shall simulate the sound of a ship at sea.'\", \"class\": \"LF\"}, {\"ProjectID\": 10, \"RequirementText\": \"' When a shot is marked as a miss  the product shall simulate the sound of a shot missing its target.'\", \"class\": \"LF\"}, {\"ProjectID\": 10, \"RequirementText\": \"' When a shot is marked as a hit  the product shall simulate the sound of a shot hitting its target.'\", \"class\": \"LF\"}, {\"ProjectID\": 10, \"RequirementText\": \"' When a ship is sunk  the product shall simulate the sound of a sinking ship.'\", \"class\": \"LF\"}, {\"ProjectID\": 10, \"RequirementText\": \"' The product shall be available 24 hours per day  seven days per week.'\", \"class\": \"A\"}, {\"ProjectID\": 10, \"RequirementText\": \"'The product shall able to handle a large number of games simultaneously.'\", \"class\": \"PE\"}, {\"ProjectID\": 10, \"RequirementText\": \"'The response time shall be fast enough to maintain the flow of the game.  The response time shall be no more than 2 seconds for 95\\\\% of responses and no more than 4\\\\% for the remaining responses.'\", \"class\": \"PE\"}, {\"ProjectID\": 10, \"RequirementText\": \"'The product shall protect the identity of the players. The product shall provide players no access to information that might reveal the identity of another player.'\", \"class\": \"PE\"}, {\"ProjectID\": 10, \"RequirementText\": \"'The product shall be intuitive and self-explanatory.  Nine out ten users shall be able to successfully complete a game with no training.'\", \"class\": \"US\"}, {\"ProjectID\": 10, \"RequirementText\": \"' The product shall be available to players who understand English  Spanish and French.  The product shall allow the user to select the language upon accessing the product.'\", \"class\": \"US\"}, {\"ProjectID\": 10, \"RequirementText\": \"'The product shall provide players no access to information that might reveal the identity of another player'\", \"class\": \"SE\"}, {\"ProjectID\": 10, \"RequirementText\": \"'The response time shall be fast enough to maintain the flow of the game. The response time shall be no more than 2 seconds for 95\\\\% of responses and no more than 4\\\\% for the remaining responses.'\", \"class\": \"PE\"}, {\"ProjectID\": 10, \"RequirementText\": \"'The product shall maintain a list of players.'\", \"class\": \"F\"}, {\"ProjectID\": 10, \"RequirementText\": \"'The product shall allow a user to identify himself or herself as a player.'\", \"class\": \"F\"}, {\"ProjectID\": 10, \"RequirementText\": \"' Once a game has been initiated  the product shall make the players assigned to the game unavailable for selection from the list of players.'\", \"class\": \"F\"}, {\"ProjectID\": 10, \"RequirementText\": \"'The product shall allow a user to remove himself or herself from the list of players at any time.'\", \"class\": \"F\"}, {\"ProjectID\": 10, \"RequirementText\": \"'The product shall make inactive players unavailable for selection from the list of players.'\", \"class\": \"F\"}, {\"ProjectID\": 10, \"RequirementText\": \"'The product shall remove players who have been inactive for 24 hours from the list of players.'\", \"class\": \"F\"}, {\"ProjectID\": 10, \"RequirementText\": \"'The product shall allow a player to initiate a game by selecting another available player from the list of players.'\", \"class\": \"F\"}, {\"ProjectID\": 10, \"RequirementText\": \"' Once a game is initiated  the product shall display a defensive grid to each player'\", \"class\": \"F\"}, {\"ProjectID\": 10, \"RequirementText\": \"' Once a game is initiated  the product shall display an offensive grid to each player.'\", \"class\": \"F\"}, {\"ProjectID\": 10, \"RequirementText\": \"'The product shall prevent a player from viewing the offensive or defensive grids of the other player.'\", \"class\": \"F\"}, {\"ProjectID\": 10, \"RequirementText\": \"' Once a game is initiated  the product shall allow each player to position their 5 ships on their respective defensive grids.'\", \"class\": \"F\"}, {\"ProjectID\": 10, \"RequirementText\": \"'The product shall allow a player to position ships horizontally on their grid.'\", \"class\": \"F\"}, {\"ProjectID\": 10, \"RequirementText\": \"'The product shall allow the player to position ships vertically on their grid.'\", \"class\": \"F\"}, {\"ProjectID\": 10, \"RequirementText\": \"'The product shall allow the player to position ships diagonally on their grid'\", \"class\": \"F\"}, {\"ProjectID\": 10, \"RequirementText\": \"'The product shall prevent the player from overlapping ships on their grid.'\", \"class\": \"F\"}, {\"ProjectID\": 10, \"RequirementText\": \"' When both players have positioned their 5 ships on their defensive grids  the product shall define the status of each player for the first turn.'\", \"class\": \"F\"}, {\"ProjectID\": 10, \"RequirementText\": \"' For each turn  the product shall identify one player as offensive status and one player as defensive status.'\", \"class\": \"F\"}, {\"ProjectID\": 10, \"RequirementText\": \"' The product shall maintain the status of each player for a turn  either offensive or defensive.'\", \"class\": \"F\"}, {\"ProjectID\": 10, \"RequirementText\": \"' At the start of each turn  the product shall notify each player of his or her status.'\", \"class\": \"F\"}, {\"ProjectID\": 10, \"RequirementText\": \"' For each turn  the product shall allow the offensive player to define a shot.'\", \"class\": \"F\"}, {\"ProjectID\": 10, \"RequirementText\": \"' For each shot  the product shall examine the defensive grid of the defensive player to determine whether the shot was a hit or miss.'\", \"class\": \"F\"}, {\"ProjectID\": 10, \"RequirementText\": \"' For each shot  the product shall notify the players whether the shot was a hit or miss.'\", \"class\": \"F\"}, {\"ProjectID\": 10, \"RequirementText\": \"' For each shot  the product shall mark the shot as a hit or miss on the defensive grid of the defensive player.'\", \"class\": \"F\"}, {\"ProjectID\": 10, \"RequirementText\": \"' For each shot  the product shall mark the shot as a hit or miss on the offensive grid of the offensive player.'\", \"class\": \"F\"}, {\"ProjectID\": 10, \"RequirementText\": \"' When the hit results in sinking a ship  the product shall notify the players that the ship was sunk.'\", \"class\": \"F\"}, {\"ProjectID\": 10, \"RequirementText\": \"' When the hit results in sinking a ship  the product shall mark the ship as sunk on the defensive grid of the defensive player.'\", \"class\": \"F\"}, {\"ProjectID\": 10, \"RequirementText\": \"' When the hit results in sinking a ship  the product shall indicate the type of ship sunk on the defensive grid of the defensive player.'\", \"class\": \"F\"}, {\"ProjectID\": 10, \"RequirementText\": \"' When the hit results in sinking a ship  the product shall mark the ship as sunk on the offensive grid of the offensive player.'\", \"class\": \"F\"}, {\"ProjectID\": 10, \"RequirementText\": \"' If the shot was marked as a hit  the product shall allow the offensive player to define a shot.'\", \"class\": \"F\"}, {\"ProjectID\": 10, \"RequirementText\": \"' If the shot was marked as a miss  the product shall change the status of the offensive player to defensive'\", \"class\": \"F\"}, {\"ProjectID\": 10, \"RequirementText\": \"' If the shot was marked as a miss  the product shall change the status of the defensive player to offensive'\", \"class\": \"F\"}, {\"ProjectID\": 10, \"RequirementText\": \"'The product shall continue to assign turns until the game is ended.'\", \"class\": \"F\"}, {\"ProjectID\": 10, \"RequirementText\": \"' The product shall end a game when a hit by the offensive player results in sinking the last of the defensive player\\u00ef\\u00bf\\u00bds ships  which had not been previously marked as sunk.'\", \"class\": \"F\"}, {\"ProjectID\": 10, \"RequirementText\": \"'The product shall allow a player to end a game at any time during the game.'\", \"class\": \"F\"}, {\"ProjectID\": 10, \"RequirementText\": \"' When a game is ended  the product shall notify the players that the game is ended.'\", \"class\": \"F\"}, {\"ProjectID\": 10, \"RequirementText\": \"' The notification of the game ending will include the reason the game is ended (i.e.  a player has won the game or a player has ended the game).'\", \"class\": \"F\"}, {\"ProjectID\": 10, \"RequirementText\": \"' When a game is ended  the product shall allow each player to identify himself or herself as an available player in the list of players.'\", \"class\": \"F\"}, {\"ProjectID\": 10, \"RequirementText\": \"' When a game is ended  the product shall allow each player to remove himself or herself from the list of players.'\", \"class\": \"F\"}, {\"ProjectID\": 11, \"RequirementText\": \"'The system shall be easy to use by callers and supervisors. Callers and supervisors must be able to accomplish any system task within 2 minutes.'\", \"class\": \"US\"}, {\"ProjectID\": 11, \"RequirementText\": \"'The system shall be easy to learn by callers and supervisors. Callers and supervisors shall learn how to use the system within 10 minutes.'\", \"class\": \"US\"}, {\"ProjectID\": 11, \"RequirementText\": \"' The system shall be responsive. At the DePaul TeleServices Center  when a supervisor uses the system to view a callers schedule  the system response time must be no more than 2 seconds 90\\\\% of the time and no more than 5 seconds the rest of the time.'\", \"class\": \"PE\"}, {\"ProjectID\": 11, \"RequirementText\": \"' On a 56k connection  the system response time for all operations must be no more than 6 seconds 90\\\\% of the time.'\", \"class\": \"PE\"}, {\"ProjectID\": 11, \"RequirementText\": \"' On a 112k connection or faster  the system response time for all operations must be no more than 3 seconds 90\\\\% of the time.'\", \"class\": \"PE\"}, {\"ProjectID\": 11, \"RequirementText\": \"'The system shall have high availability every day of the year.The system must be available for use between 12:00AM and 6:00PM all days of the year.'\", \"class\": \"A\"}, {\"ProjectID\": 11, \"RequirementText\": \"'The system must be available for use between 7:00AM and 11:59PM all days of the year.'\", \"class\": \"A\"}, {\"ProjectID\": 11, \"RequirementText\": \"'The product shall be internet browser independent.The product must run using Internet Explorer and Netscape Navigator.'\", \"class\": \"MN\"}, {\"ProjectID\": 11, \"RequirementText\": \"'The product shall ensure that only supervisors can advertise empty time slots.The product must ensure that supervisors are allowed to access advertise empty time slots.'\", \"class\": \"SE\"}, {\"ProjectID\": 11, \"RequirementText\": \"'The product shall ensure that only supervisors can enter a caller\\u00ef\\u00bf\\u00bds schedule.The product must ensure that supervisors are allowed to access advertise empty time slots.'\", \"class\": \"SE\"}, {\"ProjectID\": 11, \"RequirementText\": \"'The product shall ensure that only supervisors can view schedule of all callers.The product must ensure that supervisors are allowed to access advertise empty time slots.'\", \"class\": \"SE\"}, {\"ProjectID\": 11, \"RequirementText\": \"' The interface shall have a simple look. In the interface and usability survey  90\\\\% of beta testers must report that the interface is adequately simple.'\", \"class\": \"LF\"}, {\"ProjectID\": 11, \"RequirementText\": \"' The interface shall be appealing to callers and supervisors. In the interface and usability survey  80\\\\% of beta testers must report that the interface is appealing.'\", \"class\": \"LF\"}, {\"ProjectID\": 12, \"RequirementText\": \"'The product shall provide GUI based Monitoring Services.System Administrators shall monitor message exchanges will predict and determine problems and will also provide internal and external support.'\", \"class\": \"LF\"}, {\"ProjectID\": 12, \"RequirementText\": \"'The product shall comply with City of Chicago Application Development Guide Framework.Application Development Framework will provide structured Graphical User Interface.'\", \"class\": \"LF\"}, {\"ProjectID\": 12, \"RequirementText\": \"'The product shall provide Monitoring Services.The product shall be easy for System Administrators and DBAs to use after two weeks of usage.'\", \"class\": \"US\"}, {\"ProjectID\": 12, \"RequirementText\": \"'The product shall provide Error Tracking Services.The product shall help the System Administrators and DBAs to resolve transaction errors 99\\\\% of the time.'\", \"class\": \"US\"}, {\"ProjectID\": 12, \"RequirementText\": \"'The product shall provide Portals.The product shall help System Administrators to analyze the transactions with ad-hoc reporting and KPIs (Key Performance Indicators)'\", \"class\": \"US\"}, {\"ProjectID\": 12, \"RequirementText\": \"'The product shall provide Asynchronous Messaging.The product shall provide asynchronous messaging to enable parallel processing and reduce the overhead in communications'\", \"class\": \"PE\"}, {\"ProjectID\": 12, \"RequirementText\": \"'The product shall provide Multi-threading and Load Balancing.The product shall provide multi-threading technology as well as load balancing to overcome data load spikes and traffic.'\", \"class\": \"PE\"}, {\"ProjectID\": 12, \"RequirementText\": \"'The product shall process messages within 2 seconds.The product shall have a maximum message processing time of 2 seconds'\", \"class\": \"PE\"}, {\"ProjectID\": 12, \"RequirementText\": \"'The product shall poll the system for messages every second.The product shall poll the system for new messages at a maximum of every 1 second.'\", \"class\": \"PE\"}, {\"ProjectID\": 12, \"RequirementText\": \"'The product shall provide Dynamic Change Support and Transparent resource addition.The product shall support Transparent Resource addition and Dynamic Change support to provide scalability and avoid service interruptions of more than 1 day.'\", \"class\": \"PE\"}, {\"ProjectID\": 12, \"RequirementText\": \"'The product shall be available 99\\\\% of the time. Rationale: To avoid service interruption during busiest customer service response periods. The product shall be available 99.99\\\\% of the time for regular business days.'\", \"class\": \"A\"}, {\"ProjectID\": 12, \"RequirementText\": \"'The product shall be robust.The product shall have fault avoidance based on standards adoption.'\", \"class\": \"FT\"}, {\"ProjectID\": 12, \"RequirementText\": \"'The product shall be robust with fault tolerance.The product shall have fault tolerance by using recovery technique compensatory transaction and routing around failures.'\", \"class\": \"FT\"}, {\"ProjectID\": 12, \"RequirementText\": \"'The product shall be able to process all transactions.The product shall process minimum of 1 million transactions per year.'\", \"class\": \"SC\"}, {\"ProjectID\": 12, \"RequirementText\": \"'The product shall be platform independent.The product shall enable access to any type of development environment and platform.'\", \"class\": \"O\"}, {\"ProjectID\": 12, \"RequirementText\": \"'The product shall interface CSR and Datastream.The product shall exchange messages between CSR and EAM on a real time basis without any direct interfaces between two systems.'\", \"class\": \"O\"}, {\"ProjectID\": 12, \"RequirementText\": \"' : The product shall continue to operate during upgrade  change or new resource addition.The product shall be able to continue to operate with no interruption in service due to new resource additions.'\", \"class\": \"MN\"}, {\"ProjectID\": 12, \"RequirementText\": \"'The product shall be updated on a regular basis.The product will have a new major feature introduced every six months and quarterly maintenance releases every six months.'\", \"class\": \"MN\"}, {\"ProjectID\": 12, \"RequirementText\": \"'The product shall operate with every platform.The product shall accommodate any new technology without any change in its architecture.'\", \"class\": \"MN\"}, {\"ProjectID\": 12, \"RequirementText\": \"' The product shall have security.The product shall provide authentication  and authorization.'\", \"class\": \"SE\"}, {\"ProjectID\": 12, \"RequirementText\": \"'The product shall information Security. The product shall enable privacy by encryption WS-Security and Integrity Checking.'\", \"class\": \"SE\"}, {\"ProjectID\": 12, \"RequirementText\": \"'The product shall have audit capabilities.The product shall store messages for a minimum of one year for audit and transaction tracking purposes.'\", \"class\": \"SE\"}, {\"ProjectID\": 13, \"RequirementText\": \"'The system shall use IBM and CCR branding standards. The interface must have one IBM logo and one CCR logo.'\", \"class\": \"LF\"}, {\"ProjectID\": 13, \"RequirementText\": \"'The system shall be displayable on any work computer a CCR user may have. The system interface shall be formatted to display at 800 by 600 pixel resolution.'\", \"class\": \"LF\"}, {\"ProjectID\": 13, \"RequirementText\": \"'The system interface will use CCR nomenclature. The system must use the same nomenclature used in the existing WCS system and reports'\", \"class\": \"LF\"}, {\"ProjectID\": 13, \"RequirementText\": \"'The interface must summarize the data in a fashion that\\u00ef\\u00bf\\u00bds appealing to CCR management. Every report type must have at least one high level summary shown in the results dashboard/interface'\", \"class\": \"LF\"}, {\"ProjectID\": 13, \"RequirementText\": \"'The system must use a point and click interface. 100\\\\% of all selection and navigation functionality must be able to be activated/selected by either a mouse or a keyboard'\", \"class\": \"US\"}, {\"ProjectID\": 13, \"RequirementText\": \"'The interface shall be easy to use. 90\\\\% of users should be able to successfully use the system to generate a report on their first use. The interface should adhere to IBM usability standards.'\", \"class\": \"US\"}, {\"ProjectID\": 13, \"RequirementText\": \"'Rreports must be easy to generate. eports must be generated within one button click and exported within one button click (after selecting the report)'\", \"class\": \"US\"}, {\"ProjectID\": 13, \"RequirementText\": \"'A user shall be able to use the system without instruction after a short amount of time. After one use a user should understand and remember 90\\\\% of the system usage and navigation.'\", \"class\": \"US\"}, {\"ProjectID\": 13, \"RequirementText\": \"'All CCR users shall receive training before the WCS system is deployed. One training session will be held for 100\\\\% of CCR users before system deployment (based on a CCR user being available)'\", \"class\": \"US\"}, {\"ProjectID\": 13, \"RequirementText\": \"'The WCS system shall use appropriate nomenclature and terminology as defined by the Corporate Community Grants organization. All interfaces and reports will undergo usability tests by CCR users.'\", \"class\": \"US\"}, {\"ProjectID\": 13, \"RequirementText\": \"'The WCS system shall be available at all times as long as IBM\\u00ef\\u00bf\\u00bds internal intranet W3 is accessible. The WCS system will be available 95\\\\% of the time IBM\\u00ef\\u00bf\\u00bds internal intranet W3 is available.'\", \"class\": \"A\"}, {\"ProjectID\": 13, \"RequirementText\": \"'The WCS system shall have the ability to connect other designated WCS databases currently not included in the system.'\", \"class\": \"SC\"}, {\"ProjectID\": 13, \"RequirementText\": \"'The WCS system shall have the ability to include data for regions outside the United States and be accessed by users outside of the United States if approved by CCR management.'\", \"class\": \"SC\"}, {\"ProjectID\": 13, \"RequirementText\": \"'The WCS system shall be run in a Windows environment. The WCS shall be accessed by users through the Internet on an IBM computer running a Windows 2000 or above operating system.'\", \"class\": \"O\"}, {\"ProjectID\": 13, \"RequirementText\": \"'The Brio portion of the WCS system must be able to export files in spreadsheet form (Microsoft Excel and Lotus 1-2-3 formats).  Brio will provide buttons in the user interface that produce/export reports in .xls or .123 file formats.'\", \"class\": \"O\"}, {\"ProjectID\": 13, \"RequirementText\": \"'The WCS system must run queries to the WCS databases once again (on a specified day) to update the available data available to CCR users. Queries must be made to external databases for data refresh once a week.'\", \"class\": \"MN\"}, {\"ProjectID\": 13, \"RequirementText\": \"' All changes  updates  and additions to the WCS system shall be updated in the WCS Developer and WCS User Guides. Every change must be reflected in WCS system documentation'\", \"class\": \"MN\"}, {\"ProjectID\": 13, \"RequirementText\": \"'The system shall only be accessed by authorized Corporate Community Grants (CCR) employees. Users must be authenticated using their IBM intranet user name and password.'\", \"class\": \"SE\"}, {\"ProjectID\": 13, \"RequirementText\": \"'The WCS system shall not allow automatic logins by any user. Cookies containing WCS login information about a user will not be stored on a user\\u00ef\\u00bf\\u00bds computer.'\", \"class\": \"SE\"}, {\"ProjectID\": 14, \"RequirementText\": \"'Each team owner will need to use a username and password in order to be authenticated to reach the team owner\\u00ef\\u00bf\\u00bds page'\", \"class\": \"SE\"}, {\"ProjectID\": 14, \"RequirementText\": \"'The Commissioner will be the only authorized user per league to adjust league settings.'\", \"class\": \"SE\"}, {\"ProjectID\": 14, \"RequirementText\": \"'Each page shall contain a navigation menu which shows the index into which the current page is contained.'\", \"class\": \"LF\"}, {\"ProjectID\": 14, \"RequirementText\": \"'Each page shall contain a similar format with action items in one location and navigation buttons in a different location.'\", \"class\": \"LF\"}, {\"ProjectID\": 14, \"RequirementText\": \"'The message board shall contain the 5 most recently posted messages on the league page. The messages will contain up to the first 150 characters of the message.'\", \"class\": \"LF\"}, {\"ProjectID\": 14, \"RequirementText\": \"'\\\\tA new user shall be able to navigate through the league and team pages within 30 seconds of reaching the start-up page.'\", \"class\": \"US\"}, {\"ProjectID\": 14, \"RequirementText\": \"' \\\\tUsers shall be able to reach the \\u00ef\\u00bf\\u00bdadd\\u00ef\\u00bf\\u00bd  \\u00ef\\u00bf\\u00bddrop\\u00ef\\u00bf\\u00bd  and \\u00ef\\u00bf\\u00bdtrade player\\u00ef\\u00bf\\u00bd pages with one click from the team owner\\u00ef\\u00bf\\u00bds page.'\", \"class\": \"US\"}, {\"ProjectID\": 14, \"RequirementText\": \"'\\\\tUsers shall be able to view at least 25 NFL player statistics and points on each page.'\", \"class\": \"US\"}, {\"ProjectID\": 14, \"RequirementText\": \"'The application shall ask the user to confirm dropping a player or trading a player before performing the action.'\", \"class\": \"US\"}, {\"ProjectID\": 14, \"RequirementText\": \"'The application shall be able to complete every user transaction within one fourth of a second of receiving the request over the network.'\", \"class\": \"PE\"}, {\"ProjectID\": 14, \"RequirementText\": \"'The application shall have a downtime of at most 10 minutes per year.'\", \"class\": \"A\"}, {\"ProjectID\": 14, \"RequirementText\": \"'The application shall run on a web application server.'\", \"class\": \"O\"}, {\"ProjectID\": 14, \"RequirementText\": \"'A primary database will be used to store cached data for active users.'\", \"class\": \"O\"}, {\"ProjectID\": 14, \"RequirementText\": \"'A secondary database will be used to store historical statistics and data.'\", \"class\": \"O\"}, {\"ProjectID\": 14, \"RequirementText\": \"'Application updates shall occur between 3AM and 6 AM CST on Wednesday morning during the middle of the NFL season.'\", \"class\": \"MN\"}, {\"ProjectID\": 14, \"RequirementText\": \"'New System version releases shall be released at the beginning of each NFL season.'\", \"class\": \"MN\"}, {\"ProjectID\": 15, \"RequirementText\": \"' \\\\tThe RFS system should be available 24/7  especially during the budgeting period. The RFS system shall be available 90\\\\% of the time all year  and 98\\\\% during the budgeting period. 2\\\\% of the time  the system will become available within 1 hour of the time that the situation is reported.'\", \"class\": \"A\"}, {\"ProjectID\": 15, \"RequirementText\": \"'98\\\\% of the user workstations shall meet the minimum hardware requirements prior to implementation. Minimum Hard Disk Space:  400MB.'\", \"class\": \"O\"}, {\"ProjectID\": 15, \"RequirementText\": \"'98\\\\% of the user workstations shall meet the minimum software requirements prior to implementation: Microsoft Internet Explorer 5.0. Microsoft .NET Framework 1.1. Microsoft Internet Explorer Web Controls'\", \"class\": \"O\"}, {\"ProjectID\": 15, \"RequirementText\": \"' \\\\tThe RFS system should be able to easily interface with the BDW environment  in order to load the data. \\u00ef\\u00bf\\u00bd\\\\t7 data files shall be received from the BDW and loaded into the RFS system within 3 hours one day prior to the start of budgeting process  every year. The data will be as of October month-end. \\\\tTest files (7) shall be loaded up to 5 times throughout the year  from the BDW.'\", \"class\": \"O\"}, {\"ProjectID\": 15, \"RequirementText\": \"' \\\\tChanges to revenue and expense formulae must be applied to the RFS system  every year  prior to the budgeting process start. Revenue and expense formulae will be updated within one week of their receipt  after which 2 weeks will be allotted to testing of the budget calculations  to be conducted jointly by the project development team and PCG Finance.'\", \"class\": \"MN\"}, {\"ProjectID\": 15, \"RequirementText\": \"' \\\\tNew branches/complexes/districts/regions and revenue/expense accounts added to the BDW  must be reflected in the RFS system. 100\\\\% of the entities (mentioned above) available as of October month-end  will be loaded into the RFS system  prior to the budget start process.'\", \"class\": \"MN\"}, {\"ProjectID\": 15, \"RequirementText\": \"' \\\\tOnly authorized user shall access the RFS system. ONLY users that exist in the UAS system  with the RFS system assigned to their role(s)  shall access the RFS system and use it.'\", \"class\": \"SE\"}, {\"ProjectID\": 15, \"RequirementText\": \"'\\\\tUser access should be limited to the permissions granted to their role(s) Each level in the PCG hierarchy will be assigned a role and users will be assigned to these roles. Access to functionality within RFS system is dependent on the privileges/permission assigned to the role..'\", \"class\": \"SE\"}, {\"ProjectID\": 15, \"RequirementText\": \"' \\\\tThe product must comply with the intranet page standards and requirements of ENET Securities. 95\\\\% of the product look & feel will be approved by the Architecture group  prior to implementation. The remaining 5\\\\% will be corrected and approved within one month of product release.'\", \"class\": \"LF\"}, {\"ProjectID\": 15, \"RequirementText\": \"' The intranet pages should display appropriately in all resolutions  from 800x600 and higher. The display of all the pages will be correct in 95\\\\% of the resolutions  prior to implementation. The remaining 5\\\\% will be corrected within a week of notification of the incorrect display.'\", \"class\": \"LF\"}, {\"ProjectID\": 15, \"RequirementText\": \"' \\\\tThe users should be able to easily use the system to successfully complete their budgets  within the stipulated time for completion. With a week of training prior to product implementation  98\\\\% of the users shall complete their budgets within the stipulated time.'\", \"class\": \"US\"}, {\"ProjectID\": 15, \"RequirementText\": \"' \\\\tThe product interface should be fast. The response time of the product interface should not exceed 2 seconds 90\\\\% of the time. For 10\\\\% of the time  the response time should not be more than 10 seconds.not be more than 10 seconds.'\", \"class\": \"PE\"}]}}, {\"mode\": \"vega-lite\"});\n",
       "</script>"
      ],
      "text/plain": [
       "alt.LayerChart(...)"
      ]
     },
     "execution_count": 3,
     "metadata": {},
     "output_type": "execute_result"
    }
   ],
   "source": [
    "bars = alt.Chart(data).mark_bar(size=50).encode(\n",
    "    x=alt.X(\"class\", axis=alt.Axis(title='Categoría')),\n",
    "    y=alt.Y(\"count():Q\", axis=alt.Axis(title='Frecuencia')),\n",
    "    tooltip=[alt.Tooltip('count()', title='Frecuencia'), 'class'],\n",
    "    color='class'\n",
    "\n",
    ")\n",
    "\n",
    "text = bars.mark_text(\n",
    "    align='center',\n",
    "    baseline='bottom',\n",
    ").encode(\n",
    "    text='count()'\n",
    ")\n",
    "\n",
    "(bars + text).interactive().properties(\n",
    "    height=300, \n",
    "    width=700,\n",
    "    title = \"Distribución de las Categorías\",\n",
    ")"
   ]
  },
  {
   "cell_type": "code",
   "execution_count": 4,
   "metadata": {},
   "outputs": [
    {
     "data": {
      "text/html": [
       "\n",
       "<div id=\"altair-viz-2\"></div>\n",
       "<script type=\"text/javascript\">\n",
       "  (function(spec, embedOpt){\n",
       "    const outputDiv = document.getElementById(\"altair-viz-2\");\n",
       "    const paths = {\n",
       "      \"vega\": \"https://cdn.jsdelivr.net/npm//vega@5?noext\",\n",
       "      \"vega-lib\": \"https://cdn.jsdelivr.net/npm//vega-lib?noext\",\n",
       "      \"vega-lite\": \"https://cdn.jsdelivr.net/npm//vega-lite@4.0.0?noext\",\n",
       "      \"vega-embed\": \"https://cdn.jsdelivr.net/npm//vega-embed@6?noext\",\n",
       "    };\n",
       "\n",
       "    function loadScript(lib) {\n",
       "      return new Promise(function(resolve, reject) {\n",
       "        var s = document.createElement('script');\n",
       "        s.src = paths[lib];\n",
       "        s.async = true;\n",
       "        s.onload = () => resolve(paths[lib]);\n",
       "        s.onerror = () => reject(`Error loading script: ${paths[lib]}`);\n",
       "        document.getElementsByTagName(\"head\")[0].appendChild(s);\n",
       "      });\n",
       "    }\n",
       "\n",
       "    function showError(err) {\n",
       "      outputDiv.innerHTML = `<div class=\"error\" style=\"color:red;\">${err}</div>`;\n",
       "      throw err;\n",
       "    }\n",
       "\n",
       "    function displayChart(vegaEmbed) {\n",
       "      vegaEmbed(outputDiv, spec, embedOpt)\n",
       "        .catch(err => showError(`Javascript Error: ${err.message}<br>This usually means there's a typo in your chart specification. See the javascript console for the full traceback.`));\n",
       "    }\n",
       "\n",
       "    if(typeof define === \"function\" && define.amd) {\n",
       "      requirejs.config({paths});\n",
       "      require([\"vega-embed\"], displayChart, err => showError(`Error loading script: ${err.message}`));\n",
       "    } else if (typeof vegaEmbed === \"function\") {\n",
       "      displayChart(vegaEmbed);\n",
       "    } else {\n",
       "      loadScript(\"vega\")\n",
       "        .then(() => loadScript(\"vega-lite\"))\n",
       "        .then(() => loadScript(\"vega-embed\"))\n",
       "        .catch(showError)\n",
       "        .then(() => displayChart(vegaEmbed));\n",
       "    }\n",
       "  })({\"config\": {\"view\": {\"continuousWidth\": 400, \"continuousHeight\": 300}}, \"layer\": [{\"mark\": {\"type\": \"bar\", \"size\": 50}, \"encoding\": {\"color\": {\"type\": \"nominal\", \"field\": \"class\"}, \"x\": {\"type\": \"nominal\", \"field\": \"class\"}, \"y\": {\"type\": \"quantitative\", \"axis\": {\"format\": \".0%\", \"title\": \"Porcentaje de requisitos\"}, \"field\": \"PercentOfTotal\"}}, \"selection\": {\"selector002\": {\"type\": \"interval\", \"bind\": \"scales\", \"encodings\": [\"x\", \"y\"]}}, \"transform\": [{\"window\": [{\"op\": \"sum\", \"field\": \"id\", \"as\": \"TotalArticles\"}], \"frame\": [null, null]}, {\"calculate\": \"datum.id / datum.TotalArticles\", \"as\": \"PercentOfTotal\"}]}, {\"mark\": {\"type\": \"text\", \"align\": \"center\", \"baseline\": \"bottom\"}, \"encoding\": {\"color\": {\"type\": \"nominal\", \"field\": \"class\"}, \"text\": {\"type\": \"quantitative\", \"field\": \"PercentOfTotal\", \"format\": \".2%\"}, \"x\": {\"type\": \"nominal\", \"field\": \"class\"}, \"y\": {\"type\": \"quantitative\", \"axis\": {\"format\": \".0%\", \"title\": \"Porcentaje de requisitos\"}, \"field\": \"PercentOfTotal\"}}, \"transform\": [{\"window\": [{\"op\": \"sum\", \"field\": \"id\", \"as\": \"TotalArticles\"}], \"frame\": [null, null]}, {\"calculate\": \"datum.id / datum.TotalArticles\", \"as\": \"PercentOfTotal\"}]}], \"data\": {\"name\": \"data-3990585a54f651560e17e83473af3e06\"}, \"height\": 300, \"title\": \"Distribuci\\u00f3n porcentual de las categor\\u00edas\", \"width\": 700, \"$schema\": \"https://vega.github.io/schema/vega-lite/v4.0.0.json\", \"datasets\": {\"data-3990585a54f651560e17e83473af3e06\": [{\"class\": \"A\", \"id\": 21}, {\"class\": \"F\", \"id\": 255}, {\"class\": \"FT\", \"id\": 10}, {\"class\": \"L\", \"id\": 13}, {\"class\": \"LF\", \"id\": 38}, {\"class\": \"MN\", \"id\": 17}, {\"class\": \"O\", \"id\": 62}, {\"class\": \"PE\", \"id\": 54}, {\"class\": \"PO\", \"id\": 1}, {\"class\": \"SC\", \"id\": 21}, {\"class\": \"SE\", \"id\": 66}, {\"class\": \"US\", \"id\": 67}]}}, {\"mode\": \"vega-lite\"});\n",
       "</script>"
      ],
      "text/plain": [
       "alt.LayerChart(...)"
      ]
     },
     "execution_count": 4,
     "metadata": {},
     "output_type": "execute_result"
    }
   ],
   "source": [
    "data['id'] = 1\n",
    "df2 = pd.DataFrame(data.groupby('class').count()['id']).reset_index()\n",
    "\n",
    "bars = alt.Chart(df2).mark_bar(size=50).encode(\n",
    "    x=alt.X('class'),\n",
    "    y=alt.Y('PercentOfTotal:Q', axis=alt.Axis(format='.0%', title='Porcentaje de requisitos')),\n",
    "    color='class'\n",
    ").transform_window(\n",
    "    TotalArticles='sum(id)',\n",
    "    frame=[None, None]\n",
    ").transform_calculate(\n",
    "    PercentOfTotal=\"datum.id / datum.TotalArticles\"\n",
    ")\n",
    "\n",
    "text = bars.mark_text(\n",
    "    align='center',\n",
    "    baseline='bottom',\n",
    "    #dx=5  # Nudges text to right so it doesn't appear on top of the bar\n",
    ").encode(\n",
    "    text=alt.Text('PercentOfTotal:Q', format='.2%')\n",
    ")\n",
    "\n",
    "(bars + text).interactive().properties(\n",
    "    height=300, \n",
    "    width=700,\n",
    "    title = \"Distribución porcentual de las categorías\",\n",
    ")"
   ]
  },
  {
   "cell_type": "code",
   "execution_count": 5,
   "metadata": {},
   "outputs": [
    {
     "data": {
      "image/png": "[encoded data removed]",
      "text/plain": [
       "<Waffle size 1296x720 with 1 Axes>"
      ]
     },
     "metadata": {
      "needs_background": "light"
     },
     "output_type": "display_data"
    }
   ],
   "source": [
    "percentage = data['class'].value_counts(normalize=True) * 100\n",
    "percentage = percentage.round(2)\n",
    "fig = plt.figure(\n",
    "    FigureClass=Waffle, \n",
    "    columns=60,\n",
    "    values=data['class'].value_counts(),\n",
    "    labels=[\"{0} ({1}%)\".format(k, v) for k, v in percentage.items()],\n",
    "    figsize=(18, 10),\n",
    "    legend={'loc': 'lower left', 'bbox_to_anchor': (0, -0.2), 'ncol': len(data), 'framealpha': 0},\n",
    ")\n",
    "plt.show()"
   ]
  },
  {
   "cell_type": "code",
   "execution_count": 6,
   "metadata": {},
   "outputs": [],
   "source": [
    "data['req_length'] = data['RequirementText'].str.len()"
   ]
  },
  {
   "cell_type": "code",
   "execution_count": 7,
   "metadata": {},
   "outputs": [
    {
     "data": {
      "image/png": "[encoded data removed]",
      "text/plain": [
       "<Figure size 921.6x432 with 1 Axes>"
      ]
     },
     "metadata": {
      "needs_background": "light"
     },
     "output_type": "display_data"
    }
   ],
   "source": [
    "plt.figure(figsize=(12.8,6))\n",
    "sns.distplot(data['req_length']).set_title('Distribución de tamaño de requisitos');"
   ]
  },
  {
   "cell_type": "code",
   "execution_count": 8,
   "metadata": {},
   "outputs": [
    {
     "data": {
      "text/plain": [
       "count    625.000000\n",
       "mean     122.480000\n",
       "std       62.126757\n",
       "min       40.000000\n",
       "25%       79.000000\n",
       "50%      107.000000\n",
       "75%      146.000000\n",
       "max      520.000000\n",
       "Name: req_length, dtype: float64"
      ]
     },
     "execution_count": 8,
     "metadata": {},
     "output_type": "execute_result"
    }
   ],
   "source": [
    "data['req_length'].describe()"
   ]
  },
  {
   "cell_type": "code",
   "execution_count": 9,
   "metadata": {},
   "outputs": [],
   "source": [
    "quantile_95 = data['req_length'].quantile(0.95)\n",
    "df_95 = data[data['req_length'] < quantile_95]"
   ]
  },
  {
   "cell_type": "code",
   "execution_count": 10,
   "metadata": {},
   "outputs": [
    {
     "data": {
      "image/png": "[encoded data removed]",
      "text/plain": [
       "<Figure size 921.6x432 with 1 Axes>"
      ]
     },
     "metadata": {
      "needs_background": "light"
     },
     "output_type": "display_data"
    }
   ],
   "source": [
    "plt.figure(figsize=(12.8,6))\n",
    "sns.distplot(df_95['req_length']).set_title('Distribución de tamaño de requisitos');"
   ]
  },
  {
   "cell_type": "code",
   "execution_count": 11,
   "metadata": {},
   "outputs": [
    {
     "data": {
      "image/png": "[encoded data removed]",
      "text/plain": [
       "<Figure size 921.6x432 with 1 Axes>"
      ]
     },
     "metadata": {
      "needs_background": "light"
     },
     "output_type": "display_data"
    }
   ],
   "source": [
    "plt.figure(figsize=(12.8,6))\n",
    "sns.boxplot(data=data, x='class', y='req_length', width=.5);"
   ]
  },
  {
   "cell_type": "code",
   "execution_count": 12,
   "metadata": {},
   "outputs": [
    {
     "data": {
      "image/png": "[encoded data removed]",
      "text/plain": [
       "<Figure size 921.6x432 with 1 Axes>"
      ]
     },
     "metadata": {
      "needs_background": "light"
     },
     "output_type": "display_data"
    }
   ],
   "source": [
    "plt.figure(figsize=(12.8,6))\n",
    "sns.boxplot(data=df_95, x='class', y='req_length');"
   ]
  },
  {
   "cell_type": "markdown",
   "metadata": {},
   "source": [
    "### Distribución de Dataset\n",
    "\n",
    "Análisis proporcionado en _Automatically Classifying Functional and Non-functional Requirements Using Supervised Machine Learning_\n",
    "\n",
    "| Categoría | Cantidad | Porcentage | Tamaño |\n",
    "| - | -: | -: | -: |\n",
    "| Funcional (F) | 255 | 40.80% | 20 |\n",
    "| Avalilability (A) | 21 | 3.36% | 19 |\n",
    "| Faul Tolerance (FT) | 10 | 1.60% | 19 |\n",
    "| Legal (L) | 13 | 2.08% | 18 |\n",
    "| Look & Feel (LF) | 38 | 6.08% | 20 |\n",
    "| Mantainabilty (MN) | 17 | 2.72% | 28 |\n",
    "| Operational (O) | 62 | 9.92% | 20 |\n",
    "| Performance (PE) | 54 | 8.64% | 22 |\n",
    "| Portability (PO) | 1 | 0.16% | 14 |\n",
    "| Scalability (SC) | 21 | 3.36% | 18 |\n",
    "| Security (SE) | 66 | 10.56% | 20 |\n",
    "| Usability (US) | 67 | 10.72% | 22 |\n",
    "| **Total** | **625** | **100%** |  |"
   ]
  },
  {
   "cell_type": "markdown",
   "metadata": {},
   "source": [
    "## Feature Engineering\n",
    "\n",
    "El procedimiento siguiente incluye el preprocesamiento del texto para el entrenamiento de los modelo de _machine learning_. Los pasos son lo siguientes:\n",
    "1. **Limpieza y preparación de texto:** Se retiran caracteres especiales, signos de puntuación, stop words y pronombres posesivos. Se hace una conversión a minúsculas y lemanización.\n",
    "2. **Label coding:** Se crea un diccionario para mapear cada categoría en un código específico.\n",
    "3. **Separación de _Train_ y _Test_ sets:** Preparación de conjuntos para uso de los modelos de ML\n",
    "4. **Representación de Texto:** Uso de puntuaciones TF-IDF para la representación de texto."
   ]
  },
  {
   "cell_type": "code",
   "execution_count": 43,
   "metadata": {
    "scrolled": true
   },
   "outputs": [],
   "source": [
    "import re\n",
    "import nltk\n",
    "from nltk.corpus import stopwords\n",
    "from nltk.stem import WordNetLemmatizer\n",
    "from sklearn.feature_extraction.text import TfidfVectorizer\n",
    "from sklearn.model_selection import train_test_split\n",
    "from sklearn.feature_selection import chi2\n",
    "import numpy as np"
   ]
  },
  {
   "cell_type": "markdown",
   "metadata": {},
   "source": [
    "### Limpieza y preparación de texto\n",
    "\n",
    "#### 1.1 Limpiado de caracteres especiales\n",
    "\n",
    "Se retiran los caracteres que se identifican de lasiguiente forma:\n",
    "\n",
    "* ``\\r``\n",
    "* ``\\n``\n",
    "* ``\\`` before possessive pronouns (`government's = government\\'s`)\n",
    "* ``\\`` before possessive pronouns 2 (`Yukos'` = `Yukos\\'`)\n",
    "* ``\"`` when quoting text"
   ]
  },
  {
   "cell_type": "code",
   "execution_count": 14,
   "metadata": {},
   "outputs": [],
   "source": [
    "data['Content_Parsed_1'] = data['RequirementText'].str.replace(r'\\\\r',' ', regex=True)\n",
    "data['Content_Parsed_1'] = data['Content_Parsed_1'].str.replace(r'\\\\n',' ', regex=True)\n",
    "data['Content_Parsed_1'] = data['Content_Parsed_1'].str.replace(r'\\\\t',' ', regex=True)\n",
    "data['Content_Parsed_1'] = data['Content_Parsed_1'].str.replace(r'    ',' ', regex=True)\n",
    "data['Content_Parsed_1'] = data['Content_Parsed_1'].str.replace(r'\"\"','', regex=True)"
   ]
  },
  {
   "cell_type": "markdown",
   "metadata": {},
   "source": [
    "#### 1.2 Upcase/downcase\n",
    "\n",
    "Conversión de todo el texto a minúsculas"
   ]
  },
  {
   "cell_type": "code",
   "execution_count": 15,
   "metadata": {},
   "outputs": [],
   "source": [
    "data['Content_Parsed_2'] = data['Content_Parsed_1'].str.lower()"
   ]
  },
  {
   "cell_type": "markdown",
   "metadata": {},
   "source": [
    "#### 1.3 Signos de puntuación\n",
    "\n",
    "Remoción de signos de puntuación, pues no agregan significado a la clasificación"
   ]
  },
  {
   "cell_type": "code",
   "execution_count": 16,
   "metadata": {},
   "outputs": [],
   "source": [
    "punctuation_signs = list(\"?:!.,;\")\n",
    "data['Content_Parsed_3'] = data['Content_Parsed_2']\n",
    "\n",
    "for punct_sign in punctuation_signs:\n",
    "    data['Content_Parsed_3'] = data['Content_Parsed_3'].str.replace(punct_sign, '')"
   ]
  },
  {
   "cell_type": "markdown",
   "metadata": {},
   "source": [
    "#### 1.4 Pronombres posesivos\n",
    "\n",
    "Se retiran todos los casos de poseción, pues no agregan significdo adicional, casos como `Luke's` se tornan `Luke`"
   ]
  },
  {
   "cell_type": "code",
   "execution_count": 17,
   "metadata": {},
   "outputs": [],
   "source": [
    "data['Content_Parsed_4'] = data['Content_Parsed_3'].str.replace(\"'s'\",\"\", regex=True)"
   ]
  },
  {
   "cell_type": "markdown",
   "metadata": {},
   "source": [
    "#### 1.5 Stemming y Lematization\n",
    "\n",
    "En este caso, se recurre únicamente a lemmatization, pues es normal que el proceso de stemming retorne palabras inexistentes. En el caso del análisis morfológico que utiliza la segunda opción, se obtienen lemmas, u orígenes morfológiocos de palabras."
   ]
  },
  {
   "cell_type": "code",
   "execution_count": 18,
   "metadata": {},
   "outputs": [
    {
     "name": "stdout",
     "output_type": "stream",
     "text": [
      "------------------------------------------------------------\n"
     ]
    },
    {
     "name": "stderr",
     "output_type": "stream",
     "text": [
      "[nltk_data] Downloading package punkt to /Users/adara/nltk_data...\n",
      "[nltk_data]   Package punkt is already up-to-date!\n",
      "[nltk_data] Downloading package wordnet to /Users/adara/nltk_data...\n",
      "[nltk_data]   Package wordnet is already up-to-date!\n"
     ]
    },
    {
     "data": {
      "text/plain": [
       "True"
      ]
     },
     "execution_count": 18,
     "metadata": {},
     "output_type": "execute_result"
    }
   ],
   "source": [
    "# Downloading punkt and wordnet from NLTK\n",
    "nltk.download('punkt')\n",
    "print(\"------------------------------------------------------------\")\n",
    "nltk.download('wordnet')"
   ]
  },
  {
   "cell_type": "code",
   "execution_count": 19,
   "metadata": {},
   "outputs": [],
   "source": [
    "wordnet_lemmatizer = WordNetLemmatizer()\n",
    "nrows = len(data)\n",
    "lemmatized_text_list = []\n",
    "\n",
    "for row in range(0, nrows):\n",
    "    \n",
    "    # Create an empty list containing lemmatized words\n",
    "    lemmatized_list = []\n",
    "    \n",
    "    # Save the text and its words into an object\n",
    "    text = data.loc[row]['Content_Parsed_4']\n",
    "    text_words = text.split(\" \")\n",
    "\n",
    "    # Iterate through every word to lemmatize\n",
    "    for word in text_words:\n",
    "        lemmatized_list.append(wordnet_lemmatizer.lemmatize(word, pos=\"v\"))\n",
    "        \n",
    "    # Join the list\n",
    "    lemmatized_text = \" \".join(lemmatized_list)\n",
    "    \n",
    "    # Append to the list containing the texts\n",
    "    lemmatized_text_list.append(lemmatized_text)"
   ]
  },
  {
   "cell_type": "code",
   "execution_count": 20,
   "metadata": {},
   "outputs": [],
   "source": [
    "data['Content_Parsed_5'] = lemmatized_text_list"
   ]
  },
  {
   "cell_type": "markdown",
   "metadata": {},
   "source": [
    "#### 1.6 Stop words\n",
    "\n",
    "Remoción de palabras que no agregan significado extra"
   ]
  },
  {
   "cell_type": "code",
   "execution_count": 21,
   "metadata": {
    "scrolled": true
   },
   "outputs": [
    {
     "name": "stderr",
     "output_type": "stream",
     "text": [
      "[nltk_data] Downloading package stopwords to /Users/adara/nltk_data...\n",
      "[nltk_data]   Package stopwords is already up-to-date!\n"
     ]
    },
    {
     "data": {
      "text/plain": [
       "True"
      ]
     },
     "execution_count": 21,
     "metadata": {},
     "output_type": "execute_result"
    }
   ],
   "source": [
    "# Downloading the stop words list\n",
    "nltk.download('stopwords')"
   ]
  },
  {
   "cell_type": "code",
   "execution_count": 22,
   "metadata": {},
   "outputs": [
    {
     "data": {
      "text/plain": [
       "['i', 'me', 'my', 'myself', 'we', 'our', 'ours', 'ourselves', 'you', \"you're\"]"
      ]
     },
     "execution_count": 22,
     "metadata": {},
     "output_type": "execute_result"
    }
   ],
   "source": [
    "# Loading the stop words in english\n",
    "stop_words = list(stopwords.words('english'))\n",
    "stop_words[0:10]"
   ]
  },
  {
   "cell_type": "code",
   "execution_count": 23,
   "metadata": {},
   "outputs": [],
   "source": [
    "data['Content_Parsed_6'] = data['Content_Parsed_5']\n",
    "\n",
    "for stop_word in stop_words:\n",
    "\n",
    "    regex_stopword = r\"\\b\" + stop_word + r\"\\b\"\n",
    "    data['Content_Parsed_6'] = data['Content_Parsed_6'].str.replace(regex_stopword, '')"
   ]
  },
  {
   "cell_type": "markdown",
   "metadata": {},
   "source": [
    "Es importante recordar, que aunque este preceso resulta con múltiples espacios entre oraciones, estos no significan semánticamente información extra. sin embargo también serán procesados en el proceso de `tokenize`.\n",
    "\n",
    "### Resultado\n",
    "\n",
    "Los siguientes son ejemplos de los cambios que sufre un requisito a lo largo de este procedimeinto:"
   ]
  },
  {
   "cell_type": "markdown",
   "metadata": {},
   "source": [
    "#### Requisito Original"
   ]
  },
  {
   "cell_type": "code",
   "execution_count": 24,
   "metadata": {},
   "outputs": [
    {
     "data": {
      "text/plain": [
       "\"'The product shall ensure that it can only be accessed by authorized users.  The product will be able to distinguish between authorized and unauthorized users in all access attempts'\""
      ]
     },
     "execution_count": 24,
     "metadata": {},
     "output_type": "execute_result"
    }
   ],
   "source": [
    "data.loc[5]['RequirementText']"
   ]
  },
  {
   "cell_type": "markdown",
   "metadata": {},
   "source": [
    "#### Remoción de caracteres especiales"
   ]
  },
  {
   "cell_type": "code",
   "execution_count": 25,
   "metadata": {},
   "outputs": [
    {
     "data": {
      "text/plain": [
       "\"'The product shall ensure that it can only be accessed by authorized users.  The product will be able to distinguish between authorized and unauthorized users in all access attempts'\""
      ]
     },
     "execution_count": 25,
     "metadata": {},
     "output_type": "execute_result"
    }
   ],
   "source": [
    "data.loc[5]['Content_Parsed_1']"
   ]
  },
  {
   "cell_type": "markdown",
   "metadata": {},
   "source": [
    "#### Minúsculas"
   ]
  },
  {
   "cell_type": "code",
   "execution_count": 26,
   "metadata": {},
   "outputs": [
    {
     "data": {
      "text/plain": [
       "\"'the product shall ensure that it can only be accessed by authorized users.  the product will be able to distinguish between authorized and unauthorized users in all access attempts'\""
      ]
     },
     "execution_count": 26,
     "metadata": {},
     "output_type": "execute_result"
    }
   ],
   "source": [
    "data.loc[5]['Content_Parsed_2']"
   ]
  },
  {
   "cell_type": "markdown",
   "metadata": {},
   "source": [
    "#### Signos de puntuación"
   ]
  },
  {
   "cell_type": "code",
   "execution_count": 27,
   "metadata": {},
   "outputs": [
    {
     "data": {
      "text/plain": [
       "\"'the product shall ensure that it can only be accessed by authorized users  the product will be able to distinguish between authorized and unauthorized users in all access attempts'\""
      ]
     },
     "execution_count": 27,
     "metadata": {},
     "output_type": "execute_result"
    }
   ],
   "source": [
    "data.loc[5]['Content_Parsed_3']"
   ]
  },
  {
   "cell_type": "markdown",
   "metadata": {},
   "source": [
    "#### Pronombres posesivos"
   ]
  },
  {
   "cell_type": "code",
   "execution_count": 28,
   "metadata": {},
   "outputs": [
    {
     "data": {
      "text/plain": [
       "\"'the product shall ensure that it can only be accessed by authorized users  the product will be able to distinguish between authorized and unauthorized users in all access attempts'\""
      ]
     },
     "execution_count": 28,
     "metadata": {},
     "output_type": "execute_result"
    }
   ],
   "source": [
    "data.loc[5]['Content_Parsed_4']"
   ]
  },
  {
   "cell_type": "markdown",
   "metadata": {},
   "source": [
    "#### Steeming y Lemmatization"
   ]
  },
  {
   "cell_type": "code",
   "execution_count": 29,
   "metadata": {},
   "outputs": [
    {
     "data": {
      "text/plain": [
       "\"'the product shall ensure that it can only be access by authorize users  the product will be able to distinguish between authorize and unauthorized users in all access attempts'\""
      ]
     },
     "execution_count": 29,
     "metadata": {},
     "output_type": "execute_result"
    }
   ],
   "source": [
    "data.loc[5]['Content_Parsed_5']"
   ]
  },
  {
   "cell_type": "markdown",
   "metadata": {},
   "source": [
    "#### Stop words"
   ]
  },
  {
   "cell_type": "code",
   "execution_count": 30,
   "metadata": {},
   "outputs": [
    {
     "data": {
      "text/plain": [
       "\"' product shall ensure      access  authorize users   product   able  distinguish  authorize  unauthorized users   access attempts'\""
      ]
     },
     "execution_count": 30,
     "metadata": {},
     "output_type": "execute_result"
    }
   ],
   "source": [
    "data.loc[5]['Content_Parsed_6']"
   ]
  },
  {
   "cell_type": "markdown",
   "metadata": {},
   "source": [
    "### Limpiado de pasos intermedios"
   ]
  },
  {
   "cell_type": "code",
   "execution_count": 31,
   "metadata": {},
   "outputs": [
    {
     "data": {
      "text/html": [
       "<div>\n",
       "<style scoped>\n",
       "    .dataframe tbody tr th:only-of-type {\n",
       "        vertical-align: middle;\n",
       "    }\n",
       "\n",
       "    .dataframe tbody tr th {\n",
       "        vertical-align: top;\n",
       "    }\n",
       "\n",
       "    .dataframe thead th {\n",
       "        text-align: right;\n",
       "    }\n",
       "</style>\n",
       "<table border=\"1\" class=\"dataframe\">\n",
       "  <thead>\n",
       "    <tr style=\"text-align: right;\">\n",
       "      <th></th>\n",
       "      <th>ProjectID</th>\n",
       "      <th>RequirementText</th>\n",
       "      <th>class</th>\n",
       "      <th>id</th>\n",
       "      <th>req_length</th>\n",
       "      <th>Content_Parsed_1</th>\n",
       "      <th>Content_Parsed_2</th>\n",
       "      <th>Content_Parsed_3</th>\n",
       "      <th>Content_Parsed_4</th>\n",
       "      <th>Content_Parsed_5</th>\n",
       "      <th>Content_Parsed_6</th>\n",
       "    </tr>\n",
       "  </thead>\n",
       "  <tbody>\n",
       "    <tr>\n",
       "      <td>0</td>\n",
       "      <td>1</td>\n",
       "      <td>'The system shall refresh the display every 60...</td>\n",
       "      <td>PE</td>\n",
       "      <td>1</td>\n",
       "      <td>56</td>\n",
       "      <td>'The system shall refresh the display every 60...</td>\n",
       "      <td>'the system shall refresh the display every 60...</td>\n",
       "      <td>'the system shall refresh the display every 60...</td>\n",
       "      <td>'the system shall refresh the display every 60...</td>\n",
       "      <td>'the system shall refresh the display every 60...</td>\n",
       "      <td>' system shall refresh  display every 60 seconds'</td>\n",
       "    </tr>\n",
       "    <tr>\n",
       "      <td>1</td>\n",
       "      <td>1</td>\n",
       "      <td>'The application shall match the color of the ...</td>\n",
       "      <td>LF</td>\n",
       "      <td>1</td>\n",
       "      <td>98</td>\n",
       "      <td>'The application shall match the color of the ...</td>\n",
       "      <td>'the application shall match the color of the ...</td>\n",
       "      <td>'the application shall match the color of the ...</td>\n",
       "      <td>'the application shall match the color of the ...</td>\n",
       "      <td>'the application shall match the color of the ...</td>\n",
       "      <td>' application shall match  color   schema set ...</td>\n",
       "    </tr>\n",
       "    <tr>\n",
       "      <td>2</td>\n",
       "      <td>1</td>\n",
       "      <td>' If projected  the data must be readable.  On...</td>\n",
       "      <td>US</td>\n",
       "      <td>1</td>\n",
       "      <td>163</td>\n",
       "      <td>' If projected  the data must be readable.  On...</td>\n",
       "      <td>' if projected  the data must be readable.  on...</td>\n",
       "      <td>' if projected  the data must be readable  on ...</td>\n",
       "      <td>' if projected  the data must be readable  on ...</td>\n",
       "      <td>' if project  the data must be readable  on a ...</td>\n",
       "      <td>'  project   data must  readable    10x10 proj...</td>\n",
       "    </tr>\n",
       "    <tr>\n",
       "      <td>3</td>\n",
       "      <td>1</td>\n",
       "      <td>' The product shall be available during normal...</td>\n",
       "      <td>A</td>\n",
       "      <td>1</td>\n",
       "      <td>200</td>\n",
       "      <td>' The product shall be available during normal...</td>\n",
       "      <td>' the product shall be available during normal...</td>\n",
       "      <td>' the product shall be available during normal...</td>\n",
       "      <td>' the product shall be available during normal...</td>\n",
       "      <td>' the product shall be available during normal...</td>\n",
       "      <td>'  product shall  available  normal business h...</td>\n",
       "    </tr>\n",
       "    <tr>\n",
       "      <td>4</td>\n",
       "      <td>1</td>\n",
       "      <td>' If projected  the data must be understandabl...</td>\n",
       "      <td>US</td>\n",
       "      <td>1</td>\n",
       "      <td>207</td>\n",
       "      <td>' If projected  the data must be understandabl...</td>\n",
       "      <td>' if projected  the data must be understandabl...</td>\n",
       "      <td>' if projected  the data must be understandabl...</td>\n",
       "      <td>' if projected  the data must be understandabl...</td>\n",
       "      <td>' if project  the data must be understandable ...</td>\n",
       "      <td>'  project   data must  understandable   10x10...</td>\n",
       "    </tr>\n",
       "    <tr>\n",
       "      <td>...</td>\n",
       "      <td>...</td>\n",
       "      <td>...</td>\n",
       "      <td>...</td>\n",
       "      <td>...</td>\n",
       "      <td>...</td>\n",
       "      <td>...</td>\n",
       "      <td>...</td>\n",
       "      <td>...</td>\n",
       "      <td>...</td>\n",
       "      <td>...</td>\n",
       "      <td>...</td>\n",
       "    </tr>\n",
       "    <tr>\n",
       "      <td>620</td>\n",
       "      <td>15</td>\n",
       "      <td>'\\tUser access should be limited to the permis...</td>\n",
       "      <td>SE</td>\n",
       "      <td>1</td>\n",
       "      <td>283</td>\n",
       "      <td>' User access should be limited to the permiss...</td>\n",
       "      <td>' user access should be limited to the permiss...</td>\n",
       "      <td>' user access should be limited to the permiss...</td>\n",
       "      <td>' user access should be limited to the permiss...</td>\n",
       "      <td>' user access should be limit to the permissio...</td>\n",
       "      <td>' user access   limit   permissions grant   ro...</td>\n",
       "    </tr>\n",
       "    <tr>\n",
       "      <td>621</td>\n",
       "      <td>15</td>\n",
       "      <td>' \\tThe product must comply with the intranet ...</td>\n",
       "      <td>LF</td>\n",
       "      <td>1</td>\n",
       "      <td>285</td>\n",
       "      <td>'  The product must comply with the intranet p...</td>\n",
       "      <td>'  the product must comply with the intranet p...</td>\n",
       "      <td>'  the product must comply with the intranet p...</td>\n",
       "      <td>'  the product must comply with the intranet p...</td>\n",
       "      <td>'  the product must comply with the intranet p...</td>\n",
       "      <td>'   product must comply   intranet page standa...</td>\n",
       "    </tr>\n",
       "    <tr>\n",
       "      <td>622</td>\n",
       "      <td>15</td>\n",
       "      <td>' The intranet pages should display appropriat...</td>\n",
       "      <td>LF</td>\n",
       "      <td>1</td>\n",
       "      <td>285</td>\n",
       "      <td>' The intranet pages should display appropriat...</td>\n",
       "      <td>' the intranet pages should display appropriat...</td>\n",
       "      <td>' the intranet pages should display appropriat...</td>\n",
       "      <td>' the intranet pages should display appropriat...</td>\n",
       "      <td>' the intranet page should display appropriate...</td>\n",
       "      <td>'  intranet page  display appropriately   reso...</td>\n",
       "    </tr>\n",
       "    <tr>\n",
       "      <td>623</td>\n",
       "      <td>15</td>\n",
       "      <td>' \\tThe users should be able to easily use the...</td>\n",
       "      <td>US</td>\n",
       "      <td>1</td>\n",
       "      <td>269</td>\n",
       "      <td>'  The users should be able to easily use the ...</td>\n",
       "      <td>'  the users should be able to easily use the ...</td>\n",
       "      <td>'  the users should be able to easily use the ...</td>\n",
       "      <td>'  the users should be able to easily use the ...</td>\n",
       "      <td>'  the users should be able to easily use the ...</td>\n",
       "      <td>'   users   able  easily use  system  successf...</td>\n",
       "    </tr>\n",
       "    <tr>\n",
       "      <td>624</td>\n",
       "      <td>15</td>\n",
       "      <td>' \\tThe product interface should be fast. The ...</td>\n",
       "      <td>PE</td>\n",
       "      <td>1</td>\n",
       "      <td>235</td>\n",
       "      <td>'  The product interface should be fast. The r...</td>\n",
       "      <td>'  the product interface should be fast. the r...</td>\n",
       "      <td>'  the product interface should be fast the re...</td>\n",
       "      <td>'  the product interface should be fast the re...</td>\n",
       "      <td>'  the product interface should be fast the re...</td>\n",
       "      <td>'   product interface   fast  response time   ...</td>\n",
       "    </tr>\n",
       "  </tbody>\n",
       "</table>\n",
       "<p>625 rows × 11 columns</p>\n",
       "</div>"
      ],
      "text/plain": [
       "     ProjectID                                    RequirementText class  id  \\\n",
       "0            1  'The system shall refresh the display every 60...    PE   1   \n",
       "1            1  'The application shall match the color of the ...    LF   1   \n",
       "2            1  ' If projected  the data must be readable.  On...    US   1   \n",
       "3            1  ' The product shall be available during normal...     A   1   \n",
       "4            1  ' If projected  the data must be understandabl...    US   1   \n",
       "..         ...                                                ...   ...  ..   \n",
       "620         15  '\\tUser access should be limited to the permis...    SE   1   \n",
       "621         15  ' \\tThe product must comply with the intranet ...    LF   1   \n",
       "622         15  ' The intranet pages should display appropriat...    LF   1   \n",
       "623         15  ' \\tThe users should be able to easily use the...    US   1   \n",
       "624         15  ' \\tThe product interface should be fast. The ...    PE   1   \n",
       "\n",
       "     req_length                                   Content_Parsed_1  \\\n",
       "0            56  'The system shall refresh the display every 60...   \n",
       "1            98  'The application shall match the color of the ...   \n",
       "2           163  ' If projected  the data must be readable.  On...   \n",
       "3           200  ' The product shall be available during normal...   \n",
       "4           207  ' If projected  the data must be understandabl...   \n",
       "..          ...                                                ...   \n",
       "620         283  ' User access should be limited to the permiss...   \n",
       "621         285  '  The product must comply with the intranet p...   \n",
       "622         285  ' The intranet pages should display appropriat...   \n",
       "623         269  '  The users should be able to easily use the ...   \n",
       "624         235  '  The product interface should be fast. The r...   \n",
       "\n",
       "                                      Content_Parsed_2  \\\n",
       "0    'the system shall refresh the display every 60...   \n",
       "1    'the application shall match the color of the ...   \n",
       "2    ' if projected  the data must be readable.  on...   \n",
       "3    ' the product shall be available during normal...   \n",
       "4    ' if projected  the data must be understandabl...   \n",
       "..                                                 ...   \n",
       "620  ' user access should be limited to the permiss...   \n",
       "621  '  the product must comply with the intranet p...   \n",
       "622  ' the intranet pages should display appropriat...   \n",
       "623  '  the users should be able to easily use the ...   \n",
       "624  '  the product interface should be fast. the r...   \n",
       "\n",
       "                                      Content_Parsed_3  \\\n",
       "0    'the system shall refresh the display every 60...   \n",
       "1    'the application shall match the color of the ...   \n",
       "2    ' if projected  the data must be readable  on ...   \n",
       "3    ' the product shall be available during normal...   \n",
       "4    ' if projected  the data must be understandabl...   \n",
       "..                                                 ...   \n",
       "620  ' user access should be limited to the permiss...   \n",
       "621  '  the product must comply with the intranet p...   \n",
       "622  ' the intranet pages should display appropriat...   \n",
       "623  '  the users should be able to easily use the ...   \n",
       "624  '  the product interface should be fast the re...   \n",
       "\n",
       "                                      Content_Parsed_4  \\\n",
       "0    'the system shall refresh the display every 60...   \n",
       "1    'the application shall match the color of the ...   \n",
       "2    ' if projected  the data must be readable  on ...   \n",
       "3    ' the product shall be available during normal...   \n",
       "4    ' if projected  the data must be understandabl...   \n",
       "..                                                 ...   \n",
       "620  ' user access should be limited to the permiss...   \n",
       "621  '  the product must comply with the intranet p...   \n",
       "622  ' the intranet pages should display appropriat...   \n",
       "623  '  the users should be able to easily use the ...   \n",
       "624  '  the product interface should be fast the re...   \n",
       "\n",
       "                                      Content_Parsed_5  \\\n",
       "0    'the system shall refresh the display every 60...   \n",
       "1    'the application shall match the color of the ...   \n",
       "2    ' if project  the data must be readable  on a ...   \n",
       "3    ' the product shall be available during normal...   \n",
       "4    ' if project  the data must be understandable ...   \n",
       "..                                                 ...   \n",
       "620  ' user access should be limit to the permissio...   \n",
       "621  '  the product must comply with the intranet p...   \n",
       "622  ' the intranet page should display appropriate...   \n",
       "623  '  the users should be able to easily use the ...   \n",
       "624  '  the product interface should be fast the re...   \n",
       "\n",
       "                                      Content_Parsed_6  \n",
       "0    ' system shall refresh  display every 60 seconds'  \n",
       "1    ' application shall match  color   schema set ...  \n",
       "2    '  project   data must  readable    10x10 proj...  \n",
       "3    '  product shall  available  normal business h...  \n",
       "4    '  project   data must  understandable   10x10...  \n",
       "..                                                 ...  \n",
       "620  ' user access   limit   permissions grant   ro...  \n",
       "621  '   product must comply   intranet page standa...  \n",
       "622  '  intranet page  display appropriately   reso...  \n",
       "623  '   users   able  easily use  system  successf...  \n",
       "624  '   product interface   fast  response time   ...  \n",
       "\n",
       "[625 rows x 11 columns]"
      ]
     },
     "execution_count": 31,
     "metadata": {},
     "output_type": "execute_result"
    }
   ],
   "source": [
    "data"
   ]
  },
  {
   "cell_type": "code",
   "execution_count": 32,
   "metadata": {},
   "outputs": [],
   "source": [
    "list_columns = [\"ProjectID\", \"RequirementText\", \"class\", \"id\", \"req_length\", 'Content_Parsed_6']\n",
    "data = data[list_columns]\n",
    "\n",
    "data = data.rename(columns={'Content_Parsed_6': 'Content_Parsed'})"
   ]
  },
  {
   "cell_type": "code",
   "execution_count": 33,
   "metadata": {},
   "outputs": [
    {
     "data": {
      "text/html": [
       "<div>\n",
       "<style scoped>\n",
       "    .dataframe tbody tr th:only-of-type {\n",
       "        vertical-align: middle;\n",
       "    }\n",
       "\n",
       "    .dataframe tbody tr th {\n",
       "        vertical-align: top;\n",
       "    }\n",
       "\n",
       "    .dataframe thead th {\n",
       "        text-align: right;\n",
       "    }\n",
       "</style>\n",
       "<table border=\"1\" class=\"dataframe\">\n",
       "  <thead>\n",
       "    <tr style=\"text-align: right;\">\n",
       "      <th></th>\n",
       "      <th>ProjectID</th>\n",
       "      <th>RequirementText</th>\n",
       "      <th>class</th>\n",
       "      <th>id</th>\n",
       "      <th>req_length</th>\n",
       "      <th>Content_Parsed</th>\n",
       "    </tr>\n",
       "  </thead>\n",
       "  <tbody>\n",
       "    <tr>\n",
       "      <td>0</td>\n",
       "      <td>1</td>\n",
       "      <td>'The system shall refresh the display every 60...</td>\n",
       "      <td>PE</td>\n",
       "      <td>1</td>\n",
       "      <td>56</td>\n",
       "      <td>' system shall refresh  display every 60 seconds'</td>\n",
       "    </tr>\n",
       "    <tr>\n",
       "      <td>1</td>\n",
       "      <td>1</td>\n",
       "      <td>'The application shall match the color of the ...</td>\n",
       "      <td>LF</td>\n",
       "      <td>1</td>\n",
       "      <td>98</td>\n",
       "      <td>' application shall match  color   schema set ...</td>\n",
       "    </tr>\n",
       "    <tr>\n",
       "      <td>2</td>\n",
       "      <td>1</td>\n",
       "      <td>' If projected  the data must be readable.  On...</td>\n",
       "      <td>US</td>\n",
       "      <td>1</td>\n",
       "      <td>163</td>\n",
       "      <td>'  project   data must  readable    10x10 proj...</td>\n",
       "    </tr>\n",
       "    <tr>\n",
       "      <td>3</td>\n",
       "      <td>1</td>\n",
       "      <td>' The product shall be available during normal...</td>\n",
       "      <td>A</td>\n",
       "      <td>1</td>\n",
       "      <td>200</td>\n",
       "      <td>'  product shall  available  normal business h...</td>\n",
       "    </tr>\n",
       "    <tr>\n",
       "      <td>4</td>\n",
       "      <td>1</td>\n",
       "      <td>' If projected  the data must be understandabl...</td>\n",
       "      <td>US</td>\n",
       "      <td>1</td>\n",
       "      <td>207</td>\n",
       "      <td>'  project   data must  understandable   10x10...</td>\n",
       "    </tr>\n",
       "    <tr>\n",
       "      <td>...</td>\n",
       "      <td>...</td>\n",
       "      <td>...</td>\n",
       "      <td>...</td>\n",
       "      <td>...</td>\n",
       "      <td>...</td>\n",
       "      <td>...</td>\n",
       "    </tr>\n",
       "    <tr>\n",
       "      <td>620</td>\n",
       "      <td>15</td>\n",
       "      <td>'\\tUser access should be limited to the permis...</td>\n",
       "      <td>SE</td>\n",
       "      <td>1</td>\n",
       "      <td>283</td>\n",
       "      <td>' user access   limit   permissions grant   ro...</td>\n",
       "    </tr>\n",
       "    <tr>\n",
       "      <td>621</td>\n",
       "      <td>15</td>\n",
       "      <td>' \\tThe product must comply with the intranet ...</td>\n",
       "      <td>LF</td>\n",
       "      <td>1</td>\n",
       "      <td>285</td>\n",
       "      <td>'   product must comply   intranet page standa...</td>\n",
       "    </tr>\n",
       "    <tr>\n",
       "      <td>622</td>\n",
       "      <td>15</td>\n",
       "      <td>' The intranet pages should display appropriat...</td>\n",
       "      <td>LF</td>\n",
       "      <td>1</td>\n",
       "      <td>285</td>\n",
       "      <td>'  intranet page  display appropriately   reso...</td>\n",
       "    </tr>\n",
       "    <tr>\n",
       "      <td>623</td>\n",
       "      <td>15</td>\n",
       "      <td>' \\tThe users should be able to easily use the...</td>\n",
       "      <td>US</td>\n",
       "      <td>1</td>\n",
       "      <td>269</td>\n",
       "      <td>'   users   able  easily use  system  successf...</td>\n",
       "    </tr>\n",
       "    <tr>\n",
       "      <td>624</td>\n",
       "      <td>15</td>\n",
       "      <td>' \\tThe product interface should be fast. The ...</td>\n",
       "      <td>PE</td>\n",
       "      <td>1</td>\n",
       "      <td>235</td>\n",
       "      <td>'   product interface   fast  response time   ...</td>\n",
       "    </tr>\n",
       "  </tbody>\n",
       "</table>\n",
       "<p>625 rows × 6 columns</p>\n",
       "</div>"
      ],
      "text/plain": [
       "     ProjectID                                    RequirementText class  id  \\\n",
       "0            1  'The system shall refresh the display every 60...    PE   1   \n",
       "1            1  'The application shall match the color of the ...    LF   1   \n",
       "2            1  ' If projected  the data must be readable.  On...    US   1   \n",
       "3            1  ' The product shall be available during normal...     A   1   \n",
       "4            1  ' If projected  the data must be understandabl...    US   1   \n",
       "..         ...                                                ...   ...  ..   \n",
       "620         15  '\\tUser access should be limited to the permis...    SE   1   \n",
       "621         15  ' \\tThe product must comply with the intranet ...    LF   1   \n",
       "622         15  ' The intranet pages should display appropriat...    LF   1   \n",
       "623         15  ' \\tThe users should be able to easily use the...    US   1   \n",
       "624         15  ' \\tThe product interface should be fast. The ...    PE   1   \n",
       "\n",
       "     req_length                                     Content_Parsed  \n",
       "0            56  ' system shall refresh  display every 60 seconds'  \n",
       "1            98  ' application shall match  color   schema set ...  \n",
       "2           163  '  project   data must  readable    10x10 proj...  \n",
       "3           200  '  product shall  available  normal business h...  \n",
       "4           207  '  project   data must  understandable   10x10...  \n",
       "..          ...                                                ...  \n",
       "620         283  ' user access   limit   permissions grant   ro...  \n",
       "621         285  '   product must comply   intranet page standa...  \n",
       "622         285  '  intranet page  display appropriately   reso...  \n",
       "623         269  '   users   able  easily use  system  successf...  \n",
       "624         235  '   product interface   fast  response time   ...  \n",
       "\n",
       "[625 rows x 6 columns]"
      ]
     },
     "execution_count": 33,
     "metadata": {},
     "output_type": "execute_result"
    }
   ],
   "source": [
    "data"
   ]
  },
  {
   "cell_type": "markdown",
   "metadata": {},
   "source": [
    "### Label coding\n",
    "\n",
    "Cración de un diccionario para discretizar las categorías:\n",
    "\n",
    "```python\n",
    "category_codes = {\n",
    "    'A': 0,\n",
    "    'F': 1,\n",
    "    'FT': 2,\n",
    "    'L': 3,\n",
    "    'LF': 4,\n",
    "    'MN': 5,\n",
    "    'O': 6,\n",
    "    'PE': 7,\n",
    "    'PO': 8,\n",
    "    'SC': 9,\n",
    "    'SE': 10,\n",
    "    'US': 11,\n",
    "}\n",
    "```"
   ]
  },
  {
   "cell_type": "code",
   "execution_count": 34,
   "metadata": {},
   "outputs": [],
   "source": [
    "category_codes = {\n",
    "    'A': 0,\n",
    "    'F': 1,\n",
    "    'FT': 2,\n",
    "    'L': 3,\n",
    "    'LF': 4,\n",
    "    'MN': 5,\n",
    "    'O': 6,\n",
    "    'PE': 7,\n",
    "    'PO': 8,\n",
    "    'SC': 9,\n",
    "    'SE': 10,\n",
    "    'US': 11,\n",
    "}"
   ]
  },
  {
   "cell_type": "code",
   "execution_count": 35,
   "metadata": {},
   "outputs": [],
   "source": [
    "# Category mapping\n",
    "data['Category_Code'] = data['class']\n",
    "data = data.replace({'Category_Code':category_codes})"
   ]
  },
  {
   "cell_type": "code",
   "execution_count": 36,
   "metadata": {},
   "outputs": [
    {
     "data": {
      "text/html": [
       "<div>\n",
       "<style scoped>\n",
       "    .dataframe tbody tr th:only-of-type {\n",
       "        vertical-align: middle;\n",
       "    }\n",
       "\n",
       "    .dataframe tbody tr th {\n",
       "        vertical-align: top;\n",
       "    }\n",
       "\n",
       "    .dataframe thead th {\n",
       "        text-align: right;\n",
       "    }\n",
       "</style>\n",
       "<table border=\"1\" class=\"dataframe\">\n",
       "  <thead>\n",
       "    <tr style=\"text-align: right;\">\n",
       "      <th></th>\n",
       "      <th>ProjectID</th>\n",
       "      <th>RequirementText</th>\n",
       "      <th>class</th>\n",
       "      <th>id</th>\n",
       "      <th>req_length</th>\n",
       "      <th>Content_Parsed</th>\n",
       "      <th>Category_Code</th>\n",
       "    </tr>\n",
       "  </thead>\n",
       "  <tbody>\n",
       "    <tr>\n",
       "      <td>0</td>\n",
       "      <td>1</td>\n",
       "      <td>'The system shall refresh the display every 60...</td>\n",
       "      <td>PE</td>\n",
       "      <td>1</td>\n",
       "      <td>56</td>\n",
       "      <td>' system shall refresh  display every 60 seconds'</td>\n",
       "      <td>7</td>\n",
       "    </tr>\n",
       "    <tr>\n",
       "      <td>1</td>\n",
       "      <td>1</td>\n",
       "      <td>'The application shall match the color of the ...</td>\n",
       "      <td>LF</td>\n",
       "      <td>1</td>\n",
       "      <td>98</td>\n",
       "      <td>' application shall match  color   schema set ...</td>\n",
       "      <td>4</td>\n",
       "    </tr>\n",
       "    <tr>\n",
       "      <td>2</td>\n",
       "      <td>1</td>\n",
       "      <td>' If projected  the data must be readable.  On...</td>\n",
       "      <td>US</td>\n",
       "      <td>1</td>\n",
       "      <td>163</td>\n",
       "      <td>'  project   data must  readable    10x10 proj...</td>\n",
       "      <td>11</td>\n",
       "    </tr>\n",
       "    <tr>\n",
       "      <td>3</td>\n",
       "      <td>1</td>\n",
       "      <td>' The product shall be available during normal...</td>\n",
       "      <td>A</td>\n",
       "      <td>1</td>\n",
       "      <td>200</td>\n",
       "      <td>'  product shall  available  normal business h...</td>\n",
       "      <td>0</td>\n",
       "    </tr>\n",
       "    <tr>\n",
       "      <td>4</td>\n",
       "      <td>1</td>\n",
       "      <td>' If projected  the data must be understandabl...</td>\n",
       "      <td>US</td>\n",
       "      <td>1</td>\n",
       "      <td>207</td>\n",
       "      <td>'  project   data must  understandable   10x10...</td>\n",
       "      <td>11</td>\n",
       "    </tr>\n",
       "    <tr>\n",
       "      <td>...</td>\n",
       "      <td>...</td>\n",
       "      <td>...</td>\n",
       "      <td>...</td>\n",
       "      <td>...</td>\n",
       "      <td>...</td>\n",
       "      <td>...</td>\n",
       "      <td>...</td>\n",
       "    </tr>\n",
       "    <tr>\n",
       "      <td>620</td>\n",
       "      <td>15</td>\n",
       "      <td>'\\tUser access should be limited to the permis...</td>\n",
       "      <td>SE</td>\n",
       "      <td>1</td>\n",
       "      <td>283</td>\n",
       "      <td>' user access   limit   permissions grant   ro...</td>\n",
       "      <td>10</td>\n",
       "    </tr>\n",
       "    <tr>\n",
       "      <td>621</td>\n",
       "      <td>15</td>\n",
       "      <td>' \\tThe product must comply with the intranet ...</td>\n",
       "      <td>LF</td>\n",
       "      <td>1</td>\n",
       "      <td>285</td>\n",
       "      <td>'   product must comply   intranet page standa...</td>\n",
       "      <td>4</td>\n",
       "    </tr>\n",
       "    <tr>\n",
       "      <td>622</td>\n",
       "      <td>15</td>\n",
       "      <td>' The intranet pages should display appropriat...</td>\n",
       "      <td>LF</td>\n",
       "      <td>1</td>\n",
       "      <td>285</td>\n",
       "      <td>'  intranet page  display appropriately   reso...</td>\n",
       "      <td>4</td>\n",
       "    </tr>\n",
       "    <tr>\n",
       "      <td>623</td>\n",
       "      <td>15</td>\n",
       "      <td>' \\tThe users should be able to easily use the...</td>\n",
       "      <td>US</td>\n",
       "      <td>1</td>\n",
       "      <td>269</td>\n",
       "      <td>'   users   able  easily use  system  successf...</td>\n",
       "      <td>11</td>\n",
       "    </tr>\n",
       "    <tr>\n",
       "      <td>624</td>\n",
       "      <td>15</td>\n",
       "      <td>' \\tThe product interface should be fast. The ...</td>\n",
       "      <td>PE</td>\n",
       "      <td>1</td>\n",
       "      <td>235</td>\n",
       "      <td>'   product interface   fast  response time   ...</td>\n",
       "      <td>7</td>\n",
       "    </tr>\n",
       "  </tbody>\n",
       "</table>\n",
       "<p>625 rows × 7 columns</p>\n",
       "</div>"
      ],
      "text/plain": [
       "     ProjectID                                    RequirementText class  id  \\\n",
       "0            1  'The system shall refresh the display every 60...    PE   1   \n",
       "1            1  'The application shall match the color of the ...    LF   1   \n",
       "2            1  ' If projected  the data must be readable.  On...    US   1   \n",
       "3            1  ' The product shall be available during normal...     A   1   \n",
       "4            1  ' If projected  the data must be understandabl...    US   1   \n",
       "..         ...                                                ...   ...  ..   \n",
       "620         15  '\\tUser access should be limited to the permis...    SE   1   \n",
       "621         15  ' \\tThe product must comply with the intranet ...    LF   1   \n",
       "622         15  ' The intranet pages should display appropriat...    LF   1   \n",
       "623         15  ' \\tThe users should be able to easily use the...    US   1   \n",
       "624         15  ' \\tThe product interface should be fast. The ...    PE   1   \n",
       "\n",
       "     req_length                                     Content_Parsed  \\\n",
       "0            56  ' system shall refresh  display every 60 seconds'   \n",
       "1            98  ' application shall match  color   schema set ...   \n",
       "2           163  '  project   data must  readable    10x10 proj...   \n",
       "3           200  '  product shall  available  normal business h...   \n",
       "4           207  '  project   data must  understandable   10x10...   \n",
       "..          ...                                                ...   \n",
       "620         283  ' user access   limit   permissions grant   ro...   \n",
       "621         285  '   product must comply   intranet page standa...   \n",
       "622         285  '  intranet page  display appropriately   reso...   \n",
       "623         269  '   users   able  easily use  system  successf...   \n",
       "624         235  '   product interface   fast  response time   ...   \n",
       "\n",
       "     Category_Code  \n",
       "0                7  \n",
       "1                4  \n",
       "2               11  \n",
       "3                0  \n",
       "4               11  \n",
       "..             ...  \n",
       "620             10  \n",
       "621              4  \n",
       "622              4  \n",
       "623             11  \n",
       "624              7  \n",
       "\n",
       "[625 rows x 7 columns]"
      ]
     },
     "execution_count": 36,
     "metadata": {},
     "output_type": "execute_result"
    }
   ],
   "source": [
    "data"
   ]
  },
  {
   "cell_type": "markdown",
   "metadata": {},
   "source": [
    "### Train - test split\n",
    "\n",
    "Separación de conjunto de entrenamiento y de prueba. Par este caso, se extrae una muestra pequeña de prueba, que representa el 15% del conjunto original."
   ]
  },
  {
   "cell_type": "code",
   "execution_count": 98,
   "metadata": {},
   "outputs": [],
   "source": [
    "X_train, X_test, y_train, y_test = train_test_split(data['Content_Parsed'], \n",
    "                                                    data['Category_Code'], \n",
    "                                                    test_size=0.10, \n",
    "                                                    random_state=8)"
   ]
  },
  {
   "cell_type": "markdown",
   "metadata": {},
   "source": [
    "### Representación de Texto\n",
    "\n",
    "Se identificán mútiples técnicas de representación textulal:\n",
    "\n",
    "* Count Vectors as features\n",
    "* TF-IDF Vectors as features\n",
    "* Word Embeddings as features\n",
    "* Text / NLP based features\n",
    "* Topic Models as features\n",
    "\n",
    "Se usará para esta práctica `TF-IDF Vectors as features`\n",
    "\n",
    "Está técnica requirede de múltiples parámetros:\n",
    "\n",
    "* `ngram_range`: We want to consider both unigrams and bigrams.\n",
    "* `max_df`: When building the vocabulary ignore terms that have a document\n",
    "    frequency strictly higher than the given threshold\n",
    "* `min_df`: When building the vocabulary ignore terms that have a document\n",
    "    frequency strictly lower than the given threshold.\n",
    "* `max_features`: If not None, build a vocabulary that only consider the top\n",
    "    max_features ordered by term frequency across the corpus.\n",
    "\n",
    "See `TfidfVectorizer?` for further detail.\n",
    "\n",
    "Es importante remarcar que se pueden experimentar con diferentes parámetros para maximizar la capacidad de predicción. Los parámetros iniciales son los siguientes:"
   ]
  },
  {
   "cell_type": "code",
   "execution_count": 99,
   "metadata": {},
   "outputs": [],
   "source": [
    "# Parameter election\n",
    "ngram_range = (1,2)\n",
    "min_df = 10\n",
    "max_df = 1.\n",
    "max_features = 300"
   ]
  },
  {
   "cell_type": "code",
   "execution_count": 100,
   "metadata": {},
   "outputs": [
    {
     "name": "stdout",
     "output_type": "stream",
     "text": [
      "(562, 155)\n",
      "(63, 155)\n"
     ]
    }
   ],
   "source": [
    "tfidf = TfidfVectorizer(encoding='utf-8',\n",
    "                        ngram_range=ngram_range,\n",
    "                        stop_words=None,\n",
    "                        lowercase=False,\n",
    "                        max_df=max_df,\n",
    "                        min_df=min_df,\n",
    "                        max_features=max_features,\n",
    "                        norm='l2',\n",
    "                        sublinear_tf=True)\n",
    "                        \n",
    "features_train = tfidf.fit_transform(X_train).toarray()\n",
    "labels_train = y_train\n",
    "print(features_train.shape)\n",
    "\n",
    "features_test = tfidf.transform(X_test).toarray()\n",
    "labels_test = y_test\n",
    "print(features_test.shape)"
   ]
  },
  {
   "cell_type": "markdown",
   "metadata": {},
   "source": [
    "En este caso sólo se realizó la transformación en el **test set**.\n",
    "\n",
    "Se puede utilizar el método de feature selection de Chi squared para identificar cómo se  orrelacionan los unigramas y bigramas de cada categoría:"
   ]
  },
  {
   "cell_type": "code",
   "execution_count": null,
   "metadata": {},
   "outputs": [],
   "source": [
    "from sklearn.feature_selection import chi2\n",
    "\n",
    "for Product, category_id in sorted(category_codes.items()):\n",
    "    features_chi2 = chi2(features_train, labels_train == category_id)\n",
    "    indices = np.argsort(features_chi2[0])\n",
    "    feature_names = np.array(tfidf.get_feature_names())[indices]\n",
    "    unigrams = [v for v in feature_names if len(v.split(' ')) == 1]\n",
    "    bigrams = [v for v in feature_names if len(v.split(' ')) == 2]\n",
    "    print(\"# '{}' category:\".format(Product))\n",
    "    print(\"  . Most correlated unigrams:\\n. {}\".format('\\n. '.join(unigrams[-5:])))\n",
    "    print(\"  . Most correlated bigrams:\\n. {}\".format('\\n. '.join(bigrams[-2:])))\n",
    "    print(\"\")"
   ]
  },
  {
   "cell_type": "markdown",
   "metadata": {},
   "source": [
    "Se puede notar que los bigramas más característicos coresponden a la estructura básica de un requisito: _\"El sistema deberá ...\", \"El producto deberá ...\", \"Los usuarios podrán...\"._\n",
    "\n",
    "De esta forma se identifican los unigramas como los más característicos de una categoría."
   ]
  },
  {
   "cell_type": "code",
   "execution_count": 102,
   "metadata": {},
   "outputs": [
    {
     "data": {
      "text/plain": [
       "['application shall',\n",
       " 'dispute application',\n",
       " 'system must',\n",
       " 'staff members',\n",
       " 'shall available',\n",
       " 'system shall',\n",
       " 'members shall',\n",
       " 'program administrators',\n",
       " 'shall allow',\n",
       " 'shall ability',\n",
       " 'include limit',\n",
       " 'allow user',\n",
       " 'program study',\n",
       " 'wcs system',\n",
       " 'shall provide',\n",
       " 'prefer repair',\n",
       " 'shall access',\n",
       " 'repair facility',\n",
       " 'website shall',\n",
       " 'dispute case',\n",
       " 'product must',\n",
       " 'nursing staff',\n",
       " 'recycle part',\n",
       " 'shall display',\n",
       " 'dispute system',\n",
       " 'shall able',\n",
       " 'administrators nursing',\n",
       " 'user shall',\n",
       " 'product shall',\n",
       " 'must able',\n",
       " 'users shall']"
      ]
     },
     "execution_count": 102,
     "metadata": {},
     "output_type": "execute_result"
    }
   ],
   "source": [
    "bigrams"
   ]
  },
  {
   "cell_type": "markdown",
   "metadata": {},
   "source": [
    "## Entrenamiento de Modelo de _Machine Learning_\n",
    "\n",
    "Una vez creados los _feature vectors_, se provarán con diferentes modelos de clasificación de ML, para identificar los que tengan el mejor rendimeinto. Se probarán: \n",
    "\n",
    "* Random Forest\n",
    "* Support Vector Machine\n",
    "* K Nearest Neighbors\n",
    "* Multinomial Naïve Bayes\n",
    "* Multinomial Logistic Regression\n",
    "* Gradient Boosting\n",
    "\n",
    "La metodología para el entrenamiento de cada modelo será la siguiente:\n",
    "\n",
    "1. Se deciden los hiperparámetros para afinar el modelo.\n",
    "2. Se definen las métricas con las que se entranará el modelo. Se probará `accuracy`, `precision`, `recall`y `F-measure`.\n",
    "3. Se realizará un proceso de `Randomized Search Cross Validation` para identificar la región de hiperparámetros con los que se logre la mayor `accuracy`.\n",
    "4. Una vez identificada la región, se usará un proceso de `Grid Search Cross Validation` para identificar de forma exhaustiva la mejor combinación de hiperparámetros.\n",
    "5. Conseguida la mejor combinación de hiperparámetros, se obtendrá el `accuracy` tanto del _training set_ como del _test set_, el reporte de la clasificación y la matriz de confusión.\n",
    "6. Finalmente, se calculará el `accuracy` de un modelo con hiperparámetros _default_, para identificar si es posible obtener mejores resultados a través de la afinación de estos parámetros.\n",
    "\n",
    "Es importante remarcar, que los modelos sólo tienen conocimiento de las _categorias_ que define el dataset, mas no es una taxonomía específica. Así mismo, de encontrarse atributos de calidad con otra categoría externa a las identificadas en el entrenamiento, es seguro que será mal clasificado."
   ]
  },
  {
   "cell_type": "markdown",
   "metadata": {},
   "source": [
    "### Random Forest"
   ]
  },
  {
   "cell_type": "code",
   "execution_count": 103,
   "metadata": {},
   "outputs": [],
   "source": [
    "from sklearn.ensemble import RandomForestClassifier\n",
    "from pprint import pprint\n",
    "from sklearn.model_selection import RandomizedSearchCV\n",
    "from sklearn.model_selection import GridSearchCV\n",
    "from sklearn.metrics import classification_report, confusion_matrix, accuracy_score\n",
    "from sklearn.model_selection import ShuffleSplit"
   ]
  },
  {
   "cell_type": "markdown",
   "metadata": {},
   "source": [
    "Dimensiones de los vectores:"
   ]
  },
  {
   "cell_type": "code",
   "execution_count": 104,
   "metadata": {},
   "outputs": [
    {
     "name": "stdout",
     "output_type": "stream",
     "text": [
      "(562, 155)\n",
      "(63, 155)\n"
     ]
    }
   ],
   "source": [
    "print(features_train.shape)\n",
    "print(features_test.shape)"
   ]
  },
  {
   "cell_type": "markdown",
   "metadata": {},
   "source": [
    "#### Cross-Validation for Hyperparameter tuning\n",
    "\n",
    "Hiperparámetros por defecto:"
   ]
  },
  {
   "cell_type": "code",
   "execution_count": 105,
   "metadata": {},
   "outputs": [
    {
     "name": "stdout",
     "output_type": "stream",
     "text": [
      "Parameters currently in use:\n",
      "\n",
      "{'bootstrap': True,\n",
      " 'class_weight': None,\n",
      " 'criterion': 'gini',\n",
      " 'max_depth': None,\n",
      " 'max_features': 'auto',\n",
      " 'max_leaf_nodes': None,\n",
      " 'min_impurity_decrease': 0.0,\n",
      " 'min_impurity_split': None,\n",
      " 'min_samples_leaf': 1,\n",
      " 'min_samples_split': 2,\n",
      " 'min_weight_fraction_leaf': 0.0,\n",
      " 'n_estimators': 'warn',\n",
      " 'n_jobs': None,\n",
      " 'oob_score': False,\n",
      " 'random_state': 8,\n",
      " 'verbose': 0,\n",
      " 'warm_start': False}\n"
     ]
    }
   ],
   "source": [
    "rf_0 = RandomForestClassifier(random_state = 8)\n",
    "\n",
    "print('Parameters currently in use:\\n')\n",
    "pprint(rf_0.get_params())"
   ]
  },
  {
   "cell_type": "markdown",
   "metadata": {},
   "source": [
    "Los hiperparámetros que se afinarán son los siguientes:\n",
    "\n",
    "* `n_estimators` = number of trees in the forest.\n",
    "* `max_features` = max number of features considered for splitting a node\n",
    "* `max_depth` = max number of levels in each decision tree\n",
    "* `min_samples_split` = min number of data points placed in a node before the node is split\n",
    "* `min_samples_leaf` = min number of data points allowed in a leaf node\n",
    "* `bootstrap` = method for sampling data points (with or without replacement)\n",
    "\n",
    "#### Randomized Search Cross Validation\n",
    "\n",
    "Se define el _grid_"
   ]
  },
  {
   "cell_type": "code",
   "execution_count": 107,
   "metadata": {},
   "outputs": [
    {
     "name": "stdout",
     "output_type": "stream",
     "text": [
      "{'bootstrap': [True, False],\n",
      " 'max_depth': [20, 40, 60, 80, 100, None],\n",
      " 'max_features': ['auto', 'sqrt'],\n",
      " 'min_samples_leaf': [1, 2, 4],\n",
      " 'min_samples_split': [2, 5, 10],\n",
      " 'n_estimators': [200, 400, 600, 800, 1000]}\n"
     ]
    }
   ],
   "source": [
    "# n_estimators\n",
    "n_estimators = [int(x) for x in np.linspace(start = 200, stop = 1000, num = 5)]\n",
    "\n",
    "# max_features\n",
    "max_features = ['auto', 'sqrt']\n",
    "\n",
    "# max_depth\n",
    "max_depth = [int(x) for x in np.linspace(20, 100, num = 5)]\n",
    "max_depth.append(None)\n",
    "\n",
    "# min_samples_split\n",
    "min_samples_split = [2, 5, 10]\n",
    "\n",
    "# min_samples_leaf\n",
    "min_samples_leaf = [1, 2, 4]\n",
    "\n",
    "# bootstrap\n",
    "bootstrap = [True, False]\n",
    "\n",
    "# Create the random grid\n",
    "random_grid = {'n_estimators': n_estimators,\n",
    "               'max_features': max_features,\n",
    "               'max_depth': max_depth,\n",
    "               'min_samples_split': min_samples_split,\n",
    "               'min_samples_leaf': min_samples_leaf,\n",
    "               'bootstrap': bootstrap}\n",
    "\n",
    "pprint(random_grid)"
   ]
  },
  {
   "cell_type": "markdown",
   "metadata": {},
   "source": [
    "##### Búsqueda aleatoria"
   ]
  },
  {
   "cell_type": "code",
   "execution_count": 108,
   "metadata": {},
   "outputs": [
    {
     "name": "stdout",
     "output_type": "stream",
     "text": [
      "Fitting 3 folds for each of 50 candidates, totalling 150 fits\n"
     ]
    },
    {
     "name": "stderr",
     "output_type": "stream",
     "text": [
      "[Parallel(n_jobs=1)]: Using backend SequentialBackend with 1 concurrent workers.\n",
      "[Parallel(n_jobs=1)]: Done 150 out of 150 | elapsed:  2.6min finished\n"
     ]
    },
    {
     "data": {
      "text/plain": [
       "RandomizedSearchCV(cv=3, error_score='raise-deprecating',\n",
       "                   estimator=RandomForestClassifier(bootstrap=True,\n",
       "                                                    class_weight=None,\n",
       "                                                    criterion='gini',\n",
       "                                                    max_depth=None,\n",
       "                                                    max_features='auto',\n",
       "                                                    max_leaf_nodes=None,\n",
       "                                                    min_impurity_decrease=0.0,\n",
       "                                                    min_impurity_split=None,\n",
       "                                                    min_samples_leaf=1,\n",
       "                                                    min_samples_split=2,\n",
       "                                                    min_weight_fraction_leaf=0.0,\n",
       "                                                    n_estimators='warn',\n",
       "                                                    n_jobs=None,\n",
       "                                                    oob_sc...\n",
       "                                                    warm_start=False),\n",
       "                   iid='warn', n_iter=50, n_jobs=None,\n",
       "                   param_distributions={'bootstrap': [True, False],\n",
       "                                        'max_depth': [20, 40, 60, 80, 100,\n",
       "                                                      None],\n",
       "                                        'max_features': ['auto', 'sqrt'],\n",
       "                                        'min_samples_leaf': [1, 2, 4],\n",
       "                                        'min_samples_split': [2, 5, 10],\n",
       "                                        'n_estimators': [200, 400, 600, 800,\n",
       "                                                         1000]},\n",
       "                   pre_dispatch='2*n_jobs', random_state=8, refit=True,\n",
       "                   return_train_score=False, scoring='accuracy', verbose=1)"
      ]
     },
     "execution_count": 108,
     "metadata": {},
     "output_type": "execute_result"
    }
   ],
   "source": [
    "# First create the base model to tune\n",
    "rfc = RandomForestClassifier(random_state=8)\n",
    "\n",
    "# Definition of the random search\n",
    "random_search = RandomizedSearchCV(estimator=rfc,\n",
    "                                   param_distributions=random_grid,\n",
    "                                   n_iter=50,\n",
    "                                   scoring='accuracy',\n",
    "                                   cv=3, \n",
    "                                   verbose=1, \n",
    "                                   random_state=8)\n",
    "\n",
    "# Fit the random search model\n",
    "random_search.fit(features_train, labels_train)"
   ]
  },
  {
   "cell_type": "markdown",
   "metadata": {},
   "source": [
    "Los mejores hiperparámetros encontrados en la búsqueda aleatoria son:"
   ]
  },
  {
   "cell_type": "code",
   "execution_count": 109,
   "metadata": {},
   "outputs": [
    {
     "name": "stdout",
     "output_type": "stream",
     "text": [
      "The best hyperparameters from Random Search are:\n",
      "{'n_estimators': 400, 'min_samples_split': 5, 'min_samples_leaf': 1, 'max_features': 'sqrt', 'max_depth': 40, 'bootstrap': False}\n",
      "\n",
      "The mean accuracy of a model with these hyperparameters is:\n",
      "0.6370106761565836\n"
     ]
    }
   ],
   "source": [
    "print(\"The best hyperparameters from Random Search are:\")\n",
    "print(random_search.best_params_)\n",
    "print(\"\")\n",
    "print(\"The mean accuracy of a model with these hyperparameters is:\")\n",
    "print(random_search.best_score_)"
   ]
  },
  {
   "cell_type": "markdown",
   "metadata": {},
   "source": [
    "A partir de la región de hiperparámetros identificados, se puede ser más específico por _Grid Search Cross Validation_"
   ]
  },
  {
   "cell_type": "markdown",
   "metadata": {},
   "source": [
    "#### Grid Search Cross Validation"
   ]
  },
  {
   "cell_type": "code",
   "execution_count": 111,
   "metadata": {},
   "outputs": [
    {
     "name": "stdout",
     "output_type": "stream",
     "text": [
      "Fitting 3 folds for each of 27 candidates, totalling 81 fits\n"
     ]
    },
    {
     "name": "stderr",
     "output_type": "stream",
     "text": [
      "[Parallel(n_jobs=1)]: Using backend SequentialBackend with 1 concurrent workers.\n",
      "[Parallel(n_jobs=1)]: Done  81 out of  81 | elapsed:   51.5s finished\n"
     ]
    },
    {
     "data": {
      "text/plain": [
       "GridSearchCV(cv=ShuffleSplit(n_splits=3, random_state=8, test_size=0.33, train_size=None),\n",
       "             error_score='raise-deprecating',\n",
       "             estimator=RandomForestClassifier(bootstrap=True, class_weight=None,\n",
       "                                              criterion='gini', max_depth=None,\n",
       "                                              max_features='auto',\n",
       "                                              max_leaf_nodes=None,\n",
       "                                              min_impurity_decrease=0.0,\n",
       "                                              min_impurity_split=None,\n",
       "                                              min_samples_leaf=1,\n",
       "                                              min_samples_split=2,\n",
       "                                              min_...\n",
       "                                              n_estimators='warn', n_jobs=None,\n",
       "                                              oob_score=False, random_state=8,\n",
       "                                              verbose=0, warm_start=False),\n",
       "             iid='warn', n_jobs=None,\n",
       "             param_grid={'bootstrap': [False], 'max_depth': [30, 40, 50],\n",
       "                         'max_features': ['sqrt'],\n",
       "                         'min_samples_leaf': [1, 2, 4],\n",
       "                         'min_samples_split': [2, 5, 10],\n",
       "                         'n_estimators': [400]},\n",
       "             pre_dispatch='2*n_jobs', refit=True, return_train_score=False,\n",
       "             scoring='accuracy', verbose=1)"
      ]
     },
     "execution_count": 111,
     "metadata": {},
     "output_type": "execute_result"
    }
   ],
   "source": [
    "# Create the parameter grid based on the results of random search \n",
    "bootstrap = [False]\n",
    "max_depth = [30, 40, 50]\n",
    "max_features = ['sqrt']\n",
    "min_samples_leaf = [1, 2, 4]\n",
    "min_samples_split = [2, 5, 10]\n",
    "n_estimators = [400]\n",
    "\n",
    "param_grid = {\n",
    "    'bootstrap': bootstrap,\n",
    "    'max_depth': max_depth,\n",
    "    'max_features': max_features,\n",
    "    'min_samples_leaf': min_samples_leaf,\n",
    "    'min_samples_split': min_samples_split,\n",
    "    'n_estimators': n_estimators\n",
    "}\n",
    "\n",
    "# Create a base model\n",
    "rfc = RandomForestClassifier(random_state=8)\n",
    "\n",
    "# Manually create the splits in CV in order to be able to fix a random_state (GridSearchCV doesn't have that argument)\n",
    "cv_sets = ShuffleSplit(n_splits = 3, test_size = .33, random_state = 8)\n",
    "\n",
    "# Instantiate the grid search model\n",
    "grid_search = GridSearchCV(estimator=rfc, \n",
    "                           param_grid=param_grid,\n",
    "                           scoring='accuracy',\n",
    "                           cv=cv_sets,\n",
    "                           verbose=1)\n",
    "\n",
    "# Fit the grid search to the data\n",
    "grid_search.fit(features_train, labels_train)"
   ]
  },
  {
   "cell_type": "markdown",
   "metadata": {},
   "source": [
    "Los mejores hiperparámetros obtenidos son los siguientes:"
   ]
  },
  {
   "cell_type": "code",
   "execution_count": 112,
   "metadata": {},
   "outputs": [
    {
     "name": "stdout",
     "output_type": "stream",
     "text": [
      "The best hyperparameters from Grid Search are:\n",
      "{'bootstrap': False, 'max_depth': 40, 'max_features': 'sqrt', 'min_samples_leaf': 1, 'min_samples_split': 5, 'n_estimators': 400}\n",
      "\n",
      "The mean accuracy of a model with these hyperparameters is:\n",
      "0.6146953405017921\n"
     ]
    }
   ],
   "source": [
    "print(\"The best hyperparameters from Grid Search are:\")\n",
    "print(grid_search.best_params_)\n",
    "print(\"\")\n",
    "print(\"The mean accuracy of a model with these hyperparameters is:\")\n",
    "print(grid_search.best_score_)"
   ]
  },
  {
   "cell_type": "markdown",
   "metadata": {},
   "source": [
    "Las características del mejor modelo de Random Forest determinado son las siguientes:"
   ]
  },
  {
   "cell_type": "code",
   "execution_count": 113,
   "metadata": {},
   "outputs": [
    {
     "data": {
      "text/plain": [
       "RandomForestClassifier(bootstrap=False, class_weight=None, criterion='gini',\n",
       "                       max_depth=40, max_features='sqrt', max_leaf_nodes=None,\n",
       "                       min_impurity_decrease=0.0, min_impurity_split=None,\n",
       "                       min_samples_leaf=1, min_samples_split=5,\n",
       "                       min_weight_fraction_leaf=0.0, n_estimators=400,\n",
       "                       n_jobs=None, oob_score=False, random_state=8, verbose=0,\n",
       "                       warm_start=False)"
      ]
     },
     "execution_count": 113,
     "metadata": {},
     "output_type": "execute_result"
    }
   ],
   "source": [
    "best_rfc = grid_search.best_estimator_\n",
    "best_rfc"
   ]
  },
  {
   "cell_type": "markdown",
   "metadata": {},
   "source": [
    "#### Ajuste del modelo y rendimiento\n",
    "\n",
    "Se ajusta el modelo con los datos de entrenamiento"
   ]
  },
  {
   "cell_type": "code",
   "execution_count": 114,
   "metadata": {},
   "outputs": [
    {
     "data": {
      "text/plain": [
       "RandomForestClassifier(bootstrap=False, class_weight=None, criterion='gini',\n",
       "                       max_depth=40, max_features='sqrt', max_leaf_nodes=None,\n",
       "                       min_impurity_decrease=0.0, min_impurity_split=None,\n",
       "                       min_samples_leaf=1, min_samples_split=5,\n",
       "                       min_weight_fraction_leaf=0.0, n_estimators=400,\n",
       "                       n_jobs=None, oob_score=False, random_state=8, verbose=0,\n",
       "                       warm_start=False)"
      ]
     },
     "execution_count": 114,
     "metadata": {},
     "output_type": "execute_result"
    }
   ],
   "source": [
    "best_rfc.fit(features_train, labels_train)"
   ]
  },
  {
   "cell_type": "markdown",
   "metadata": {},
   "source": [
    "Se calculan las predicciones"
   ]
  },
  {
   "cell_type": "code",
   "execution_count": 115,
   "metadata": {},
   "outputs": [],
   "source": [
    "rfc_pred = best_rfc.predict(features_test)"
   ]
  },
  {
   "cell_type": "markdown",
   "metadata": {},
   "source": [
    "The conditional class probabilities can be obtained by typing:\n",
    "\n",
    "`rfc_pred = best_rfc.predict_proba(features_test)`\n",
    "\n",
    "Para el análisis del rendimiento se usarán una matriz de confusión, un reporte del clasificador y el `accuracy`con los conjuntos de entrenamiento y de prueba.\n",
    "\n",
    "##### Training Accuracy"
   ]
  },
  {
   "cell_type": "code",
   "execution_count": 116,
   "metadata": {},
   "outputs": [
    {
     "name": "stdout",
     "output_type": "stream",
     "text": [
      "The training accuracy is: \n",
      "0.9822064056939501\n"
     ]
    }
   ],
   "source": [
    "# Training accuracy\n",
    "print(\"The training accuracy is: \")\n",
    "print(accuracy_score(labels_train, best_rfc.predict(features_train)))"
   ]
  },
  {
   "cell_type": "markdown",
   "metadata": {},
   "source": [
    "##### Test Accuracy"
   ]
  },
  {
   "cell_type": "code",
   "execution_count": 117,
   "metadata": {},
   "outputs": [
    {
     "name": "stdout",
     "output_type": "stream",
     "text": [
      "The test accuracy is: \n",
      "0.7619047619047619\n"
     ]
    }
   ],
   "source": [
    "# Test accuracy\n",
    "print(\"The test accuracy is: \")\n",
    "print(accuracy_score(labels_test, rfc_pred))"
   ]
  },
  {
   "cell_type": "markdown",
   "metadata": {},
   "source": [
    "#### Classification Report"
   ]
  },
  {
   "cell_type": "code",
   "execution_count": 139,
   "metadata": {},
   "outputs": [
    {
     "name": "stdout",
     "output_type": "stream",
     "text": [
      "Classification report\n",
      "              precision    recall  f1-score   support\n",
      "\n",
      "           0       0.00      0.00      0.00         1\n",
      "           1       0.81      0.97      0.88        30\n",
      "           2       1.00      0.33      0.50         3\n",
      "           4       0.50      0.67      0.57         3\n",
      "           5       0.00      0.00      0.00         0\n",
      "           6       0.75      0.75      0.75         8\n",
      "           7       1.00      1.00      1.00         3\n",
      "           9       1.00      0.33      0.50         3\n",
      "          10       0.67      0.29      0.40         7\n",
      "          11       0.67      0.80      0.73         5\n",
      "\n",
      "    accuracy                           0.76        63\n",
      "   macro avg       0.64      0.51      0.53        63\n",
      "weighted avg       0.77      0.76      0.74        63\n",
      "\n"
     ]
    }
   ],
   "source": [
    "# Classification report\n",
    "print(\"Classification report\")\n",
    "print(classification_report(labels_test,rfc_pred))"
   ]
  },
  {
   "cell_type": "markdown",
   "metadata": {},
   "source": [
    "#### Matriz de Confusión"
   ]
  },
  {
   "cell_type": "code",
   "execution_count": 140,
   "metadata": {},
   "outputs": [
    {
     "data": {
      "image/png": "[encoded data removed]",
      "text/plain": [
       "<Figure size 921.6x432 with 2 Axes>"
      ]
     },
     "metadata": {},
     "output_type": "display_data"
    }
   ],
   "source": [
    "aux_df = data[['class', 'Category_Code']].drop_duplicates().sort_values('Category_Code')\n",
    "conf_matrix = confusion_matrix(labels_test, rfc_pred)\n",
    "plt.figure(figsize=(12.8,6))\n",
    "sns.heatmap(conf_matrix, \n",
    "            annot=True,\n",
    "            xticklabels=aux_df['class'].values, \n",
    "            yticklabels=aux_df['class'].values,\n",
    "            cmap=\"Blues\")\n",
    "plt.ylabel('Predicted')\n",
    "plt.xlabel('Actual')\n",
    "plt.title('Confusion matrix')\n",
    "plt.show()"
   ]
  },
  {
   "cell_type": "markdown",
   "metadata": {},
   "source": [
    "Comparación de afinado de hiperparámetros"
   ]
  },
  {
   "cell_type": "code",
   "execution_count": 120,
   "metadata": {},
   "outputs": [
    {
     "data": {
      "text/plain": [
       "0.7142857142857143"
      ]
     },
     "execution_count": 120,
     "metadata": {},
     "output_type": "execute_result"
    }
   ],
   "source": [
    "base_model = RandomForestClassifier(random_state = 8)\n",
    "base_model.fit(features_train, labels_train)\n",
    "accuracy_score(labels_test, base_model.predict(features_test))"
   ]
  },
  {
   "cell_type": "code",
   "execution_count": 121,
   "metadata": {},
   "outputs": [
    {
     "data": {
      "text/plain": [
       "0.7619047619047619"
      ]
     },
     "execution_count": 121,
     "metadata": {},
     "output_type": "execute_result"
    }
   ],
   "source": [
    "best_rfc.fit(features_train, labels_train)\n",
    "accuracy_score(labels_test, best_rfc.predict(features_test))"
   ]
  },
  {
   "cell_type": "markdown",
   "metadata": {},
   "source": [
    "Dado que se realizará un análisis comparativo de modelos, se guardará el rendimeinto de Random Forest"
   ]
  },
  {
   "cell_type": "code",
   "execution_count": 122,
   "metadata": {},
   "outputs": [],
   "source": [
    "d = {\n",
    "     'Model': 'Random Forest',\n",
    "     'Training Set Accuracy': accuracy_score(labels_train, best_rfc.predict(features_train)),\n",
    "     'Test Set Accuracy': accuracy_score(labels_test, rfc_pred)\n",
    "}\n",
    "\n",
    "df_models_rfc = pd.DataFrame(d, index=[0])"
   ]
  },
  {
   "cell_type": "code",
   "execution_count": 123,
   "metadata": {},
   "outputs": [
    {
     "data": {
      "text/html": [
       "<div>\n",
       "<style scoped>\n",
       "    .dataframe tbody tr th:only-of-type {\n",
       "        vertical-align: middle;\n",
       "    }\n",
       "\n",
       "    .dataframe tbody tr th {\n",
       "        vertical-align: top;\n",
       "    }\n",
       "\n",
       "    .dataframe thead th {\n",
       "        text-align: right;\n",
       "    }\n",
       "</style>\n",
       "<table border=\"1\" class=\"dataframe\">\n",
       "  <thead>\n",
       "    <tr style=\"text-align: right;\">\n",
       "      <th></th>\n",
       "      <th>Model</th>\n",
       "      <th>Training Set Accuracy</th>\n",
       "      <th>Test Set Accuracy</th>\n",
       "    </tr>\n",
       "  </thead>\n",
       "  <tbody>\n",
       "    <tr>\n",
       "      <td>0</td>\n",
       "      <td>Random Forest</td>\n",
       "      <td>0.982206</td>\n",
       "      <td>0.761905</td>\n",
       "    </tr>\n",
       "  </tbody>\n",
       "</table>\n",
       "</div>"
      ],
      "text/plain": [
       "           Model  Training Set Accuracy  Test Set Accuracy\n",
       "0  Random Forest               0.982206           0.761905"
      ]
     },
     "execution_count": 123,
     "metadata": {},
     "output_type": "execute_result"
    }
   ],
   "source": [
    "df_models_rfc"
   ]
  },
  {
   "cell_type": "markdown",
   "metadata": {},
   "source": [
    "Guardado de modelo"
   ]
  },
  {
   "cell_type": "code",
   "execution_count": 124,
   "metadata": {},
   "outputs": [],
   "source": [
    "with open('./models/best_rfc.pickle', 'wb') as output:\n",
    "    pickle.dump(best_rfc, output)\n",
    "    \n",
    "with open('./models/df_models_rfc.pickle', 'wb') as output:\n",
    "    pickle.dump(df_models_rfc, output)"
   ]
  },
  {
   "cell_type": "markdown",
   "metadata": {},
   "source": [
    "### Support Vector Machine"
   ]
  },
  {
   "cell_type": "code",
   "execution_count": 125,
   "metadata": {},
   "outputs": [],
   "source": [
    "from sklearn import svm"
   ]
  },
  {
   "cell_type": "markdown",
   "metadata": {},
   "source": [
    "#### Cross-Validation for Hyperparameter tuning\n",
    "Hiperparámetros por defecto:"
   ]
  },
  {
   "cell_type": "code",
   "execution_count": 126,
   "metadata": {},
   "outputs": [
    {
     "name": "stdout",
     "output_type": "stream",
     "text": [
      "Parameters currently in use:\n",
      "\n",
      "{'C': 1.0,\n",
      " 'cache_size': 200,\n",
      " 'class_weight': None,\n",
      " 'coef0': 0.0,\n",
      " 'decision_function_shape': 'ovr',\n",
      " 'degree': 3,\n",
      " 'gamma': 'auto_deprecated',\n",
      " 'kernel': 'rbf',\n",
      " 'max_iter': -1,\n",
      " 'probability': False,\n",
      " 'random_state': 8,\n",
      " 'shrinking': True,\n",
      " 'tol': 0.001,\n",
      " 'verbose': False}\n"
     ]
    }
   ],
   "source": [
    "svc_0 =svm.SVC(random_state=8)\n",
    "\n",
    "print('Parameters currently in use:\\n')\n",
    "pprint(svc_0.get_params())"
   ]
  },
  {
   "cell_type": "markdown",
   "metadata": {},
   "source": [
    "We'll tune the following ones:\n",
    "\n",
    "* `C`: Penalty parameter C of the error term.\n",
    "* `kernel`: Specifies the kernel type to be used in the algorithm.\n",
    "* `gamma`: Kernel coefficient.\n",
    "* `degree`: Degree of the polynomial kernel function.\n",
    "\n",
    "#### Randomized Search Cross Validation\n",
    "\n",
    "Se define el siguiente _grid_:"
   ]
  },
  {
   "cell_type": "code",
   "execution_count": 127,
   "metadata": {},
   "outputs": [
    {
     "name": "stdout",
     "output_type": "stream",
     "text": [
      "{'C': [0.0001, 0.001, 0.01],\n",
      " 'degree': [1, 2, 3, 4, 5],\n",
      " 'gamma': [0.0001, 0.001, 0.01, 0.1, 1, 10, 100],\n",
      " 'kernel': ['linear', 'rbf', 'poly'],\n",
      " 'probability': [True]}\n"
     ]
    }
   ],
   "source": [
    "# C\n",
    "C = [.0001, .001, .01]\n",
    "\n",
    "# gamma\n",
    "gamma = [.0001, .001, .01, .1, 1, 10, 100]\n",
    "\n",
    "# degree\n",
    "degree = [1, 2, 3, 4, 5]\n",
    "\n",
    "# kernel\n",
    "kernel = ['linear', 'rbf', 'poly']\n",
    "\n",
    "# probability\n",
    "probability = [True]\n",
    "\n",
    "# Create the random grid\n",
    "random_grid = {'C': C,\n",
    "              'kernel': kernel,\n",
    "              'gamma': gamma,\n",
    "              'degree': degree,\n",
    "              'probability': probability\n",
    "             }\n",
    "\n",
    "pprint(random_grid)"
   ]
  },
  {
   "cell_type": "markdown",
   "metadata": {},
   "source": [
    "Se realiza la búsqueda aleatoria:"
   ]
  },
  {
   "cell_type": "code",
   "execution_count": 128,
   "metadata": {},
   "outputs": [
    {
     "name": "stdout",
     "output_type": "stream",
     "text": [
      "Fitting 3 folds for each of 50 candidates, totalling 150 fits\n"
     ]
    },
    {
     "name": "stderr",
     "output_type": "stream",
     "text": [
      "[Parallel(n_jobs=1)]: Using backend SequentialBackend with 1 concurrent workers.\n",
      "[Parallel(n_jobs=1)]: Done 150 out of 150 | elapsed:   27.4s finished\n"
     ]
    },
    {
     "data": {
      "text/plain": [
       "RandomizedSearchCV(cv=3, error_score='raise-deprecating',\n",
       "                   estimator=SVC(C=1.0, cache_size=200, class_weight=None,\n",
       "                                 coef0=0.0, decision_function_shape='ovr',\n",
       "                                 degree=3, gamma='auto_deprecated',\n",
       "                                 kernel='rbf', max_iter=-1, probability=False,\n",
       "                                 random_state=8, shrinking=True, tol=0.001,\n",
       "                                 verbose=False),\n",
       "                   iid='warn', n_iter=50, n_jobs=None,\n",
       "                   param_distributions={'C': [0.0001, 0.001, 0.01],\n",
       "                                        'degree': [1, 2, 3, 4, 5],\n",
       "                                        'gamma': [0.0001, 0.001, 0.01, 0.1, 1,\n",
       "                                                  10, 100],\n",
       "                                        'kernel': ['linear', 'rbf', 'poly'],\n",
       "                                        'probability': [True]},\n",
       "                   pre_dispatch='2*n_jobs', random_state=8, refit=True,\n",
       "                   return_train_score=False, scoring='accuracy', verbose=1)"
      ]
     },
     "execution_count": 128,
     "metadata": {},
     "output_type": "execute_result"
    }
   ],
   "source": [
    "# First create the base model to tune\n",
    "svc = svm.SVC(random_state=8)\n",
    "\n",
    "# Definition of the random search\n",
    "random_search = RandomizedSearchCV(estimator=svc,\n",
    "                                   param_distributions=random_grid,\n",
    "                                   n_iter=50,\n",
    "                                   scoring='accuracy',\n",
    "                                   cv=3, \n",
    "                                   verbose=1, \n",
    "                                   random_state=8)\n",
    "\n",
    "# Fit the random search model\n",
    "random_search.fit(features_train, labels_train)"
   ]
  },
  {
   "cell_type": "markdown",
   "metadata": {},
   "source": [
    "Los mejores hiperparámetros encontrados en la búsqueda aleatoria son:"
   ]
  },
  {
   "cell_type": "code",
   "execution_count": 129,
   "metadata": {},
   "outputs": [
    {
     "name": "stdout",
     "output_type": "stream",
     "text": [
      "The best hyperparameters from Random Search are:\n",
      "{'probability': True, 'kernel': 'poly', 'gamma': 10, 'degree': 4, 'C': 0.01}\n",
      "\n",
      "The mean accuracy of a model with these hyperparameters is:\n",
      "0.5249110320284698\n"
     ]
    }
   ],
   "source": [
    "print(\"The best hyperparameters from Random Search are:\")\n",
    "print(random_search.best_params_)\n",
    "print(\"\")\n",
    "print(\"The mean accuracy of a model with these hyperparameters is:\")\n",
    "print(random_search.best_score_)"
   ]
  },
  {
   "cell_type": "markdown",
   "metadata": {},
   "source": [
    "A partir de la región de hiperparámetros identificados, se puede ser más específico por _Grid Search Cross Validation_\n",
    "\n",
    "#### Grid Search Cross Validation"
   ]
  },
  {
   "cell_type": "code",
   "execution_count": 130,
   "metadata": {},
   "outputs": [
    {
     "name": "stdout",
     "output_type": "stream",
     "text": [
      "Fitting 3 folds for each of 28 candidates, totalling 84 fits\n"
     ]
    },
    {
     "name": "stderr",
     "output_type": "stream",
     "text": [
      "[Parallel(n_jobs=1)]: Using backend SequentialBackend with 1 concurrent workers.\n",
      "[Parallel(n_jobs=1)]: Done  84 out of  84 | elapsed:   17.5s finished\n"
     ]
    },
    {
     "data": {
      "text/plain": [
       "GridSearchCV(cv=ShuffleSplit(n_splits=3, random_state=8, test_size=0.33, train_size=None),\n",
       "             error_score='raise-deprecating',\n",
       "             estimator=SVC(C=1.0, cache_size=200, class_weight=None, coef0=0.0,\n",
       "                           decision_function_shape='ovr', degree=3,\n",
       "                           gamma='auto_deprecated', kernel='rbf', max_iter=-1,\n",
       "                           probability=False, random_state=8, shrinking=True,\n",
       "                           tol=0.001, verbose=False),\n",
       "             iid='wa...one,\n",
       "             param_grid=[{'C': [0.0001, 0.001, 0.01, 0.1], 'kernel': ['linear'],\n",
       "                          'probability': [True]},\n",
       "                         {'C': [0.0001, 0.001, 0.01, 0.1], 'degree': [3, 4, 5],\n",
       "                          'kernel': ['poly'], 'probability': [True]},\n",
       "                         {'C': [0.0001, 0.001, 0.01, 0.1],\n",
       "                          'gamma': [1, 10, 100], 'kernel': ['rbf'],\n",
       "                          'probability': [True]}],\n",
       "             pre_dispatch='2*n_jobs', refit=True, return_train_score=False,\n",
       "             scoring='accuracy', verbose=1)"
      ]
     },
     "execution_count": 130,
     "metadata": {},
     "output_type": "execute_result"
    }
   ],
   "source": [
    "# Create the parameter grid based on the results of random search \n",
    "C = [.0001, .001, .01, .1]\n",
    "degree = [3, 4, 5]\n",
    "gamma = [1, 10, 100]\n",
    "probability = [True]\n",
    "\n",
    "param_grid = [\n",
    "  {'C': C, 'kernel':['linear'], 'probability':probability},\n",
    "  {'C': C, 'kernel':['poly'], 'degree':degree, 'probability':probability},\n",
    "  {'C': C, 'kernel':['rbf'], 'gamma':gamma, 'probability':probability}\n",
    "]\n",
    "\n",
    "# Create a base model\n",
    "svc = svm.SVC(random_state=8)\n",
    "\n",
    "# Manually create the splits in CV in order to be able to fix a random_state (GridSearchCV doesn't have that argument)\n",
    "cv_sets = ShuffleSplit(n_splits = 3, test_size = .33, random_state = 8)\n",
    "\n",
    "# Instantiate the grid search model\n",
    "grid_search = GridSearchCV(estimator=svc, \n",
    "                           param_grid=param_grid,\n",
    "                           scoring='accuracy',\n",
    "                           cv=cv_sets,\n",
    "                           verbose=1)\n",
    "\n",
    "# Fit the grid search to the data\n",
    "grid_search.fit(features_train, labels_train)"
   ]
  },
  {
   "cell_type": "markdown",
   "metadata": {},
   "source": [
    "Los mejores hiperparámetros encontrados son:"
   ]
  },
  {
   "cell_type": "code",
   "execution_count": 131,
   "metadata": {},
   "outputs": [
    {
     "name": "stdout",
     "output_type": "stream",
     "text": [
      "The best hyperparameters from Grid Search are:\n",
      "{'C': 0.0001, 'kernel': 'linear', 'probability': True}\n",
      "\n",
      "The mean accuracy of a model with these hyperparameters is:\n",
      "0.3888888888888889\n"
     ]
    }
   ],
   "source": [
    "print(\"The best hyperparameters from Grid Search are:\")\n",
    "print(grid_search.best_params_)\n",
    "print(\"\")\n",
    "print(\"The mean accuracy of a model with these hyperparameters is:\")\n",
    "print(grid_search.best_score_)"
   ]
  },
  {
   "cell_type": "code",
   "execution_count": 132,
   "metadata": {},
   "outputs": [
    {
     "data": {
      "text/plain": [
       "SVC(C=0.0001, cache_size=200, class_weight=None, coef0=0.0,\n",
       "    decision_function_shape='ovr', degree=3, gamma='auto_deprecated',\n",
       "    kernel='linear', max_iter=-1, probability=True, random_state=8,\n",
       "    shrinking=True, tol=0.001, verbose=False)"
      ]
     },
     "execution_count": 132,
     "metadata": {},
     "output_type": "execute_result"
    }
   ],
   "source": [
    "best_svc = grid_search.best_estimator_\n",
    "best_svc"
   ]
  },
  {
   "cell_type": "markdown",
   "metadata": {},
   "source": [
    "#### Ajuste del modelo y rendimiento\n",
    "\n",
    "Se ajusta el modelo con los datos de entrenamiento"
   ]
  },
  {
   "cell_type": "code",
   "execution_count": 133,
   "metadata": {},
   "outputs": [
    {
     "data": {
      "text/plain": [
       "SVC(C=0.0001, cache_size=200, class_weight=None, coef0=0.0,\n",
       "    decision_function_shape='ovr', degree=3, gamma='auto_deprecated',\n",
       "    kernel='linear', max_iter=-1, probability=True, random_state=8,\n",
       "    shrinking=True, tol=0.001, verbose=False)"
      ]
     },
     "execution_count": 133,
     "metadata": {},
     "output_type": "execute_result"
    }
   ],
   "source": [
    "best_svc.fit(features_train, labels_train)"
   ]
  },
  {
   "cell_type": "markdown",
   "metadata": {},
   "source": [
    "Se calculan las predicciones"
   ]
  },
  {
   "cell_type": "code",
   "execution_count": 134,
   "metadata": {},
   "outputs": [],
   "source": [
    "svc_pred = best_svc.predict(features_test)"
   ]
  },
  {
   "cell_type": "markdown",
   "metadata": {},
   "source": [
    "The conditional class probabilities can be obtained by typing:\n",
    "\n",
    "`svc_pred = best_svc.predict_proba(features_test)`\n",
    "\n",
    "Para el análisis del rendimiento se usarán una matriz de confusión, un reporte del clasificador y el `accuracy`con los conjuntos de entrenamiento y de prueba.\n",
    "\n",
    "##### Training Accuracy"
   ]
  },
  {
   "cell_type": "code",
   "execution_count": 135,
   "metadata": {},
   "outputs": [
    {
     "name": "stdout",
     "output_type": "stream",
     "text": [
      "The training accuracy is: \n",
      "0.400355871886121\n"
     ]
    }
   ],
   "source": [
    "# Training accuracy\n",
    "print(\"The training accuracy is: \")\n",
    "print(accuracy_score(labels_train, best_svc.predict(features_train)))"
   ]
  },
  {
   "cell_type": "markdown",
   "metadata": {},
   "source": [
    "##### Test Accuracy"
   ]
  },
  {
   "cell_type": "code",
   "execution_count": 136,
   "metadata": {},
   "outputs": [
    {
     "name": "stdout",
     "output_type": "stream",
     "text": [
      "The test accuracy is: \n",
      "0.47619047619047616\n"
     ]
    }
   ],
   "source": [
    "# Test accuracy\n",
    "print(\"The test accuracy is: \")\n",
    "print(accuracy_score(labels_test, svc_pred))"
   ]
  },
  {
   "cell_type": "markdown",
   "metadata": {},
   "source": [
    "#### Classification Report"
   ]
  },
  {
   "cell_type": "code",
   "execution_count": 137,
   "metadata": {},
   "outputs": [
    {
     "name": "stdout",
     "output_type": "stream",
     "text": [
      "Classification report\n",
      "              precision    recall  f1-score   support\n",
      "\n",
      "           0       0.00      0.00      0.00         1\n",
      "           1       0.48      1.00      0.65        30\n",
      "           2       0.00      0.00      0.00         3\n",
      "           4       0.00      0.00      0.00         3\n",
      "           6       0.00      0.00      0.00         8\n",
      "           7       0.00      0.00      0.00         3\n",
      "           9       0.00      0.00      0.00         3\n",
      "          10       0.00      0.00      0.00         7\n",
      "          11       0.00      0.00      0.00         5\n",
      "\n",
      "    accuracy                           0.48        63\n",
      "   macro avg       0.05      0.11      0.07        63\n",
      "weighted avg       0.23      0.48      0.31        63\n",
      "\n"
     ]
    }
   ],
   "source": [
    "# Classification report\n",
    "print(\"Classification report\")\n",
    "print(classification_report(labels_test,svc_pred))"
   ]
  },
  {
   "cell_type": "markdown",
   "metadata": {},
   "source": [
    "#### Matriz de Confusión"
   ]
  },
  {
   "cell_type": "code",
   "execution_count": 138,
   "metadata": {},
   "outputs": [
    {
     "data": {
      "image/png": "[encoded data removed]",
      "text/plain": [
       "<Figure size 921.6x432 with 2 Axes>"
      ]
     },
     "metadata": {},
     "output_type": "display_data"
    }
   ],
   "source": [
    "aux_df = data[['class', 'Category_Code']].drop_duplicates().sort_values('Category_Code')\n",
    "conf_matrix = confusion_matrix(labels_test, svc_pred)\n",
    "plt.figure(figsize=(12.8,6))\n",
    "sns.heatmap(conf_matrix, \n",
    "            annot=True,\n",
    "            xticklabels=aux_df['class'].values, \n",
    "            yticklabels=aux_df['class'].values,\n",
    "            cmap=\"Blues\")\n",
    "plt.ylabel('Predicted')\n",
    "plt.xlabel('Actual')\n",
    "plt.title('Confusion matrix')\n",
    "plt.show()"
   ]
  },
  {
   "cell_type": "markdown",
   "metadata": {},
   "source": [
    "Comparación de afinado de hiperparámetros"
   ]
  },
  {
   "cell_type": "code",
   "execution_count": 141,
   "metadata": {},
   "outputs": [
    {
     "data": {
      "text/plain": [
       "0.47619047619047616"
      ]
     },
     "execution_count": 141,
     "metadata": {},
     "output_type": "execute_result"
    }
   ],
   "source": [
    "base_model = svm.SVC(random_state = 8)\n",
    "base_model.fit(features_train, labels_train)\n",
    "accuracy_score(labels_test, base_model.predict(features_test))"
   ]
  },
  {
   "cell_type": "code",
   "execution_count": 142,
   "metadata": {},
   "outputs": [
    {
     "data": {
      "text/plain": [
       "0.47619047619047616"
      ]
     },
     "execution_count": 142,
     "metadata": {},
     "output_type": "execute_result"
    }
   ],
   "source": [
    "best_svc.fit(features_train, labels_train)\n",
    "accuracy_score(labels_test, best_svc.predict(features_test))"
   ]
  },
  {
   "cell_type": "markdown",
   "metadata": {},
   "source": [
    "Dado que se realizará un análisis comparativo de modelos, se guardará el rendimeinto de Random Forest"
   ]
  },
  {
   "cell_type": "code",
   "execution_count": 143,
   "metadata": {},
   "outputs": [],
   "source": [
    "d = {\n",
    "     'Model': 'SVM',\n",
    "     'Training Set Accuracy': accuracy_score(labels_train, best_svc.predict(features_train)),\n",
    "     'Test Set Accuracy': accuracy_score(labels_test, svc_pred)\n",
    "}\n",
    "\n",
    "df_models_svc = pd.DataFrame(d, index=[0])"
   ]
  },
  {
   "cell_type": "code",
   "execution_count": 145,
   "metadata": {},
   "outputs": [
    {
     "data": {
      "text/html": [
       "<div>\n",
       "<style scoped>\n",
       "    .dataframe tbody tr th:only-of-type {\n",
       "        vertical-align: middle;\n",
       "    }\n",
       "\n",
       "    .dataframe tbody tr th {\n",
       "        vertical-align: top;\n",
       "    }\n",
       "\n",
       "    .dataframe thead th {\n",
       "        text-align: right;\n",
       "    }\n",
       "</style>\n",
       "<table border=\"1\" class=\"dataframe\">\n",
       "  <thead>\n",
       "    <tr style=\"text-align: right;\">\n",
       "      <th></th>\n",
       "      <th>Model</th>\n",
       "      <th>Training Set Accuracy</th>\n",
       "      <th>Test Set Accuracy</th>\n",
       "    </tr>\n",
       "  </thead>\n",
       "  <tbody>\n",
       "    <tr>\n",
       "      <td>0</td>\n",
       "      <td>SVM</td>\n",
       "      <td>0.400356</td>\n",
       "      <td>0.47619</td>\n",
       "    </tr>\n",
       "  </tbody>\n",
       "</table>\n",
       "</div>"
      ],
      "text/plain": [
       "  Model  Training Set Accuracy  Test Set Accuracy\n",
       "0   SVM               0.400356            0.47619"
      ]
     },
     "execution_count": 145,
     "metadata": {},
     "output_type": "execute_result"
    }
   ],
   "source": [
    "df_models_svc"
   ]
  },
  {
   "cell_type": "markdown",
   "metadata": {},
   "source": [
    "Guardado del modelo"
   ]
  },
  {
   "cell_type": "code",
   "execution_count": 146,
   "metadata": {},
   "outputs": [],
   "source": [
    "with open('Models/best_svc.pickle', 'wb') as output:\n",
    "    pickle.dump(best_svc, output)\n",
    "    \n",
    "with open('Models/df_models_svc.pickle', 'wb') as output:\n",
    "    pickle.dump(df_models_svc, output)"
   ]
  },
  {
   "cell_type": "code",
   "execution_count": null,
   "metadata": {},
   "outputs": [],
   "source": []
  }
 ],
 "metadata": {
  "kernelspec": {
   "display_name": "Python 3",
   "language": "python",
   "name": "python3"
  },
  "language_info": {
   "codemirror_mode": {
    "name": "ipython",
    "version": 3
   },
   "file_extension": ".py",
   "mimetype": "text/x-python",
   "name": "python",
   "nbconvert_exporter": "python",
   "pygments_lexer": "ipython3",
   "version": "3.7.5"
  }
 },
 "nbformat": 4,
 "nbformat_minor": 4
}
